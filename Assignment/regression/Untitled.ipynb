{
 "cells": [
  {
   "cell_type": "code",
   "execution_count": 1,
   "id": "32505039",
   "metadata": {},
   "outputs": [],
   "source": [
    "import numpy as np\n",
    "import pandas as pd\n",
    "import matplotlib.pyplot as plt\n",
    "from sklearn.metrics import mean_squared_error\n",
    "import seaborn as sb\n",
    "%matplotlib inline"
   ]
  },
  {
   "cell_type": "code",
   "execution_count": 2,
   "id": "32c61782",
   "metadata": {},
   "outputs": [],
   "source": [
    "data_frame=pd.read_csv(\"diamonds.csv\")"
   ]
  },
  {
   "cell_type": "code",
   "execution_count": 3,
   "id": "594297d9",
   "metadata": {},
   "outputs": [
    {
     "data": {
      "text/plain": [
       "593340"
      ]
     },
     "execution_count": 3,
     "metadata": {},
     "output_type": "execute_result"
    }
   ],
   "source": [
    "data_frame.describe()\n",
    "data_frame.size"
   ]
  },
  {
   "cell_type": "code",
   "execution_count": 19,
   "id": "4fe34df6",
   "metadata": {},
   "outputs": [
    {
     "data": {
      "text/html": [
       "<div>\n",
       "<style scoped>\n",
       "    .dataframe tbody tr th:only-of-type {\n",
       "        vertical-align: middle;\n",
       "    }\n",
       "\n",
       "    .dataframe tbody tr th {\n",
       "        vertical-align: top;\n",
       "    }\n",
       "\n",
       "    .dataframe thead th {\n",
       "        text-align: right;\n",
       "    }\n",
       "</style>\n",
       "<table border=\"1\" class=\"dataframe\">\n",
       "  <thead>\n",
       "    <tr style=\"text-align: right;\">\n",
       "      <th></th>\n",
       "      <th>Unnamed: 0</th>\n",
       "      <th>carat</th>\n",
       "      <th>cut</th>\n",
       "      <th>color</th>\n",
       "      <th>clarity</th>\n",
       "      <th>depth</th>\n",
       "      <th>table</th>\n",
       "      <th>price</th>\n",
       "      <th>x</th>\n",
       "      <th>y</th>\n",
       "      <th>z</th>\n",
       "    </tr>\n",
       "  </thead>\n",
       "  <tbody>\n",
       "    <tr>\n",
       "      <th>0</th>\n",
       "      <td>1</td>\n",
       "      <td>0.23</td>\n",
       "      <td>Ideal</td>\n",
       "      <td>E</td>\n",
       "      <td>SI2</td>\n",
       "      <td>61.5</td>\n",
       "      <td>55.0</td>\n",
       "      <td>326</td>\n",
       "      <td>3.95</td>\n",
       "      <td>3.98</td>\n",
       "      <td>2.43</td>\n",
       "    </tr>\n",
       "    <tr>\n",
       "      <th>1</th>\n",
       "      <td>2</td>\n",
       "      <td>0.21</td>\n",
       "      <td>Premium</td>\n",
       "      <td>E</td>\n",
       "      <td>SI1</td>\n",
       "      <td>59.8</td>\n",
       "      <td>61.0</td>\n",
       "      <td>326</td>\n",
       "      <td>3.89</td>\n",
       "      <td>3.84</td>\n",
       "      <td>2.31</td>\n",
       "    </tr>\n",
       "    <tr>\n",
       "      <th>2</th>\n",
       "      <td>3</td>\n",
       "      <td>0.23</td>\n",
       "      <td>Good</td>\n",
       "      <td>E</td>\n",
       "      <td>VS1</td>\n",
       "      <td>56.9</td>\n",
       "      <td>65.0</td>\n",
       "      <td>327</td>\n",
       "      <td>4.05</td>\n",
       "      <td>4.07</td>\n",
       "      <td>2.31</td>\n",
       "    </tr>\n",
       "    <tr>\n",
       "      <th>3</th>\n",
       "      <td>4</td>\n",
       "      <td>0.29</td>\n",
       "      <td>Premium</td>\n",
       "      <td>I</td>\n",
       "      <td>VS2</td>\n",
       "      <td>62.4</td>\n",
       "      <td>58.0</td>\n",
       "      <td>334</td>\n",
       "      <td>4.20</td>\n",
       "      <td>4.23</td>\n",
       "      <td>2.63</td>\n",
       "    </tr>\n",
       "    <tr>\n",
       "      <th>4</th>\n",
       "      <td>5</td>\n",
       "      <td>0.31</td>\n",
       "      <td>Good</td>\n",
       "      <td>J</td>\n",
       "      <td>SI2</td>\n",
       "      <td>63.3</td>\n",
       "      <td>58.0</td>\n",
       "      <td>335</td>\n",
       "      <td>4.34</td>\n",
       "      <td>4.35</td>\n",
       "      <td>2.75</td>\n",
       "    </tr>\n",
       "  </tbody>\n",
       "</table>\n",
       "</div>"
      ],
      "text/plain": [
       "   Unnamed: 0  carat      cut color clarity  depth  table  price     x     y  \\\n",
       "0           1   0.23    Ideal     E     SI2   61.5   55.0    326  3.95  3.98   \n",
       "1           2   0.21  Premium     E     SI1   59.8   61.0    326  3.89  3.84   \n",
       "2           3   0.23     Good     E     VS1   56.9   65.0    327  4.05  4.07   \n",
       "3           4   0.29  Premium     I     VS2   62.4   58.0    334  4.20  4.23   \n",
       "4           5   0.31     Good     J     SI2   63.3   58.0    335  4.34  4.35   \n",
       "\n",
       "      z  \n",
       "0  2.43  \n",
       "1  2.31  \n",
       "2  2.31  \n",
       "3  2.63  \n",
       "4  2.75  "
      ]
     },
     "execution_count": 19,
     "metadata": {},
     "output_type": "execute_result"
    }
   ],
   "source": [
    "data_frame.head()"
   ]
  },
  {
   "cell_type": "code",
   "execution_count": 7,
   "id": "c9f42ff8",
   "metadata": {},
   "outputs": [
    {
     "data": {
      "text/plain": [
       "<seaborn.axisgrid.PairGrid at 0x7fdd38126a90>"
      ]
     },
     "execution_count": 7,
     "metadata": {},
     "output_type": "execute_result"
    },
    {
     "data": {
      "image/png": "[encoded data removed]",
      "text/plain": [
       "<Figure size 900x900 with 30 Axes>"
      ]
     },
     "metadata": {
      "needs_background": "light"
     },
     "output_type": "display_data"
    }
   ],
   "source": [
    "dummies=data_frame\n",
    "du=pd.get_dummies(dummies[\"cut\"])\n",
    "dummies=pd.concat([dummies,du],axis='columns')\n",
    "dummies=dummies.drop(['cut'],axis='columns')\n",
    "du.describe()"
   ]
  },
  {
   "cell_type": "code",
   "execution_count": 6,
   "id": "ee26f956",
   "metadata": {},
   "outputs": [
    {
     "name": "stderr",
     "output_type": "stream",
     "text": [
      "/tmp/ipykernel_9880/2535380358.py:2: SettingWithCopyWarning: \n",
      "A value is trying to be set on a copy of a slice from a DataFrame.\n",
      "Try using .loc[row_indexer,col_indexer] = value instead\n",
      "\n",
      "See the caveats in the documentation: https://pandas.pydata.org/pandas-docs/stable/user_guide/indexing.html#returning-a-view-versus-a-copy\n",
      "  df[\"carat\"] = (-df[\"carat\"] + df[\"carat\"].mean()) / df[\"carat\"].std()\n"
     ]
    },
    {
     "data": {
      "text/plain": [
       "0        1.198157\n",
       "1        1.240350\n",
       "2        1.198157\n",
       "3        1.071577\n",
       "4        1.029384\n",
       "           ...   \n",
       "53935    0.164426\n",
       "53936    0.164426\n",
       "53937    0.206619\n",
       "53938   -0.130926\n",
       "53939    0.101136\n",
       "Name: carat, Length: 53940, dtype: float64"
      ]
     },
     "execution_count": 6,
     "metadata": {},
     "output_type": "execute_result"
    }
   ],
   "source": [
    "df=data_frame[['carat','price']]\n",
    "df[\"carat\"] = (-df[\"carat\"] + df[\"carat\"].mean()) / df[\"carat\"].std()\n",
    "train=df.sample(frac=0.1)\n",
    "test=df.drop(train.index)\n",
    "df[\"carat\"]"
   ]
  },
  {
   "cell_type": "code",
   "execution_count": 7,
   "id": "5d9d5da5",
   "metadata": {},
   "outputs": [
    {
     "data": {
      "text/plain": [
       "<matplotlib.collections.PathCollection at 0x7f89738a2430>"
      ]
     },
     "execution_count": 7,
     "metadata": {},
     "output_type": "execute_result"
    },
    {
     "data": {
      "image/png": "[encoded data removed]",
      "text/plain": [
       "<Figure size 432x288 with 1 Axes>"
      ]
     },
     "metadata": {
      "needs_background": "light"
     },
     "output_type": "display_data"
    }
   ],
   "source": [
    "plt.scatter(train.carat,train.price)"
   ]
  },
  {
   "cell_type": "code",
   "execution_count": 14,
   "id": "552924de",
   "metadata": {},
   "outputs": [],
   "source": [
    "def Univariate(x,y,n):\n",
    "    slope = 1\n",
    "    intercept = 0\n",
    "    m = x.size\n",
    "    learning_rate = 0.003\n",
    "    losses = []\n",
    "    while(n>0):\n",
    "        prediction = slope * x + intercept\n",
    "        loss = (1 / (2 * m)) * np.sum((y - prediction) ** 2)\n",
    "        \n",
    "        if n % 200 == 199:\n",
    "            print(f\"Loss: {loss}\")\n",
    "            \n",
    "        losses.append(loss)\n",
    "        \n",
    "        slope_grad = -np.sum((y - prediction)*x) / m\n",
    "        intercept_grad = -np.sum((y - prediction)) / m\n",
    "        slope = slope - (learning_rate * slope_grad)\n",
    "        intercept = intercept - (learning_rate * intercept_grad)\n",
    "        n = n - 1\n",
    "        \n",
    "    return slope, intercept, losses\n"
   ]
  },
  {
   "cell_type": "code",
   "execution_count": 8,
   "id": "ebdba569",
   "metadata": {},
   "outputs": [
    {
     "ename": "SyntaxError",
     "evalue": "invalid syntax (3818637619.py, line 2)",
     "output_type": "error",
     "traceback": [
      "\u001b[0;36m  Input \u001b[0;32mIn [8]\u001b[0;36m\u001b[0m\n\u001b[0;31m    def __init__ :\u001b[0m\n\u001b[0m                 ^\u001b[0m\n\u001b[0;31mSyntaxError\u001b[0m\u001b[0;31m:\u001b[0m invalid syntax\n"
     ]
    }
   ],
   "source": [
    "class Linear_regression():\n",
    "    def __init__(self,x,y,w) :\n",
    "        self.\n",
    "        \n",
    "        "
   ]
  },
  {
   "cell_type": "code",
   "execution_count": 15,
   "id": "a23c0074",
   "metadata": {},
   "outputs": [
    {
     "name": "stdout",
     "output_type": "stream",
     "text": [
      "Loss: 15575736.161026357\n",
      "Loss: 5578716.897380904\n",
      "Loss: 2543110.219358064\n",
      "Loss: 1621344.207649172\n",
      "Loss: 1341448.5911249886\n",
      "Loss: 1256457.8306378492\n",
      "Loss: 1230650.2352602216\n",
      "Loss: 1222813.7094153033\n",
      "Loss: 1220434.1322164359\n",
      "Loss: 1219711.5683779938\n",
      "Loss: 1219492.1601859382\n",
      "Loss: 1219425.5363486926\n",
      "Loss: 1219405.3058480413\n",
      "Loss: 1219399.162801592\n",
      "Loss: 1219397.2974480987\n",
      "Loss: 1219396.7310279883\n",
      "Loss: 1219396.5590327778\n",
      "Loss: 1219396.5068058823\n",
      "Loss: 1219396.4909470128\n",
      "Loss: 1219396.4861314127\n",
      "Loss: 1219396.484669139\n",
      "Loss: 1219396.4842251139\n",
      "Loss: 1219396.4840902842\n",
      "Loss: 1219396.4840493426\n",
      "Loss: 1219396.4840369106\n"
     ]
    }
   ],
   "source": [
    "slope,intercept, losses= Univariate(train.carat,train.price, 5000)\n",
    "\n"
   ]
  },
  {
   "cell_type": "code",
   "execution_count": 16,
   "id": "5538b1d1",
   "metadata": {},
   "outputs": [
    {
     "data": {
      "text/plain": [
       "(-3681.41891816719, 3945.1636187601116)"
      ]
     },
     "execution_count": 16,
     "metadata": {},
     "output_type": "execute_result"
    },
    {
     "data": {
      "image/png": "[encoded data removed]",
      "text/plain": [
       "<Figure size 432x288 with 1 Axes>"
      ]
     },
     "metadata": {
      "needs_background": "light"
     },
     "output_type": "display_data"
    }
   ],
   "source": [
    "plt.scatter(train.carat,train.price)\n",
    "plt.plot(train.carat,slope*train.carat+intercept)\n",
    "slope,intercept"
   ]
  },
  {
   "cell_type": "code",
   "execution_count": 103,
   "id": "ca2d9f3c",
   "metadata": {},
   "outputs": [
    {
     "data": {
      "text/plain": [
       "[<matplotlib.lines.Line2D at 0x7f78e89705b0>]"
      ]
     },
     "execution_count": 103,
     "metadata": {},
     "output_type": "execute_result"
    },
    {
     "data": {
      "image/png": "[encoded data removed]",
      "text/plain": [
       "<Figure size 432x288 with 1 Axes>"
      ]
     },
     "metadata": {
      "needs_background": "light"
     },
     "output_type": "display_data"
    }
   ],
   "source": [
    "plt.plot(losses)"
   ]
  },
  {
   "cell_type": "code",
   "execution_count": 104,
   "id": "d96a7152",
   "metadata": {},
   "outputs": [
    {
     "data": {
      "text/plain": [
       "(0         326\n",
       " 1         326\n",
       " 2         327\n",
       " 3         334\n",
       " 4         335\n",
       "          ... \n",
       " 53935    2757\n",
       " 53936    2757\n",
       " 53937    2757\n",
       " 53938    2757\n",
       " 53939    2757\n",
       " Name: price, Length: 48546, dtype: int64,\n",
       " 0        -475.284863\n",
       " 1        -630.707816\n",
       " 2        -475.284863\n",
       " 3          -9.016003\n",
       " 4         146.406950\n",
       "             ...     \n",
       " 53935    3332.577493\n",
       " 53936    3332.577493\n",
       " 53937    3177.154539\n",
       " 53938    4420.538166\n",
       " 53939    3565.711923\n",
       " Name: carat, Length: 48546, dtype: float64)"
      ]
     },
     "execution_count": 104,
     "metadata": {},
     "output_type": "execute_result"
    }
   ],
   "source": [
    "y_predicted=slope*test.carat+intercept\n",
    "test.price,y_predicted"
   ]
  },
  {
   "cell_type": "code",
   "execution_count": 107,
   "id": "703a903b",
   "metadata": {},
   "outputs": [
    {
     "data": {
      "text/plain": [
       "2387114.830402132"
      ]
     },
     "execution_count": 107,
     "metadata": {},
     "output_type": "execute_result"
    }
   ],
   "source": [
    "mean_squared_error(test.price,y_predicted)"
   ]
  },
  {
   "cell_type": "code",
   "execution_count": 109,
   "id": "ab6a540e",
   "metadata": {},
   "outputs": [
    {
     "data": {
      "text/plain": [
       "1248151.0068706633"
      ]
     },
     "execution_count": 109,
     "metadata": {},
     "output_type": "execute_result"
    }
   ],
   "source": [
    "mean_squared_error(train.price, slope * train.carat + intercept) / 2"
   ]
  },
  {
   "cell_type": "code",
   "execution_count": null,
   "id": "9e689494",
   "metadata": {},
   "outputs": [],
   "source": []
  }
 ],
 "metadata": {
  "kernelspec": {
   "display_name": "Python 3 (ipykernel)",
   "language": "python",
   "name": "python3"
  },
  "language_info": {
   "codemirror_mode": {
    "name": "ipython",
    "version": 3
   },
   "file_extension": ".py",
   "mimetype": "text/x-python",
   "name": "python",
   "nbconvert_exporter": "python",
   "pygments_lexer": "ipython3",
   "version": "3.9.12"
  }
 },
 "nbformat": 4,
 "nbformat_minor": 5
}
