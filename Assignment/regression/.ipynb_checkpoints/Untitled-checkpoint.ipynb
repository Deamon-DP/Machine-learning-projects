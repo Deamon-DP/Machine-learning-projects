{
 "cells": [
  {
   "cell_type": "code",
   "execution_count": 2,
   "id": "32505039",
   "metadata": {},
   "outputs": [],
   "source": [
    "import numpy as np\n",
    "import pandas as pd\n",
    "import matplotlib.pyplot as plt\n",
    "from sklearn.metrics import mean_squared_error\n",
    "%matplotlib inline"
   ]
  },
  {
   "cell_type": "code",
   "execution_count": 3,
   "id": "32c61782",
   "metadata": {},
   "outputs": [],
   "source": [
    "data_frame=pd.read_csv(\"diamonds.csv\")"
   ]
  },
  {
   "cell_type": "code",
   "execution_count": 4,
   "id": "594297d9",
   "metadata": {},
   "outputs": [
    {
     "data": {
      "text/plain": [
       "593340"
      ]
     },
     "execution_count": 4,
     "metadata": {},
     "output_type": "execute_result"
    }
   ],
   "source": [
    "data_frame.describe()\n",
    "data_frame.size"
   ]
  },
  {
   "cell_type": "code",
   "execution_count": 5,
   "id": "4fe34df6",
   "metadata": {},
   "outputs": [
    {
     "data": {
      "text/html": [
       "<div>\n",
       "<style scoped>\n",
       "    .dataframe tbody tr th:only-of-type {\n",
       "        vertical-align: middle;\n",
       "    }\n",
       "\n",
       "    .dataframe tbody tr th {\n",
       "        vertical-align: top;\n",
       "    }\n",
       "\n",
       "    .dataframe thead th {\n",
       "        text-align: right;\n",
       "    }\n",
       "</style>\n",
       "<table border=\"1\" class=\"dataframe\">\n",
       "  <thead>\n",
       "    <tr style=\"text-align: right;\">\n",
       "      <th></th>\n",
       "      <th>Unnamed: 0</th>\n",
       "      <th>carat</th>\n",
       "      <th>cut</th>\n",
       "      <th>color</th>\n",
       "      <th>clarity</th>\n",
       "      <th>depth</th>\n",
       "      <th>table</th>\n",
       "      <th>price</th>\n",
       "      <th>x</th>\n",
       "      <th>y</th>\n",
       "      <th>z</th>\n",
       "    </tr>\n",
       "  </thead>\n",
       "  <tbody>\n",
       "    <tr>\n",
       "      <th>0</th>\n",
       "      <td>1</td>\n",
       "      <td>0.23</td>\n",
       "      <td>Ideal</td>\n",
       "      <td>E</td>\n",
       "      <td>SI2</td>\n",
       "      <td>61.5</td>\n",
       "      <td>55.0</td>\n",
       "      <td>326</td>\n",
       "      <td>3.95</td>\n",
       "      <td>3.98</td>\n",
       "      <td>2.43</td>\n",
       "    </tr>\n",
       "    <tr>\n",
       "      <th>1</th>\n",
       "      <td>2</td>\n",
       "      <td>0.21</td>\n",
       "      <td>Premium</td>\n",
       "      <td>E</td>\n",
       "      <td>SI1</td>\n",
       "      <td>59.8</td>\n",
       "      <td>61.0</td>\n",
       "      <td>326</td>\n",
       "      <td>3.89</td>\n",
       "      <td>3.84</td>\n",
       "      <td>2.31</td>\n",
       "    </tr>\n",
       "    <tr>\n",
       "      <th>2</th>\n",
       "      <td>3</td>\n",
       "      <td>0.23</td>\n",
       "      <td>Good</td>\n",
       "      <td>E</td>\n",
       "      <td>VS1</td>\n",
       "      <td>56.9</td>\n",
       "      <td>65.0</td>\n",
       "      <td>327</td>\n",
       "      <td>4.05</td>\n",
       "      <td>4.07</td>\n",
       "      <td>2.31</td>\n",
       "    </tr>\n",
       "    <tr>\n",
       "      <th>3</th>\n",
       "      <td>4</td>\n",
       "      <td>0.29</td>\n",
       "      <td>Premium</td>\n",
       "      <td>I</td>\n",
       "      <td>VS2</td>\n",
       "      <td>62.4</td>\n",
       "      <td>58.0</td>\n",
       "      <td>334</td>\n",
       "      <td>4.20</td>\n",
       "      <td>4.23</td>\n",
       "      <td>2.63</td>\n",
       "    </tr>\n",
       "    <tr>\n",
       "      <th>4</th>\n",
       "      <td>5</td>\n",
       "      <td>0.31</td>\n",
       "      <td>Good</td>\n",
       "      <td>J</td>\n",
       "      <td>SI2</td>\n",
       "      <td>63.3</td>\n",
       "      <td>58.0</td>\n",
       "      <td>335</td>\n",
       "      <td>4.34</td>\n",
       "      <td>4.35</td>\n",
       "      <td>2.75</td>\n",
       "    </tr>\n",
       "  </tbody>\n",
       "</table>\n",
       "</div>"
      ],
      "text/plain": [
       "   Unnamed: 0  carat      cut color clarity  depth  table  price     x     y  \\\n",
       "0           1   0.23    Ideal     E     SI2   61.5   55.0    326  3.95  3.98   \n",
       "1           2   0.21  Premium     E     SI1   59.8   61.0    326  3.89  3.84   \n",
       "2           3   0.23     Good     E     VS1   56.9   65.0    327  4.05  4.07   \n",
       "3           4   0.29  Premium     I     VS2   62.4   58.0    334  4.20  4.23   \n",
       "4           5   0.31     Good     J     SI2   63.3   58.0    335  4.34  4.35   \n",
       "\n",
       "      z  \n",
       "0  2.43  \n",
       "1  2.31  \n",
       "2  2.31  \n",
       "3  2.63  \n",
       "4  2.75  "
      ]
     },
     "execution_count": 5,
     "metadata": {},
     "output_type": "execute_result"
    }
   ],
   "source": [
    "data_frame.head()"
   ]
  },
  {
   "cell_type": "code",
   "execution_count": 6,
   "id": "c9f42ff8",
   "metadata": {},
   "outputs": [
    {
     "data": {
      "text/plain": [
       "[]"
      ]
     },
     "execution_count": 6,
     "metadata": {},
     "output_type": "execute_result"
    },
    {
     "data": {
      "image/png": "[encoded data removed]",
      "text/plain": [
       "<Figure size 432x288 with 1 Axes>"
      ]
     },
     "metadata": {
      "needs_background": "light"
     },
     "output_type": "display_data"
    }
   ],
   "source": [
    "plt.scatter(data_frame.carat,data_frame.price)\n",
    "plt.plot()"
   ]
  },
  {
   "cell_type": "code",
   "execution_count": 7,
   "id": "ee26f956",
   "metadata": {},
   "outputs": [],
   "source": [
    "df=data_frame[['carat','price']]\n",
    "train=df.sample(frac=0.1)\n",
    "test=df.drop(train.index)"
   ]
  },
  {
   "cell_type": "code",
   "execution_count": 8,
   "id": "5d9d5da5",
   "metadata": {},
   "outputs": [
    {
     "data": {
      "text/plain": [
       "<matplotlib.collections.PathCollection at 0x7f792c0a1160>"
      ]
     },
     "execution_count": 8,
     "metadata": {},
     "output_type": "execute_result"
    },
    {
     "data": {
      "image/png": "[encoded data removed]",
      "text/plain": [
       "<Figure size 432x288 with 1 Axes>"
      ]
     },
     "metadata": {
      "needs_background": "light"
     },
     "output_type": "display_data"
    }
   ],
   "source": [
    "plt.scatter(train.carat,train.price)"
   ]
  },
  {
   "cell_type": "code",
   "execution_count": 26,
   "id": "552924de",
   "metadata": {},
   "outputs": [],
   "source": [
    "def Univariate(x,y,n):\n",
    "    slope = 1\n",
    "    intercept = 0\n",
    "    m = x.size\n",
    "    learning_rate = 0.01\n",
    "    losses = []\n",
    "    while(n>0):\n",
    "        prediction = slope * x + intercept\n",
    "        loss = (1 / (2 * m)) * np.sum((y - prediction) ** 2)\n",
    "        \n",
    "        if n % 100 == 99:\n",
    "            print(f\"Loss: {loss}\")\n",
    "            \n",
    "        losses.append(loss)\n",
    "        \n",
    "        slope_grad = -np.sum((y - prediction)*x) / m\n",
    "        intercept_grad = -np.sum((y - prediction)) / m\n",
    "        slope = slope - (learning_rate * slope_grad)\n",
    "        intercept = intercept - (learning_rate * intercept_grad)\n",
    "        n = n - 1\n",
    "        \n",
    "    return slope, intercept, losses\n"
   ]
  },
  {
   "cell_type": "code",
   "execution_count": 27,
   "id": "a23c0074",
   "metadata": {},
   "outputs": [
    {
     "name": "stdout",
     "output_type": "stream",
     "text": [
      "Loss: 15639654.342471061\n",
      "Loss: 15253809.559045494\n",
      "Loss: 14880851.550853489\n",
      "Loss: 14520341.283159602\n",
      "Loss: 14171854.701631702\n",
      "Loss: 13834982.221130688\n",
      "Loss: 13509328.231945537\n",
      "Loss: 13194510.62287837\n",
      "Loss: 12890160.32060453\n",
      "Loss: 12595920.844752237\n",
      "Loss: 12311447.878165426\n",
      "Loss: 12036408.851831606\n",
      "Loss: 11770482.543974288\n",
      "Loss: 11513358.692826636\n",
      "Loss: 11264737.622619402\n",
      "Loss: 11024329.882332265\n",
      "Loss: 10791855.896772996\n",
      "Loss: 10567045.62956369\n",
      "Loss: 10349638.257627847\n",
      "Loss: 10139381.856785739\n",
      "Loss: 9936033.098079003\n",
      "Loss: 9739356.954458341\n",
      "Loss: 9549126.417480672\n",
      "Loss: 9365122.223674128\n",
      "Loss: 9187132.590241041\n",
      "Loss: 9014952.959780157\n",
      "Loss: 8848385.753720395\n",
      "Loss: 8687240.134168798\n",
      "Loss: 8531331.77388554\n",
      "Loss: 8380482.634108685\n",
      "Loss: 8234520.749960772\n",
      "Loss: 8093280.023178574\n",
      "Loss: 7956600.02191598\n",
      "Loss: 7824325.787378794\n",
      "Loss: 7696307.647058178\n",
      "Loss: 7572401.034337623\n",
      "Loss: 7452466.314255926\n",
      "Loss: 7336368.615216083\n",
      "Loss: 7223977.666437255\n",
      "Loss: 7115167.6409537\n",
      "Loss: 7009817.003971502\n",
      "Loss: 6907808.366400201\n",
      "Loss: 6809028.343382708\n",
      "Loss: 6713367.417652988\n",
      "Loss: 6620719.807556701\n",
      "Loss: 6530983.339575746\n",
      "Loss: 6444059.325202945\n",
      "Loss: 6359852.442018433\n",
      "Loss: 6278270.618824414\n",
      "Loss: 6199224.924699695\n",
      "Loss: 6122629.461840352\n",
      "Loss: 6048401.262057203\n",
      "Loss: 5976460.18680541\n",
      "Loss: 5906728.830625569\n",
      "Loss: 5839132.427879959\n",
      "Loss: 5773598.762671434\n",
      "Loss: 5710058.081836395\n",
      "Loss: 5648443.010906915\n",
      "Loss: 5588688.472940676\n",
      "Loss: 5530731.610120898\n",
      "Loss: 5474511.708031702\n",
      "Loss: 5419970.122517586\n",
      "Loss: 5367050.209038883\n",
      "Loss: 5315697.2544379905\n",
      "Loss: 5265858.411034094\n",
      "Loss: 5217482.632966943\n",
      "Loss: 5170520.6147129405\n",
      "Loss: 5124924.731699344\n",
      "Loss: 5080648.982945119\n",
      "Loss: 5037648.935659111\n",
      "Loss: 4995881.671728863\n",
      "Loss: 4955305.736035537\n",
      "Loss: 4915881.08653259\n",
      "Loss: 4877569.046028047\n",
      "Loss: 4840332.255612185\n",
      "Loss: 4804134.629674598\n",
      "Loss: 4768941.312456199\n",
      "Loss: 4734718.636084025\n",
      "Loss: 4701434.080038039\n",
      "Loss: 4669056.2320011575\n",
      "Loss: 4637554.750045298\n",
      "Loss: 4606900.326107831\n",
      "Loss: 4577064.6507144105\n",
      "Loss: 4548020.378905651\n",
      "Loss: 4519741.09732656\n",
      "Loss: 4492201.292439048\n",
      "Loss: 4465376.319819224\n",
      "Loss: 4439242.374502381\n",
      "Loss: 4413776.462340022\n",
      "Loss: 4388956.372334288\n",
      "Loss: 4364760.649916492\n",
      "Loss: 4341168.57113756\n",
      "Loss: 4318160.117739169\n",
      "Loss: 4295715.953075655\n",
      "Loss: 4273817.398857518\n",
      "Loss: 4252446.412688636\n",
      "Loss: 4231585.566369946\n",
      "Loss: 4211218.024943581\n",
      "Loss: 4191327.526452085\n",
      "Loss: 4171898.362388375\n"
     ]
    }
   ],
   "source": [
    "slope,intercept, losses = Univariate(train.carat,train.price,10000)"
   ]
  },
  {
   "cell_type": "code",
   "execution_count": 28,
   "id": "5538b1d1",
   "metadata": {},
   "outputs": [
    {
     "data": {
      "text/plain": [
       "[<matplotlib.lines.Line2D at 0x7f78ecfa5af0>]"
      ]
     },
     "execution_count": 28,
     "metadata": {},
     "output_type": "execute_result"
    },
    {
     "data": {
      "image/png": "[encoded data removed]",
      "text/plain": [
       "<Figure size 432x288 with 1 Axes>"
      ]
     },
     "metadata": {
      "needs_background": "light"
     },
     "output_type": "display_data"
    }
   ],
   "source": [
    "plt.scatter(train.carat,train.price)\n",
    "plt.plot(train.carat,slope*train.carat+intercept)"
   ]
  },
  {
   "cell_type": "code",
   "execution_count": 23,
   "id": "ca2d9f3c",
   "metadata": {},
   "outputs": [
    {
     "data": {
      "text/plain": [
       "[<matplotlib.lines.Line2D at 0x7f78ed005f70>]"
      ]
     },
     "execution_count": 23,
     "metadata": {},
     "output_type": "execute_result"
    },
    {
     "data": {
      "image/png": "[encoded data removed]",
      "text/plain": [
       "<Figure size 432x288 with 1 Axes>"
      ]
     },
     "metadata": {
      "needs_background": "light"
     },
     "output_type": "display_data"
    }
   ],
   "source": [
    "plt.plot(losses)"
   ]
  },
  {
   "cell_type": "code",
   "execution_count": 24,
   "id": "d96a7152",
   "metadata": {},
   "outputs": [
    {
     "data": {
      "text/plain": [
       "(0         326\n",
       " 2         327\n",
       " 4         335\n",
       " 5         336\n",
       " 6         336\n",
       "          ... \n",
       " 53934    2757\n",
       " 53935    2757\n",
       " 53936    2757\n",
       " 53937    2757\n",
       " 53939    2757\n",
       " Name: price, Length: 48546, dtype: int64,\n",
       " 0         509.575161\n",
       " 2         509.575161\n",
       " 4        1012.582885\n",
       " 5         572.451126\n",
       " 6         572.451126\n",
       "             ...     \n",
       " 53934    3590.497473\n",
       " 53935    3590.497473\n",
       " 53936    3590.497473\n",
       " 53937    3464.745542\n",
       " 53939    3779.125370\n",
       " Name: carat, Length: 48546, dtype: float64)"
      ]
     },
     "execution_count": 24,
     "metadata": {},
     "output_type": "execute_result"
    }
   ],
   "source": [
    "y_predicted=slope*test.carat+intercept\n",
    "test.price,y_predicted\n"
   ]
  },
  {
   "cell_type": "code",
   "execution_count": 25,
   "id": "ce61d98d",
   "metadata": {},
   "outputs": [
    {
     "data": {
      "text/plain": [
       "2906821.821058668"
      ]
     },
     "execution_count": 25,
     "metadata": {},
     "output_type": "execute_result"
    }
   ],
   "source": [
    "mean_squared_error(test.price,y_predicted)"
   ]
  },
  {
   "cell_type": "code",
   "execution_count": null,
   "id": "9f42d1f9",
   "metadata": {},
   "outputs": [],
   "source": []
  }
 ],
 "metadata": {
  "kernelspec": {
   "display_name": "Python 3 (ipykernel)",
   "language": "python",
   "name": "python3"
  },
  "language_info": {
   "codemirror_mode": {
    "name": "ipython",
    "version": 3
   },
   "file_extension": ".py",
   "mimetype": "text/x-python",
   "name": "python",
   "nbconvert_exporter": "python",
   "pygments_lexer": "ipython3",
   "version": "3.9.12"
  }
 },
 "nbformat": 4,
 "nbformat_minor": 5
}
