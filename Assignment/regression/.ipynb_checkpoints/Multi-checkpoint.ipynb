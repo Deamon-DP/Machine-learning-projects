{
 "cells": [
  {
   "cell_type": "code",
   "execution_count": 973,
   "id": "63045145",
   "metadata": {},
   "outputs": [],
   "source": [
    "\n",
    "%matplotlib inline\n",
    "import numpy as np\n",
    "import matplotlib.pyplot as plt\n",
    "from sklearn.metrics import mean_squared_error\n",
    "import pandas as pd\n",
    "import seaborn\n"
   ]
  },
  {
   "cell_type": "code",
   "execution_count": 974,
   "id": "e390c6bc",
   "metadata": {},
   "outputs": [],
   "source": [
    "df=pd.read_csv(\"diamonds.csv\")"
   ]
  },
  {
   "cell_type": "code",
   "execution_count": 975,
   "id": "d0574308",
   "metadata": {},
   "outputs": [
    {
     "data": {
      "text/html": [
       "<div>\n",
       "<style scoped>\n",
       "    .dataframe tbody tr th:only-of-type {\n",
       "        vertical-align: middle;\n",
       "    }\n",
       "\n",
       "    .dataframe tbody tr th {\n",
       "        vertical-align: top;\n",
       "    }\n",
       "\n",
       "    .dataframe thead th {\n",
       "        text-align: right;\n",
       "    }\n",
       "</style>\n",
       "<table border=\"1\" class=\"dataframe\">\n",
       "  <thead>\n",
       "    <tr style=\"text-align: right;\">\n",
       "      <th></th>\n",
       "      <th>Unnamed: 0</th>\n",
       "      <th>carat</th>\n",
       "      <th>cut</th>\n",
       "      <th>color</th>\n",
       "      <th>clarity</th>\n",
       "      <th>depth</th>\n",
       "      <th>table</th>\n",
       "      <th>price</th>\n",
       "      <th>x</th>\n",
       "      <th>y</th>\n",
       "      <th>z</th>\n",
       "    </tr>\n",
       "  </thead>\n",
       "  <tbody>\n",
       "    <tr>\n",
       "      <th>0</th>\n",
       "      <td>1</td>\n",
       "      <td>0.23</td>\n",
       "      <td>Ideal</td>\n",
       "      <td>E</td>\n",
       "      <td>SI2</td>\n",
       "      <td>61.5</td>\n",
       "      <td>55.0</td>\n",
       "      <td>326</td>\n",
       "      <td>3.95</td>\n",
       "      <td>3.98</td>\n",
       "      <td>2.43</td>\n",
       "    </tr>\n",
       "    <tr>\n",
       "      <th>1</th>\n",
       "      <td>2</td>\n",
       "      <td>0.21</td>\n",
       "      <td>Premium</td>\n",
       "      <td>E</td>\n",
       "      <td>SI1</td>\n",
       "      <td>59.8</td>\n",
       "      <td>61.0</td>\n",
       "      <td>326</td>\n",
       "      <td>3.89</td>\n",
       "      <td>3.84</td>\n",
       "      <td>2.31</td>\n",
       "    </tr>\n",
       "    <tr>\n",
       "      <th>2</th>\n",
       "      <td>3</td>\n",
       "      <td>0.23</td>\n",
       "      <td>Good</td>\n",
       "      <td>E</td>\n",
       "      <td>VS1</td>\n",
       "      <td>56.9</td>\n",
       "      <td>65.0</td>\n",
       "      <td>327</td>\n",
       "      <td>4.05</td>\n",
       "      <td>4.07</td>\n",
       "      <td>2.31</td>\n",
       "    </tr>\n",
       "    <tr>\n",
       "      <th>3</th>\n",
       "      <td>4</td>\n",
       "      <td>0.29</td>\n",
       "      <td>Premium</td>\n",
       "      <td>I</td>\n",
       "      <td>VS2</td>\n",
       "      <td>62.4</td>\n",
       "      <td>58.0</td>\n",
       "      <td>334</td>\n",
       "      <td>4.20</td>\n",
       "      <td>4.23</td>\n",
       "      <td>2.63</td>\n",
       "    </tr>\n",
       "    <tr>\n",
       "      <th>4</th>\n",
       "      <td>5</td>\n",
       "      <td>0.31</td>\n",
       "      <td>Good</td>\n",
       "      <td>J</td>\n",
       "      <td>SI2</td>\n",
       "      <td>63.3</td>\n",
       "      <td>58.0</td>\n",
       "      <td>335</td>\n",
       "      <td>4.34</td>\n",
       "      <td>4.35</td>\n",
       "      <td>2.75</td>\n",
       "    </tr>\n",
       "    <tr>\n",
       "      <th>...</th>\n",
       "      <td>...</td>\n",
       "      <td>...</td>\n",
       "      <td>...</td>\n",
       "      <td>...</td>\n",
       "      <td>...</td>\n",
       "      <td>...</td>\n",
       "      <td>...</td>\n",
       "      <td>...</td>\n",
       "      <td>...</td>\n",
       "      <td>...</td>\n",
       "      <td>...</td>\n",
       "    </tr>\n",
       "    <tr>\n",
       "      <th>53935</th>\n",
       "      <td>53936</td>\n",
       "      <td>0.72</td>\n",
       "      <td>Ideal</td>\n",
       "      <td>D</td>\n",
       "      <td>SI1</td>\n",
       "      <td>60.8</td>\n",
       "      <td>57.0</td>\n",
       "      <td>2757</td>\n",
       "      <td>5.75</td>\n",
       "      <td>5.76</td>\n",
       "      <td>3.50</td>\n",
       "    </tr>\n",
       "    <tr>\n",
       "      <th>53936</th>\n",
       "      <td>53937</td>\n",
       "      <td>0.72</td>\n",
       "      <td>Good</td>\n",
       "      <td>D</td>\n",
       "      <td>SI1</td>\n",
       "      <td>63.1</td>\n",
       "      <td>55.0</td>\n",
       "      <td>2757</td>\n",
       "      <td>5.69</td>\n",
       "      <td>5.75</td>\n",
       "      <td>3.61</td>\n",
       "    </tr>\n",
       "    <tr>\n",
       "      <th>53937</th>\n",
       "      <td>53938</td>\n",
       "      <td>0.70</td>\n",
       "      <td>Very Good</td>\n",
       "      <td>D</td>\n",
       "      <td>SI1</td>\n",
       "      <td>62.8</td>\n",
       "      <td>60.0</td>\n",
       "      <td>2757</td>\n",
       "      <td>5.66</td>\n",
       "      <td>5.68</td>\n",
       "      <td>3.56</td>\n",
       "    </tr>\n",
       "    <tr>\n",
       "      <th>53938</th>\n",
       "      <td>53939</td>\n",
       "      <td>0.86</td>\n",
       "      <td>Premium</td>\n",
       "      <td>H</td>\n",
       "      <td>SI2</td>\n",
       "      <td>61.0</td>\n",
       "      <td>58.0</td>\n",
       "      <td>2757</td>\n",
       "      <td>6.15</td>\n",
       "      <td>6.12</td>\n",
       "      <td>3.74</td>\n",
       "    </tr>\n",
       "    <tr>\n",
       "      <th>53939</th>\n",
       "      <td>53940</td>\n",
       "      <td>0.75</td>\n",
       "      <td>Ideal</td>\n",
       "      <td>D</td>\n",
       "      <td>SI2</td>\n",
       "      <td>62.2</td>\n",
       "      <td>55.0</td>\n",
       "      <td>2757</td>\n",
       "      <td>5.83</td>\n",
       "      <td>5.87</td>\n",
       "      <td>3.64</td>\n",
       "    </tr>\n",
       "  </tbody>\n",
       "</table>\n",
       "<p>53940 rows × 11 columns</p>\n",
       "</div>"
      ],
      "text/plain": [
       "       Unnamed: 0  carat        cut color clarity  depth  table  price     x  \\\n",
       "0               1   0.23      Ideal     E     SI2   61.5   55.0    326  3.95   \n",
       "1               2   0.21    Premium     E     SI1   59.8   61.0    326  3.89   \n",
       "2               3   0.23       Good     E     VS1   56.9   65.0    327  4.05   \n",
       "3               4   0.29    Premium     I     VS2   62.4   58.0    334  4.20   \n",
       "4               5   0.31       Good     J     SI2   63.3   58.0    335  4.34   \n",
       "...           ...    ...        ...   ...     ...    ...    ...    ...   ...   \n",
       "53935       53936   0.72      Ideal     D     SI1   60.8   57.0   2757  5.75   \n",
       "53936       53937   0.72       Good     D     SI1   63.1   55.0   2757  5.69   \n",
       "53937       53938   0.70  Very Good     D     SI1   62.8   60.0   2757  5.66   \n",
       "53938       53939   0.86    Premium     H     SI2   61.0   58.0   2757  6.15   \n",
       "53939       53940   0.75      Ideal     D     SI2   62.2   55.0   2757  5.83   \n",
       "\n",
       "          y     z  \n",
       "0      3.98  2.43  \n",
       "1      3.84  2.31  \n",
       "2      4.07  2.31  \n",
       "3      4.23  2.63  \n",
       "4      4.35  2.75  \n",
       "...     ...   ...  \n",
       "53935  5.76  3.50  \n",
       "53936  5.75  3.61  \n",
       "53937  5.68  3.56  \n",
       "53938  6.12  3.74  \n",
       "53939  5.87  3.64  \n",
       "\n",
       "[53940 rows x 11 columns]"
      ]
     },
     "execution_count": 975,
     "metadata": {},
     "output_type": "execute_result"
    }
   ],
   "source": [
    "df\n"
   ]
  },
  {
   "cell_type": "code",
   "execution_count": 976,
   "id": "31da73d1",
   "metadata": {},
   "outputs": [],
   "source": [
    "dummies=pd.get_dummies(df.loc[:,[\"cut\",\"color\",\"clarity\"]])\n",
    "\n",
    "df[dummies.columns] = dummies\n",
    "df.drop(df.iloc[:,[0,2,3,4,5,6]],inplace=True, axis=1)\n"
   ]
  },
  {
   "cell_type": "code",
   "execution_count": 977,
   "id": "db9e7a9e",
   "metadata": {},
   "outputs": [
    {
     "data": {
      "text/plain": [
       "((10788, 25), (43152, 25))"
      ]
     },
     "execution_count": 977,
     "metadata": {},
     "output_type": "execute_result"
    }
   ],
   "source": [
    "train=df.sample(frac=0.8)\n",
    "test=df.drop(train.index)\n",
    "#train.drop(\"Unnamed: 0\",inplace=True, axis=1)\n",
    "#test.drop(\"Unnamed: 0\",inplace=True,axis=1)\n",
    "test.shape,train.shape"
   ]
  },
  {
   "cell_type": "code",
   "execution_count": 978,
   "id": "fb273c4c",
   "metadata": {},
   "outputs": [
    {
     "data": {
      "text/plain": [
       "((43152, 25), (43152, 24))"
      ]
     },
     "execution_count": 978,
     "metadata": {},
     "output_type": "execute_result"
    }
   ],
   "source": [
    "trainy=train[\"price\"].to_numpy()\n",
    "trainx=train.drop([\"price\"],axis=1)\n",
    "testy=test[\"price\"].to_numpy()\n",
    "\n",
    "testx=test.drop([\"price\"],axis=1).to_numpy()\n",
    "\n",
    "trainx=trainx.to_numpy()\n",
    "testx.shape,testy.shape,trainx.shape[0]\n",
    "\n",
    "train.shape,trainx.shape"
   ]
  },
  {
   "cell_type": "code",
   "execution_count": 979,
   "id": "35a54b87",
   "metadata": {},
   "outputs": [],
   "source": [
    "class Linear_regression:\n",
    "    def __init__(self,x,y,alpha=0.02):\n",
    "        self.x=x\n",
    "        self.y=y\n",
    "        self.alpha=alpha\n",
    "        self.samples,self.features=x.shape\n",
    "        self.theta=np.random.rand(self.features, 1)\n",
    "        #self.theta=np.reshape(self.theta,(self.theta.size,1))\n",
    "    def training(self,n=1000):\n",
    "        while(n):\n",
    "            \n",
    "            self.y_hat=np.dot(self.x,self.theta)\n",
    "            temp=self.y-self.y_hat\n",
    "            \n",
    "            self.gradient=np.dot(self.x.T,temp)\n",
    "            #print(self.gradient.shape)            \n",
    "            self.theta=self.theta+((self.alpha/self.samples)*self.gradient)\n",
    "            #print(self.theta.shape)\n",
    "            n=n-1\n",
    "        return self.theta\n",
    "    def testing(self,x,theta):\n",
    "        self.test_x=x\n",
    "        self.test_y=np.dot(x,self.theta)\n",
    "        print(self.test_y)\n",
    "        return self.test_y\n",
    "        "
   ]
  },
  {
   "cell_type": "code",
   "execution_count": 980,
   "id": "c3379372",
   "metadata": {},
   "outputs": [],
   "source": [
    "trainy=np.reshape(trainy,(trainy.size,1))\n",
    "testy=np.reshape(testy,(testy.size,1))\n"
   ]
  },
  {
   "cell_type": "code",
   "execution_count": 981,
   "id": "82721ab8",
   "metadata": {},
   "outputs": [
    {
     "data": {
      "text/plain": [
       "((10788, 1), (43152, 25))"
      ]
     },
     "execution_count": 981,
     "metadata": {},
     "output_type": "execute_result"
    }
   ],
   "source": [
    "bias_col = np.ones(shape=(trainx.shape[0], 1))\n",
    "trainx = np.hstack((bias_col, trainx))\n",
    "bias_col = np.ones(shape=(testx.shape[0], 1))\n",
    "\n",
    "testx=np.hstack((bias_col, testx))\n",
    "bias_col.shape,trainx.shape"
   ]
  },
  {
   "cell_type": "code",
   "execution_count": 982,
   "id": "6f51ab7e",
   "metadata": {},
   "outputs": [
    {
     "data": {
      "text/plain": [
       "((43152, 25), (43152, 1))"
      ]
     },
     "execution_count": 982,
     "metadata": {},
     "output_type": "execute_result"
    }
   ],
   "source": [
    "#trainx=trainx.transpose()\n",
    "trainx.shape,trainy.shape"
   ]
  },
  {
   "cell_type": "code",
   "execution_count": 983,
   "id": "16e7e108",
   "metadata": {},
   "outputs": [
    {
     "data": {
      "text/plain": [
       "((43152, 25),\n",
       " (43152, 25),\n",
       " array([[1.  , 1.55, 7.73, ..., 0.  , 0.  , 0.  ],\n",
       "        [1.  , 0.7 , 5.73, ..., 0.  , 0.  , 0.  ],\n",
       "        [1.  , 0.36, 4.58, ..., 1.  , 0.  , 0.  ],\n",
       "        ...,\n",
       "        [1.  , 0.7 , 5.64, ..., 0.  , 0.  , 0.  ],\n",
       "        [1.  , 0.79, 5.91, ..., 0.  , 0.  , 0.  ],\n",
       "        [1.  , 1.  , 6.37, ..., 0.  , 0.  , 0.  ]]))"
      ]
     },
     "execution_count": 983,
     "metadata": {},
     "output_type": "execute_result"
    }
   ],
   "source": [
    "train.shape,trainx.shape,trainx"
   ]
  },
  {
   "cell_type": "code",
   "execution_count": 984,
   "id": "03cb6fc3",
   "metadata": {},
   "outputs": [
    {
     "data": {
      "text/plain": [
       "<__main__.Linear_regression at 0x7f43c4d45c40>"
      ]
     },
     "execution_count": 984,
     "metadata": {},
     "output_type": "execute_result"
    }
   ],
   "source": [
    "lr=Linear_regression(trainx,trainy)\n",
    "lr"
   ]
  },
  {
   "cell_type": "code",
   "execution_count": 985,
   "id": "8ba3abef",
   "metadata": {},
   "outputs": [],
   "source": [
    "mp=lr.training()"
   ]
  },
  {
   "cell_type": "code",
   "execution_count": 986,
   "id": "a1c0e943",
   "metadata": {},
   "outputs": [
    {
     "data": {
      "text/plain": [
       "(array([[8782.18943264],\n",
       "        [3119.57013817],\n",
       "        [1012.11390357],\n",
       "        ...,\n",
       "        [3042.0574705 ],\n",
       "        [3720.931271  ],\n",
       "        [5451.26278122]]),\n",
       " array([[8069],\n",
       "        [2423],\n",
       "        [ 852],\n",
       "        ...,\n",
       "        [2278],\n",
       "        [3053],\n",
       "        [4480]]))"
      ]
     },
     "execution_count": 986,
     "metadata": {},
     "output_type": "execute_result"
    }
   ],
   "source": [
    "np.dot(lr.x, mp), trainy"
   ]
  },
  {
   "cell_type": "code",
   "execution_count": 987,
   "id": "6f40cb28",
   "metadata": {},
   "outputs": [
    {
     "name": "stdout",
     "output_type": "stream",
     "text": [
      "[[-1074.19613127]\n",
      " [-1106.36323542]\n",
      " [-1082.3661975 ]\n",
      " ...\n",
      " [ 3852.44676389]\n",
      " [ 3568.57946806]\n",
      " [ 3140.46526047]]\n"
     ]
    },
    {
     "data": {
      "text/plain": [
       "(10788, 25)"
      ]
     },
     "execution_count": 987,
     "metadata": {},
     "output_type": "execute_result"
    }
   ],
   "source": [
    "pred=lr.testing(testx,mp)\n",
    "testx.shape"
   ]
  },
  {
   "cell_type": "code",
   "execution_count": 988,
   "id": "5a4de6d0",
   "metadata": {},
   "outputs": [
    {
     "data": {
      "text/plain": [
       "1854466.01960294"
      ]
     },
     "execution_count": 988,
     "metadata": {},
     "output_type": "execute_result"
    }
   ],
   "source": [
    "mean_squared_error(testy,pred)"
   ]
  },
  {
   "cell_type": "code",
   "execution_count": null,
   "id": "45658adf",
   "metadata": {},
   "outputs": [],
   "source": []
  }
 ],
 "metadata": {
  "kernelspec": {
   "display_name": "Python 3 (ipykernel)",
   "language": "python",
   "name": "python3"
  },
  "language_info": {
   "codemirror_mode": {
    "name": "ipython",
    "version": 3
   },
   "file_extension": ".py",
   "mimetype": "text/x-python",
   "name": "python",
   "nbconvert_exporter": "python",
   "pygments_lexer": "ipython3",
   "version": "3.9.12"
  }
 },
 "nbformat": 4,
 "nbformat_minor": 5
}
