{
 "cells": [
  {
   "cell_type": "code",
   "execution_count": 56,
   "id": "63045145",
   "metadata": {},
   "outputs": [],
   "source": [
    "import numpy as np\n",
    "import matplotlib.pyplot as plt\n",
    "from sklearn.metrics import mean_squared_error\n",
    "import pandas as pd\n",
    "import seaborn\n",
    "\n",
    "np.random.seed(42)\n",
    "\n",
    "%matplotlib inline"
   ]
  },
  {
   "cell_type": "code",
   "execution_count": 57,
   "id": "e390c6bc",
   "metadata": {},
   "outputs": [],
   "source": [
    "df=pd.read_csv(\"diamonds.csv\")"
   ]
  },
  {
   "cell_type": "code",
   "execution_count": 59,
   "id": "d0574308",
   "metadata": {},
   "outputs": [
    {
     "data": {
      "text/html": [
       "<div>\n",
       "<style scoped>\n",
       "    .dataframe tbody tr th:only-of-type {\n",
       "        vertical-align: middle;\n",
       "    }\n",
       "\n",
       "    .dataframe tbody tr th {\n",
       "        vertical-align: top;\n",
       "    }\n",
       "\n",
       "    .dataframe thead th {\n",
       "        text-align: right;\n",
       "    }\n",
       "</style>\n",
       "<table border=\"1\" class=\"dataframe\">\n",
       "  <thead>\n",
       "    <tr style=\"text-align: right;\">\n",
       "      <th></th>\n",
       "      <th>Unnamed: 0</th>\n",
       "      <th>carat</th>\n",
       "      <th>cut</th>\n",
       "      <th>color</th>\n",
       "      <th>clarity</th>\n",
       "      <th>depth</th>\n",
       "      <th>table</th>\n",
       "      <th>price</th>\n",
       "      <th>x</th>\n",
       "      <th>y</th>\n",
       "      <th>z</th>\n",
       "    </tr>\n",
       "  </thead>\n",
       "  <tbody>\n",
       "    <tr>\n",
       "      <th>0</th>\n",
       "      <td>1</td>\n",
       "      <td>0.23</td>\n",
       "      <td>Ideal</td>\n",
       "      <td>E</td>\n",
       "      <td>SI2</td>\n",
       "      <td>61.5</td>\n",
       "      <td>55.0</td>\n",
       "      <td>326</td>\n",
       "      <td>3.95</td>\n",
       "      <td>3.98</td>\n",
       "      <td>2.43</td>\n",
       "    </tr>\n",
       "    <tr>\n",
       "      <th>1</th>\n",
       "      <td>2</td>\n",
       "      <td>0.21</td>\n",
       "      <td>Premium</td>\n",
       "      <td>E</td>\n",
       "      <td>SI1</td>\n",
       "      <td>59.8</td>\n",
       "      <td>61.0</td>\n",
       "      <td>326</td>\n",
       "      <td>3.89</td>\n",
       "      <td>3.84</td>\n",
       "      <td>2.31</td>\n",
       "    </tr>\n",
       "    <tr>\n",
       "      <th>2</th>\n",
       "      <td>3</td>\n",
       "      <td>0.23</td>\n",
       "      <td>Good</td>\n",
       "      <td>E</td>\n",
       "      <td>VS1</td>\n",
       "      <td>56.9</td>\n",
       "      <td>65.0</td>\n",
       "      <td>327</td>\n",
       "      <td>4.05</td>\n",
       "      <td>4.07</td>\n",
       "      <td>2.31</td>\n",
       "    </tr>\n",
       "    <tr>\n",
       "      <th>3</th>\n",
       "      <td>4</td>\n",
       "      <td>0.29</td>\n",
       "      <td>Premium</td>\n",
       "      <td>I</td>\n",
       "      <td>VS2</td>\n",
       "      <td>62.4</td>\n",
       "      <td>58.0</td>\n",
       "      <td>334</td>\n",
       "      <td>4.20</td>\n",
       "      <td>4.23</td>\n",
       "      <td>2.63</td>\n",
       "    </tr>\n",
       "    <tr>\n",
       "      <th>4</th>\n",
       "      <td>5</td>\n",
       "      <td>0.31</td>\n",
       "      <td>Good</td>\n",
       "      <td>J</td>\n",
       "      <td>SI2</td>\n",
       "      <td>63.3</td>\n",
       "      <td>58.0</td>\n",
       "      <td>335</td>\n",
       "      <td>4.34</td>\n",
       "      <td>4.35</td>\n",
       "      <td>2.75</td>\n",
       "    </tr>\n",
       "    <tr>\n",
       "      <th>...</th>\n",
       "      <td>...</td>\n",
       "      <td>...</td>\n",
       "      <td>...</td>\n",
       "      <td>...</td>\n",
       "      <td>...</td>\n",
       "      <td>...</td>\n",
       "      <td>...</td>\n",
       "      <td>...</td>\n",
       "      <td>...</td>\n",
       "      <td>...</td>\n",
       "      <td>...</td>\n",
       "    </tr>\n",
       "    <tr>\n",
       "      <th>53935</th>\n",
       "      <td>53936</td>\n",
       "      <td>0.72</td>\n",
       "      <td>Ideal</td>\n",
       "      <td>D</td>\n",
       "      <td>SI1</td>\n",
       "      <td>60.8</td>\n",
       "      <td>57.0</td>\n",
       "      <td>2757</td>\n",
       "      <td>5.75</td>\n",
       "      <td>5.76</td>\n",
       "      <td>3.50</td>\n",
       "    </tr>\n",
       "    <tr>\n",
       "      <th>53936</th>\n",
       "      <td>53937</td>\n",
       "      <td>0.72</td>\n",
       "      <td>Good</td>\n",
       "      <td>D</td>\n",
       "      <td>SI1</td>\n",
       "      <td>63.1</td>\n",
       "      <td>55.0</td>\n",
       "      <td>2757</td>\n",
       "      <td>5.69</td>\n",
       "      <td>5.75</td>\n",
       "      <td>3.61</td>\n",
       "    </tr>\n",
       "    <tr>\n",
       "      <th>53937</th>\n",
       "      <td>53938</td>\n",
       "      <td>0.70</td>\n",
       "      <td>Very Good</td>\n",
       "      <td>D</td>\n",
       "      <td>SI1</td>\n",
       "      <td>62.8</td>\n",
       "      <td>60.0</td>\n",
       "      <td>2757</td>\n",
       "      <td>5.66</td>\n",
       "      <td>5.68</td>\n",
       "      <td>3.56</td>\n",
       "    </tr>\n",
       "    <tr>\n",
       "      <th>53938</th>\n",
       "      <td>53939</td>\n",
       "      <td>0.86</td>\n",
       "      <td>Premium</td>\n",
       "      <td>H</td>\n",
       "      <td>SI2</td>\n",
       "      <td>61.0</td>\n",
       "      <td>58.0</td>\n",
       "      <td>2757</td>\n",
       "      <td>6.15</td>\n",
       "      <td>6.12</td>\n",
       "      <td>3.74</td>\n",
       "    </tr>\n",
       "    <tr>\n",
       "      <th>53939</th>\n",
       "      <td>53940</td>\n",
       "      <td>0.75</td>\n",
       "      <td>Ideal</td>\n",
       "      <td>D</td>\n",
       "      <td>SI2</td>\n",
       "      <td>62.2</td>\n",
       "      <td>55.0</td>\n",
       "      <td>2757</td>\n",
       "      <td>5.83</td>\n",
       "      <td>5.87</td>\n",
       "      <td>3.64</td>\n",
       "    </tr>\n",
       "  </tbody>\n",
       "</table>\n",
       "<p>53940 rows × 11 columns</p>\n",
       "</div>"
      ],
      "text/plain": [
       "       Unnamed: 0  carat        cut color clarity  depth  table  price     x  \\\n",
       "0               1   0.23      Ideal     E     SI2   61.5   55.0    326  3.95   \n",
       "1               2   0.21    Premium     E     SI1   59.8   61.0    326  3.89   \n",
       "2               3   0.23       Good     E     VS1   56.9   65.0    327  4.05   \n",
       "3               4   0.29    Premium     I     VS2   62.4   58.0    334  4.20   \n",
       "4               5   0.31       Good     J     SI2   63.3   58.0    335  4.34   \n",
       "...           ...    ...        ...   ...     ...    ...    ...    ...   ...   \n",
       "53935       53936   0.72      Ideal     D     SI1   60.8   57.0   2757  5.75   \n",
       "53936       53937   0.72       Good     D     SI1   63.1   55.0   2757  5.69   \n",
       "53937       53938   0.70  Very Good     D     SI1   62.8   60.0   2757  5.66   \n",
       "53938       53939   0.86    Premium     H     SI2   61.0   58.0   2757  6.15   \n",
       "53939       53940   0.75      Ideal     D     SI2   62.2   55.0   2757  5.83   \n",
       "\n",
       "          y     z  \n",
       "0      3.98  2.43  \n",
       "1      3.84  2.31  \n",
       "2      4.07  2.31  \n",
       "3      4.23  2.63  \n",
       "4      4.35  2.75  \n",
       "...     ...   ...  \n",
       "53935  5.76  3.50  \n",
       "53936  5.75  3.61  \n",
       "53937  5.68  3.56  \n",
       "53938  6.12  3.74  \n",
       "53939  5.87  3.64  \n",
       "\n",
       "[53940 rows x 11 columns]"
      ]
     },
     "execution_count": 59,
     "metadata": {},
     "output_type": "execute_result"
    }
   ],
   "source": [
    "df\n",
    "\n"
   ]
  },
  {
   "cell_type": "code",
   "execution_count": 34,
   "id": "31da73d1",
   "metadata": {},
   "outputs": [
    {
     "data": {
      "text/html": [
       "<div>\n",
       "<style scoped>\n",
       "    .dataframe tbody tr th:only-of-type {\n",
       "        vertical-align: middle;\n",
       "    }\n",
       "\n",
       "    .dataframe tbody tr th {\n",
       "        vertical-align: top;\n",
       "    }\n",
       "\n",
       "    .dataframe thead th {\n",
       "        text-align: right;\n",
       "    }\n",
       "</style>\n",
       "<table border=\"1\" class=\"dataframe\">\n",
       "  <thead>\n",
       "    <tr style=\"text-align: right;\">\n",
       "      <th></th>\n",
       "      <th>carat</th>\n",
       "      <th>price</th>\n",
       "      <th>x</th>\n",
       "      <th>y</th>\n",
       "      <th>z</th>\n",
       "      <th>cut_Fair</th>\n",
       "      <th>cut_Good</th>\n",
       "      <th>cut_Ideal</th>\n",
       "      <th>cut_Premium</th>\n",
       "      <th>cut_Very Good</th>\n",
       "      <th>...</th>\n",
       "      <th>color_I</th>\n",
       "      <th>color_J</th>\n",
       "      <th>clarity_I1</th>\n",
       "      <th>clarity_IF</th>\n",
       "      <th>clarity_SI1</th>\n",
       "      <th>clarity_SI2</th>\n",
       "      <th>clarity_VS1</th>\n",
       "      <th>clarity_VS2</th>\n",
       "      <th>clarity_VVS1</th>\n",
       "      <th>clarity_VVS2</th>\n",
       "    </tr>\n",
       "  </thead>\n",
       "  <tbody>\n",
       "    <tr>\n",
       "      <th>0</th>\n",
       "      <td>0.23</td>\n",
       "      <td>326</td>\n",
       "      <td>3.95</td>\n",
       "      <td>3.98</td>\n",
       "      <td>2.43</td>\n",
       "      <td>0</td>\n",
       "      <td>0</td>\n",
       "      <td>1</td>\n",
       "      <td>0</td>\n",
       "      <td>0</td>\n",
       "      <td>...</td>\n",
       "      <td>0</td>\n",
       "      <td>0</td>\n",
       "      <td>0</td>\n",
       "      <td>0</td>\n",
       "      <td>0</td>\n",
       "      <td>1</td>\n",
       "      <td>0</td>\n",
       "      <td>0</td>\n",
       "      <td>0</td>\n",
       "      <td>0</td>\n",
       "    </tr>\n",
       "    <tr>\n",
       "      <th>1</th>\n",
       "      <td>0.21</td>\n",
       "      <td>326</td>\n",
       "      <td>3.89</td>\n",
       "      <td>3.84</td>\n",
       "      <td>2.31</td>\n",
       "      <td>0</td>\n",
       "      <td>0</td>\n",
       "      <td>0</td>\n",
       "      <td>1</td>\n",
       "      <td>0</td>\n",
       "      <td>...</td>\n",
       "      <td>0</td>\n",
       "      <td>0</td>\n",
       "      <td>0</td>\n",
       "      <td>0</td>\n",
       "      <td>1</td>\n",
       "      <td>0</td>\n",
       "      <td>0</td>\n",
       "      <td>0</td>\n",
       "      <td>0</td>\n",
       "      <td>0</td>\n",
       "    </tr>\n",
       "    <tr>\n",
       "      <th>2</th>\n",
       "      <td>0.23</td>\n",
       "      <td>327</td>\n",
       "      <td>4.05</td>\n",
       "      <td>4.07</td>\n",
       "      <td>2.31</td>\n",
       "      <td>0</td>\n",
       "      <td>1</td>\n",
       "      <td>0</td>\n",
       "      <td>0</td>\n",
       "      <td>0</td>\n",
       "      <td>...</td>\n",
       "      <td>0</td>\n",
       "      <td>0</td>\n",
       "      <td>0</td>\n",
       "      <td>0</td>\n",
       "      <td>0</td>\n",
       "      <td>0</td>\n",
       "      <td>1</td>\n",
       "      <td>0</td>\n",
       "      <td>0</td>\n",
       "      <td>0</td>\n",
       "    </tr>\n",
       "    <tr>\n",
       "      <th>3</th>\n",
       "      <td>0.29</td>\n",
       "      <td>334</td>\n",
       "      <td>4.20</td>\n",
       "      <td>4.23</td>\n",
       "      <td>2.63</td>\n",
       "      <td>0</td>\n",
       "      <td>0</td>\n",
       "      <td>0</td>\n",
       "      <td>1</td>\n",
       "      <td>0</td>\n",
       "      <td>...</td>\n",
       "      <td>1</td>\n",
       "      <td>0</td>\n",
       "      <td>0</td>\n",
       "      <td>0</td>\n",
       "      <td>0</td>\n",
       "      <td>0</td>\n",
       "      <td>0</td>\n",
       "      <td>1</td>\n",
       "      <td>0</td>\n",
       "      <td>0</td>\n",
       "    </tr>\n",
       "    <tr>\n",
       "      <th>4</th>\n",
       "      <td>0.31</td>\n",
       "      <td>335</td>\n",
       "      <td>4.34</td>\n",
       "      <td>4.35</td>\n",
       "      <td>2.75</td>\n",
       "      <td>0</td>\n",
       "      <td>1</td>\n",
       "      <td>0</td>\n",
       "      <td>0</td>\n",
       "      <td>0</td>\n",
       "      <td>...</td>\n",
       "      <td>0</td>\n",
       "      <td>1</td>\n",
       "      <td>0</td>\n",
       "      <td>0</td>\n",
       "      <td>0</td>\n",
       "      <td>1</td>\n",
       "      <td>0</td>\n",
       "      <td>0</td>\n",
       "      <td>0</td>\n",
       "      <td>0</td>\n",
       "    </tr>\n",
       "    <tr>\n",
       "      <th>...</th>\n",
       "      <td>...</td>\n",
       "      <td>...</td>\n",
       "      <td>...</td>\n",
       "      <td>...</td>\n",
       "      <td>...</td>\n",
       "      <td>...</td>\n",
       "      <td>...</td>\n",
       "      <td>...</td>\n",
       "      <td>...</td>\n",
       "      <td>...</td>\n",
       "      <td>...</td>\n",
       "      <td>...</td>\n",
       "      <td>...</td>\n",
       "      <td>...</td>\n",
       "      <td>...</td>\n",
       "      <td>...</td>\n",
       "      <td>...</td>\n",
       "      <td>...</td>\n",
       "      <td>...</td>\n",
       "      <td>...</td>\n",
       "      <td>...</td>\n",
       "    </tr>\n",
       "    <tr>\n",
       "      <th>53935</th>\n",
       "      <td>0.72</td>\n",
       "      <td>2757</td>\n",
       "      <td>5.75</td>\n",
       "      <td>5.76</td>\n",
       "      <td>3.50</td>\n",
       "      <td>0</td>\n",
       "      <td>0</td>\n",
       "      <td>1</td>\n",
       "      <td>0</td>\n",
       "      <td>0</td>\n",
       "      <td>...</td>\n",
       "      <td>0</td>\n",
       "      <td>0</td>\n",
       "      <td>0</td>\n",
       "      <td>0</td>\n",
       "      <td>1</td>\n",
       "      <td>0</td>\n",
       "      <td>0</td>\n",
       "      <td>0</td>\n",
       "      <td>0</td>\n",
       "      <td>0</td>\n",
       "    </tr>\n",
       "    <tr>\n",
       "      <th>53936</th>\n",
       "      <td>0.72</td>\n",
       "      <td>2757</td>\n",
       "      <td>5.69</td>\n",
       "      <td>5.75</td>\n",
       "      <td>3.61</td>\n",
       "      <td>0</td>\n",
       "      <td>1</td>\n",
       "      <td>0</td>\n",
       "      <td>0</td>\n",
       "      <td>0</td>\n",
       "      <td>...</td>\n",
       "      <td>0</td>\n",
       "      <td>0</td>\n",
       "      <td>0</td>\n",
       "      <td>0</td>\n",
       "      <td>1</td>\n",
       "      <td>0</td>\n",
       "      <td>0</td>\n",
       "      <td>0</td>\n",
       "      <td>0</td>\n",
       "      <td>0</td>\n",
       "    </tr>\n",
       "    <tr>\n",
       "      <th>53937</th>\n",
       "      <td>0.70</td>\n",
       "      <td>2757</td>\n",
       "      <td>5.66</td>\n",
       "      <td>5.68</td>\n",
       "      <td>3.56</td>\n",
       "      <td>0</td>\n",
       "      <td>0</td>\n",
       "      <td>0</td>\n",
       "      <td>0</td>\n",
       "      <td>1</td>\n",
       "      <td>...</td>\n",
       "      <td>0</td>\n",
       "      <td>0</td>\n",
       "      <td>0</td>\n",
       "      <td>0</td>\n",
       "      <td>1</td>\n",
       "      <td>0</td>\n",
       "      <td>0</td>\n",
       "      <td>0</td>\n",
       "      <td>0</td>\n",
       "      <td>0</td>\n",
       "    </tr>\n",
       "    <tr>\n",
       "      <th>53938</th>\n",
       "      <td>0.86</td>\n",
       "      <td>2757</td>\n",
       "      <td>6.15</td>\n",
       "      <td>6.12</td>\n",
       "      <td>3.74</td>\n",
       "      <td>0</td>\n",
       "      <td>0</td>\n",
       "      <td>0</td>\n",
       "      <td>1</td>\n",
       "      <td>0</td>\n",
       "      <td>...</td>\n",
       "      <td>0</td>\n",
       "      <td>0</td>\n",
       "      <td>0</td>\n",
       "      <td>0</td>\n",
       "      <td>0</td>\n",
       "      <td>1</td>\n",
       "      <td>0</td>\n",
       "      <td>0</td>\n",
       "      <td>0</td>\n",
       "      <td>0</td>\n",
       "    </tr>\n",
       "    <tr>\n",
       "      <th>53939</th>\n",
       "      <td>0.75</td>\n",
       "      <td>2757</td>\n",
       "      <td>5.83</td>\n",
       "      <td>5.87</td>\n",
       "      <td>3.64</td>\n",
       "      <td>0</td>\n",
       "      <td>0</td>\n",
       "      <td>1</td>\n",
       "      <td>0</td>\n",
       "      <td>0</td>\n",
       "      <td>...</td>\n",
       "      <td>0</td>\n",
       "      <td>0</td>\n",
       "      <td>0</td>\n",
       "      <td>0</td>\n",
       "      <td>0</td>\n",
       "      <td>1</td>\n",
       "      <td>0</td>\n",
       "      <td>0</td>\n",
       "      <td>0</td>\n",
       "      <td>0</td>\n",
       "    </tr>\n",
       "  </tbody>\n",
       "</table>\n",
       "<p>53940 rows × 25 columns</p>\n",
       "</div>"
      ],
      "text/plain": [
       "       carat  price     x     y     z  cut_Fair  cut_Good  cut_Ideal  \\\n",
       "0       0.23    326  3.95  3.98  2.43         0         0          1   \n",
       "1       0.21    326  3.89  3.84  2.31         0         0          0   \n",
       "2       0.23    327  4.05  4.07  2.31         0         1          0   \n",
       "3       0.29    334  4.20  4.23  2.63         0         0          0   \n",
       "4       0.31    335  4.34  4.35  2.75         0         1          0   \n",
       "...      ...    ...   ...   ...   ...       ...       ...        ...   \n",
       "53935   0.72   2757  5.75  5.76  3.50         0         0          1   \n",
       "53936   0.72   2757  5.69  5.75  3.61         0         1          0   \n",
       "53937   0.70   2757  5.66  5.68  3.56         0         0          0   \n",
       "53938   0.86   2757  6.15  6.12  3.74         0         0          0   \n",
       "53939   0.75   2757  5.83  5.87  3.64         0         0          1   \n",
       "\n",
       "       cut_Premium  cut_Very Good  ...  color_I  color_J  clarity_I1  \\\n",
       "0                0              0  ...        0        0           0   \n",
       "1                1              0  ...        0        0           0   \n",
       "2                0              0  ...        0        0           0   \n",
       "3                1              0  ...        1        0           0   \n",
       "4                0              0  ...        0        1           0   \n",
       "...            ...            ...  ...      ...      ...         ...   \n",
       "53935            0              0  ...        0        0           0   \n",
       "53936            0              0  ...        0        0           0   \n",
       "53937            0              1  ...        0        0           0   \n",
       "53938            1              0  ...        0        0           0   \n",
       "53939            0              0  ...        0        0           0   \n",
       "\n",
       "       clarity_IF  clarity_SI1  clarity_SI2  clarity_VS1  clarity_VS2  \\\n",
       "0               0            0            1            0            0   \n",
       "1               0            1            0            0            0   \n",
       "2               0            0            0            1            0   \n",
       "3               0            0            0            0            1   \n",
       "4               0            0            1            0            0   \n",
       "...           ...          ...          ...          ...          ...   \n",
       "53935           0            1            0            0            0   \n",
       "53936           0            1            0            0            0   \n",
       "53937           0            1            0            0            0   \n",
       "53938           0            0            1            0            0   \n",
       "53939           0            0            1            0            0   \n",
       "\n",
       "       clarity_VVS1  clarity_VVS2  \n",
       "0                 0             0  \n",
       "1                 0             0  \n",
       "2                 0             0  \n",
       "3                 0             0  \n",
       "4                 0             0  \n",
       "...             ...           ...  \n",
       "53935             0             0  \n",
       "53936             0             0  \n",
       "53937             0             0  \n",
       "53938             0             0  \n",
       "53939             0             0  \n",
       "\n",
       "[53940 rows x 25 columns]"
      ]
     },
     "execution_count": 34,
     "metadata": {},
     "output_type": "execute_result"
    }
   ],
   "source": [
    "dummies=pd.get_dummies(df.loc[:,[\"cut\",\"color\",\"clarity\"]])\n",
    "\n",
    "df[dummies.columns] = dummies\n",
    "df.drop(df.iloc[:,[0,2,3,4,5,6]],inplace=True, axis=1)\n",
    "df"
   ]
  },
  {
   "cell_type": "code",
   "execution_count": 35,
   "id": "db9e7a9e",
   "metadata": {},
   "outputs": [
    {
     "data": {
      "text/plain": [
       "((10788, 25), (43152, 25))"
      ]
     },
     "execution_count": 35,
     "metadata": {},
     "output_type": "execute_result"
    }
   ],
   "source": [
    "train=df.sample(frac=0.8)\n",
    "test=df.drop(train.index)\n",
    "#train.drop(\"Unnamed: 0\",inplace=True, axis=1)\n",
    "#test.drop(\"Unnamed: 0\",inplace=True,axis=1)\n",
    "test.shape,train.shape"
   ]
  },
  {
   "cell_type": "code",
   "execution_count": 36,
   "id": "fb273c4c",
   "metadata": {},
   "outputs": [
    {
     "data": {
      "text/plain": [
       "((43152, 25), (43152, 24))"
      ]
     },
     "execution_count": 36,
     "metadata": {},
     "output_type": "execute_result"
    }
   ],
   "source": [
    "trainy=train[\"price\"].to_numpy()\n",
    "trainx=train.drop([\"price\"],axis=1)\n",
    "testy=test[\"price\"].to_numpy()\n",
    "\n",
    "testx=test.drop([\"price\"],axis=1).to_numpy()\n",
    "\n",
    "trainx=trainx.to_numpy()\n",
    "testx.shape,testy.shape,trainx.shape[0]\n",
    "\n",
    "train.shape,trainx.shape"
   ]
  },
  {
   "cell_type": "code",
   "execution_count": 37,
   "id": "35a54b87",
   "metadata": {},
   "outputs": [],
   "source": [
    "class Linear_regression:\n",
    "    def __init__(self,x,y,alpha=0.01):\n",
    "        self.x=x\n",
    "        self.y=y\n",
    "        self.alpha=alpha\n",
    "        self.samples,self.features=x.shape\n",
    "        self.theta=np.ones(shape=(self.features, 1))\n",
    "        self.losses=[]\n",
    "        #self.theta=np.reshape(self.theta,(self.theta.size,1))\n",
    "        \n",
    "    def predict(self,x):\n",
    "        return np.dot(x, self.theta)\n",
    "    \n",
    "    def cost(self,theta):\n",
    "        temp=self.y-np.dot(self.x,theta)\n",
    "        loss=np.dot(temp.T,temp).item()\n",
    "        loss=loss/(2*(self.samples))\n",
    "        self.losses.append(loss)\n",
    "        \n",
    "    def training(self,n=1000):\n",
    "        while(n):\n",
    "            \n",
    "            self.y_hat=np.dot(self.x,self.theta)\n",
    "            temp=self.y-self.y_hat\n",
    "            \n",
    "            self.gradient=np.dot(self.x.T,temp)\n",
    "            #print(self.gradient.shape)            \n",
    "            self.theta=self.theta+((self.alpha/self.samples)*self.gradient)\n",
    "            self.cost(self.theta)\n",
    "            #print(self.theta.shape)\n",
    "            n=n-1\n",
    "    \n",
    "        return self.theta\n",
    "    \n",
    "    def testing(self,x,theta):\n",
    "        self.test_x=x\n",
    "        self.test_y=np.dot(x,self.theta)\n",
    "        print(self.test_y)\n",
    "        return self.test_y\n",
    "        "
   ]
  },
  {
   "cell_type": "code",
   "execution_count": 38,
   "id": "c3379372",
   "metadata": {},
   "outputs": [],
   "source": [
    "trainy=np.reshape(trainy,(trainy.size,1))\n",
    "testy=np.reshape(testy,(testy.size,1))\n"
   ]
  },
  {
   "cell_type": "code",
   "execution_count": 39,
   "id": "82721ab8",
   "metadata": {},
   "outputs": [
    {
     "data": {
      "text/plain": [
       "((10788, 1), (43152, 25))"
      ]
     },
     "execution_count": 39,
     "metadata": {},
     "output_type": "execute_result"
    }
   ],
   "source": [
    "bias_col = np.ones(shape=(trainx.shape[0], 1))\n",
    "trainx = np.hstack((bias_col, trainx))\n",
    "bias_col = np.ones(shape=(testx.shape[0], 1))\n",
    "\n",
    "testx=np.hstack((bias_col, testx))\n",
    "bias_col.shape,trainx.shape"
   ]
  },
  {
   "cell_type": "code",
   "execution_count": 40,
   "id": "6f51ab7e",
   "metadata": {},
   "outputs": [
    {
     "data": {
      "text/plain": [
       "((43152, 25), (43152, 1))"
      ]
     },
     "execution_count": 40,
     "metadata": {},
     "output_type": "execute_result"
    }
   ],
   "source": [
    "#trainx=trainx.transpose()\n",
    "trainx.shape,trainy.shape"
   ]
  },
  {
   "cell_type": "code",
   "execution_count": 41,
   "id": "16e7e108",
   "metadata": {},
   "outputs": [
    {
     "data": {
      "text/plain": [
       "((43152, 25),\n",
       " (43152, 25),\n",
       " array([[1.  , 0.24, 3.97, ..., 0.  , 1.  , 0.  ],\n",
       "        [1.  , 0.58, 5.44, ..., 0.  , 0.  , 1.  ],\n",
       "        [1.  , 0.4 , 4.76, ..., 0.  , 0.  , 1.  ],\n",
       "        ...,\n",
       "        [1.  , 0.41, 4.71, ..., 0.  , 1.  , 0.  ],\n",
       "        [1.  , 1.09, 6.62, ..., 0.  , 0.  , 1.  ],\n",
       "        [1.  , 0.3 , 4.25, ..., 0.  , 0.  , 0.  ]]))"
      ]
     },
     "execution_count": 41,
     "metadata": {},
     "output_type": "execute_result"
    }
   ],
   "source": [
    "train.shape,trainx.shape,trainx"
   ]
  },
  {
   "cell_type": "code",
   "execution_count": 42,
   "id": "03cb6fc3",
   "metadata": {},
   "outputs": [
    {
     "data": {
      "text/plain": [
       "<__main__.Linear_regression at 0x7fb61b514d00>"
      ]
     },
     "execution_count": 42,
     "metadata": {},
     "output_type": "execute_result"
    }
   ],
   "source": [
    "lr=Linear_regression(trainx,trainy)\n",
    "lr"
   ]
  },
  {
   "cell_type": "code",
   "execution_count": 43,
   "id": "8ba3abef",
   "metadata": {},
   "outputs": [],
   "source": [
    "mp=lr.training(n=5000)"
   ]
  },
  {
   "cell_type": "code",
   "execution_count": 44,
   "id": "a1c0e943",
   "metadata": {},
   "outputs": [
    {
     "data": {
      "text/plain": [
       "(array([[ 127.48735648],\n",
       "        [3313.37204692],\n",
       "        [1877.47507921],\n",
       "        ...,\n",
       "        [1733.16996283],\n",
       "        [7713.85427232],\n",
       "        [-193.81221884]]),\n",
       " array([[ 559],\n",
       "        [2201],\n",
       "        [1238],\n",
       "        ...,\n",
       "        [1169],\n",
       "        [8364],\n",
       "        [ 526]]))"
      ]
     },
     "execution_count": 44,
     "metadata": {},
     "output_type": "execute_result"
    }
   ],
   "source": [
    "np.dot(lr.x, mp), trainy"
   ]
  },
  {
   "cell_type": "code",
   "execution_count": 45,
   "id": "6f40cb28",
   "metadata": {},
   "outputs": [
    {
     "name": "stdout",
     "output_type": "stream",
     "text": [
      "[[ -501.48171741]\n",
      " [ -974.44175531]\n",
      " [-2542.66185492]\n",
      " ...\n",
      " [ 2978.46307442]\n",
      " [ 3229.25586111]\n",
      " [ 3286.21150583]]\n"
     ]
    },
    {
     "data": {
      "text/plain": [
       "(10788, 25)"
      ]
     },
     "execution_count": 45,
     "metadata": {},
     "output_type": "execute_result"
    }
   ],
   "source": [
    "pred=lr.testing(testx,mp)\n",
    "testx.shape"
   ]
  },
  {
   "cell_type": "code",
   "execution_count": 46,
   "id": "5a4de6d0",
   "metadata": {},
   "outputs": [
    {
     "data": {
      "text/plain": [
       "1412421.8205040037"
      ]
     },
     "execution_count": 46,
     "metadata": {},
     "output_type": "execute_result"
    }
   ],
   "source": [
    "mean_squared_error(testy,pred)"
   ]
  },
  {
   "cell_type": "code",
   "execution_count": 47,
   "id": "88fd4173",
   "metadata": {},
   "outputs": [
    {
     "data": {
      "text/plain": [
       "1503764.6416854877"
      ]
     },
     "execution_count": 47,
     "metadata": {},
     "output_type": "execute_result"
    }
   ],
   "source": [
    "mean_squared_error(trainy, np.dot(lr.x, mp))"
   ]
  },
  {
   "cell_type": "code",
   "execution_count": 48,
   "id": "b408b370",
   "metadata": {},
   "outputs": [],
   "source": [
    "from sklearn.linear_model import LinearRegression"
   ]
  },
  {
   "cell_type": "code",
   "execution_count": 49,
   "id": "30f30122",
   "metadata": {},
   "outputs": [
    {
     "data": {
      "text/plain": [
       "LinearRegression(positive=True)"
      ]
     },
     "execution_count": 49,
     "metadata": {},
     "output_type": "execute_result"
    }
   ],
   "source": [
    "sklr = LinearRegression(positive=True)\n",
    "sklr.fit(trainx, trainy)"
   ]
  },
  {
   "cell_type": "code",
   "execution_count": 50,
   "id": "035951b8",
   "metadata": {},
   "outputs": [
    {
     "data": {
      "text/plain": [
       "array([[ -334.75],\n",
       "       [ -909.25],\n",
       "       [-2802.75],\n",
       "       ...,\n",
       "       [ 2780.5 ],\n",
       "       [ 3184.75],\n",
       "       [ 3293.75]])"
      ]
     },
     "execution_count": 50,
     "metadata": {},
     "output_type": "execute_result"
    }
   ],
   "source": [
    "sklr.predict(testx)"
   ]
  },
  {
   "cell_type": "code",
   "execution_count": 51,
   "id": "490bdbdc",
   "metadata": {},
   "outputs": [
    {
     "data": {
      "text/plain": [
       "array([[ 327],\n",
       "       [ 338],\n",
       "       [ 339],\n",
       "       ...,\n",
       "       [2756],\n",
       "       [2756],\n",
       "       [2757]])"
      ]
     },
     "execution_count": 51,
     "metadata": {},
     "output_type": "execute_result"
    }
   ],
   "source": [
    "testy"
   ]
  },
  {
   "cell_type": "code",
   "execution_count": 52,
   "id": "b716bd7d",
   "metadata": {},
   "outputs": [
    {
     "data": {
      "text/plain": [
       "1276381.9082893028"
      ]
     },
     "execution_count": 52,
     "metadata": {},
     "output_type": "execute_result"
    }
   ],
   "source": [
    "mean_squared_error(testy, sklr.predict(testx))"
   ]
  },
  {
   "cell_type": "code",
   "execution_count": 53,
   "id": "5cb4d929",
   "metadata": {},
   "outputs": [
    {
     "data": {
      "text/plain": [
       "[<matplotlib.lines.Line2D at 0x7fb61b4a9e50>]"
      ]
     },
     "execution_count": 53,
     "metadata": {},
     "output_type": "execute_result"
    },
    {
     "data": {
      "image/png": "[encoded data removed]",
      "text/plain": [
       "<Figure size 432x288 with 1 Axes>"
      ]
     },
     "metadata": {
      "needs_background": "light"
     },
     "output_type": "display_data"
    }
   ],
   "source": [
    "plt.plot(lr.losses)"
   ]
  },
  {
   "cell_type": "code",
   "execution_count": 54,
   "id": "a16f5186",
   "metadata": {},
   "outputs": [
    {
     "name": "stdout",
     "output_type": "stream",
     "text": [
      "[5687824.130231479, 5407063.988936425, 5386121.408219844, 5372214.904671414, 5358551.770563627, 5344949.206783043, 5331402.029119917, 5317909.827594177, 5304472.322083936, 5291089.23751769, 5277760.300510734, 5264485.239264918, 5251263.783556181, 5238095.664724517, 5224980.615664026, 5211918.3708130885, 5198908.666144568, 5185951.239156094, 5173045.828860415, 5160192.1757757915, 5147390.021916492, 5134639.110783317, 5121939.187354205, 5109289.998074901, 5096691.290849675, 5084142.815032115, 5071644.321415986, 5059195.562226127, 5046796.291109435, 5034446.263125894, 5022145.234739664, 5009892.96381024, 4997689.209583661, 4985533.732683781, 4973426.295103589, 4961366.660196608, 4949354.592668329, 4937389.8585677175, 4925472.225278769, 4913601.461512119, 4901777.337296716, 4889999.62397155, 4878268.094177423, 4866582.521848795, 4854942.682205663, 4843348.351745515, 4831799.308235313, 4820295.330703556, 4808836.1994323805, 4797421.695949703, 4786051.603021451, 4774725.704643802, 4763443.7860355, 4752205.633630223, 4741011.035068992, 4729859.77919263, 4718751.656034283, 4707686.456811979, 4696663.973921235, 4685684.000927724, 4674746.332559989, 4663850.764702189, 4652997.094386915, 4642185.11978804, 4631414.640213623, 4620685.45609885, 4609997.368999038, 4599350.181582671, 4588743.697624484, 4578177.721998606, 4567652.06067173, 4557166.520696339, 4546720.910203977, 4536315.038398553, 4525948.715549709, 4515621.752986216, 4505333.9630894195, 4495085.159286723, 4484875.156045125, 4474703.768864787, 4464570.814272655, 4454476.109816114, 4444419.474056686, 4434400.726563778, 4424419.687908452, 4414476.179657264, 4404570.024366119, 4394701.045574174, 4384869.067797793, 4375073.916524518, 4365315.418207102, 4355593.4002575725, 4345907.691041328, 4336258.119871288, 4326644.517002063, 4317066.713624183, 4307524.5418583425, 4298017.834749704, 4288546.426262223, 4279110.151273018, 4269708.845566777, 4260342.345830202, 4251010.489646479, 4241713.1154898, 4232450.062719918, 4223221.171576715, 4214026.283174848, 4204865.239498385, 4195737.883395516, 4186644.058573259, 4177583.60959224, 4168556.3818614804, 4159562.2216332224, 4150600.975997801, 4141672.4928785353, 4132776.621026664, 4123913.2100163014, 4115082.110239439, 4106283.1729009734, 4097516.25001377, 4088781.1943937493, 4080077.8596550217, 4071406.1002050405, 4062765.7712397887, 4054156.7287390046, 4045578.8294614283, 4037031.9309400884, 4028515.8914776123, 4020030.570141571, 4011575.826759854, 4003151.521916068, 3994757.5169449802, 3986393.673927975, 3978059.855688547, 3969755.925787827, 3961481.748520133, 3953237.188908545, 3945022.1127005243, 3936836.3863635417, 3928679.877080746, 3920552.4527466623, 3912453.9819629085, 3904384.334033942, 3896343.378962854, 3888330.9874471487, 3880347.030874596, 3872391.381319079, 3864463.911536485, 3856564.4949606117, 3848693.0056991116, 3840849.318529456, 3833033.308894923, 3825244.852900612, 3817483.8273094976, 3809750.109538485, 3802043.5776545056, 3794364.110370647, 3786711.587042282, 3779085.8876632433, 3771486.8928620196, 3763914.483897969, 3756368.542657566, 3748848.9516506586, 3741355.5940067694, 3733888.3534714067, 3726447.1144023975, 3719031.7617662554, 3711642.181134563, 3704278.258680378, 3696939.8811746696, 3689626.935982769, 3682339.311060845, 3675076.8949524076, 3667839.576784829, 3660627.2462658887, 3653439.793680333, 3646277.1098864777, 3639139.0863128034, 3632025.6149545973, 3624936.5883706035, 3617871.8996797004, 3610831.4425575915, 3603815.111233533, 3596822.800487062, 3589854.4056447623, 3582909.822577042, 3575988.9476949363, 3569091.6779469247, 3562217.9108157754, 3555367.544315412, 3548540.4769877857, 3541736.6078997757, 3534955.836640127, 3528198.063316372, 3521463.1885518027, 3514751.1134824436, 3508061.73975406, 3501394.9695191644, 3494750.7054340616, 3488128.8506559045, 3481529.308839765, 3474951.9841357283, 3468396.7811860074, 3461863.6051220708, 3455352.361561792, 3448862.956606612, 3442395.2968387348, 3435949.2893183124, 3429524.8415806834, 3423121.8616335965, 3416740.25795447, 3410379.939487671, 3404040.815641792, 3397722.7962869722, 3391425.791752212, 3385149.7128227158, 3378894.4707372524, 3372659.977185528, 3366446.1443055724, 3360252.8846811587, 3354080.111339213, 3347927.7377472674, 3341795.6778109046, 3335683.8458712376, 3329592.1567024016, 3323520.525509043, 3317468.8679238576, 3311437.1000051135, 3305425.1382342083, 3299432.8995132325, 3293460.3011625507, 3287507.2609184035, 3281573.696930513, 3275659.5277597145, 3269764.6723755966, 3263889.050154159, 3258032.580875481, 3252195.1847214126, 3246376.78227327, 3240577.294509555, 3234796.6428036815, 3229034.74892172, 3223291.5350201535, 3217566.923643655, 3211860.837722864, 3206173.2005721945, 3200503.9358876455, 3194852.9677446266, 3189220.220595795, 3183605.6192689207, 3178009.0889647445, 3172430.555254859, 3166869.9440796073, 3161327.1817459883, 3155802.194925575, 3150294.91065245, 3144805.2563211475, 3139333.1596846185, 3133878.548852197, 3128441.352287583, 3123021.498806848, 3117618.917576435, 3112233.5381111805, 3106865.2902723546, 3101514.1042657006, 3096179.910639496, 3090862.640282622, 3085562.2244226485, 3080278.5946239214, 3075011.682785675, 3069761.421140146, 3064527.742250703, 3059310.5790099893, 3054109.8646380743, 3048925.5326806125, 3043757.5170070278, 3038605.7518086922, 3033470.1715971287, 3028350.7112022126, 3023247.3057703986, 3018159.890762948, 3013088.401954172, 3008032.775429683, 3002992.947584656, 2997968.855122108, 2992960.4350511753, 2987967.624685416, 2982990.36164111, 2978028.583835576, 2973082.229485502, 2968151.237105275, 2963235.545505336, 2958335.093790528, 2953449.8213584702, 2948579.667897935, 2943724.5733872275, 2938884.4780925917, 2934059.322566612, 2929249.047646631, 2924453.5944531746, 2919672.9043883905, 2914906.9191344907, 2910155.580652209, 2905418.8311792626, 2900696.613228828, 2895988.8695880235, 2891295.543316401, 2886616.577744448, 2881951.9164720965, 2877301.5033672466, 2872665.2825642917, 2868043.1984626567, 2863435.1957253464, 2858841.2192774992, 2854261.2143049506, 2849695.1262528086, 2845142.9008240355, 2840604.483978034, 2836079.8219292504, 2831568.8611457795, 2827071.5483479802, 2822587.8305071015, 2818117.6548439143, 2813660.9688273505, 2809217.7201731536, 2804787.856842534, 2800371.327040839, 2795968.0792162204, 2791578.0620583184, 2787201.2244969513, 2782837.515700811, 2778486.8850761713, 2774149.282265598, 2769824.657146669, 2765512.959830706, 2761214.1406615074, 2756928.1502140933, 2752654.9392934567, 2748394.4589333227, 2744146.660394913, 2739911.4951657215, 2735688.914958294, 2731478.8717090148, 2727281.3175769085, 2723096.2049424364, 2718923.4864063067, 2714763.1147882966, 2710615.043126073, 2706479.2246740228, 2702355.6129020923, 2698244.1614946336, 2694144.8243492586, 2690057.5555756884, 2685982.3094946314, 2681919.040636648, 2677867.703741032, 2673828.2537546963, 2669800.6458310657, 2665784.8353289785, 2661780.7778115864, 2657788.429045272, 2653807.744998567, 2649838.6818410736, 2645881.1959424014, 2641935.2438711, 2638000.7823936073, 2634077.7684732005, 2630166.1592689464, 2626265.912134672, 2622376.9846179294, 2618499.3344589723, 2614632.919589737, 2610777.698132829, 2606933.628400516, 2603100.6688937307, 2599278.7783010695, 2595467.915497811, 2591668.039544927, 2587879.109688108, 2584101.0853567896, 2580333.9261631896, 2576577.591901345, 2572832.0425461615, 2569097.2382524568, 2565373.1393540264, 2561659.7063627015, 2557956.8999674167, 2554264.6810332825, 2550583.010600667, 2546911.849884278, 2543251.1602722523, 2539600.9033252494, 2535961.040775558, 2532331.534526192, 2528712.346650008, 2525103.4393888195, 2521504.775152514, 2517916.316518188, 2514338.0262292684, 2510769.8671946567, 2507211.8024878646, 2503663.795346162, 2500125.809169734, 2496597.807520829, 2493079.7541229236, 2489571.61285989, 2486073.347775163, 2482584.923070923, 2479106.303107268, 2475637.452401407, 2472178.335626841, 2468728.9176125675, 2465289.163342274, 2461859.0379535435, 2458438.506737063, 2455027.5351358377, 2451626.0887444117, 2448234.133308081, 2444851.634722131, 2441478.559031063, 2438114.8724278277, 2434760.541253073, 2431415.531994379, 2428079.8112855167, 2424753.345905693, 2421436.1027788133, 2418128.0489727412, 2414829.1516985674, 2411539.3783098757, 2408258.6963020223, 2404987.0733114113, 2401724.477114777, 2398470.8756284774, 2395226.236907773, 2391990.5291461363, 2388763.720674542, 2385545.7799607716, 2382336.6756087206, 2379136.3763577132, 2375944.851081812, 2372762.068789143, 2369587.9986212123, 2366422.6098522376, 2363265.8718884783, 2360117.754267567, 2356978.2266578507, 2353847.258857732, 2350724.820795016, 2347610.8825262557, 2344505.4142361116, 2341408.3862367026, 2338319.7689669696, 2335239.532992042, 2332167.6490025995, 2329104.0878142496, 2326048.820366897, 2323001.8177241287, 2319963.051072588, 2316932.4917213684, 2313910.111101394, 2310895.880764822, 2307889.7723844284, 2304891.757753016, 2301901.808782811, 2298919.897504871, 2295945.9960684963, 2292980.07674064, 2290022.111905325, 2287072.0740630664, 2284129.9358302876, 2281195.6699387534, 2278269.249234992, 2275350.6466797357, 2272439.8353473474, 2269536.788425267, 2266641.4792134473, 2263753.881123804, 2260873.967679661, 2258001.7125151986, 2255137.089374916, 2252280.0721130827, 2249430.6346931974, 2246588.751187456, 2243754.395776216, 2240927.5427474645, 2238108.166496292, 2235296.241524369, 2232491.74243942, 2229694.6439547087, 2226904.9208885203, 2224122.548163648, 2221347.5008068844, 2218579.7539485106, 2215819.282821796, 2213066.062762492, 2210320.069208337, 2207581.277698558, 2204849.6638733763, 2202125.203473518, 2199407.8723397264, 2196697.6464122757, 2193994.501730488, 2191298.4144322537, 2188609.3607535553, 2185927.3170279893, 2183252.2596862987, 2180584.1652558995, 2177923.010360415, 2175268.7717192145, 2172621.4261469445, 2169980.950553079, 2167347.321941452, 2164720.5174098136, 2162100.5141493706, 2159487.28944434, 2156880.820671503, 2154281.085299762, 2151688.060889692, 2149101.725093111, 2146522.055652635, 2143949.0304012457, 2141382.6272618594, 2138822.8242468964, 2136269.599457853, 2133722.9310848764, 2131182.7974063414, 2128649.176788431, 2126122.047684719, 2123601.388635746, 2121087.1782686203, 2118579.3952965895, 2116078.018518648, 2113583.0268191136, 2111094.3991672355, 2108612.1146167843, 2106136.152305655, 2103666.4914554683, 2101203.1113711703, 2098745.991440646, 2096295.1111343193, 2093850.4500047718, 2091411.9876863447, 2088979.7038947647, 2086553.5784267501, 2084133.5911596373, 2081719.7220509974, 2079311.9511382594, 2076910.2585383356, 2074514.6244472465, 2072125.0291397553, 2069741.4529689879, 2067363.8763660782, 2064992.279839793, 2062626.6439761722, 2060266.9494381712, 2057913.1769652942, 2055565.3073732406, 2053223.321553551, 2050887.200473249, 2048556.9251744943, 2046232.4767742285, 2043913.8364638295, 2041600.9855087649, 2039293.9052482466, 2036992.57709489, 2034696.9825343706, 2032407.103125089, 2030122.9204978314, 2027844.4163554301, 2025571.572472442, 2023304.3706948021, 2021042.792939505, 2018786.8211942704, 2016536.4375172188, 2014291.6240365477, 2012052.3629502037, 2009818.63652557, 2007590.4270991366, 2005367.7170761905, 2003150.4889304943, 2000938.7252039742, 1998732.408506407, 1996531.5215151054, 1994336.0469746145, 1992145.9676963997, 1989961.2665585394, 1987781.9265054215, 1985607.9305474437, 1983439.2617607047, 1981275.9032867101, 1979117.8383320745, 1976965.0501682162, 1974817.522131074, 1972675.2376208035, 1970538.1801014908, 1968406.3331008574, 1966279.6802099766, 1964158.205082978, 1962041.891436771, 1959930.7230507513, 1957824.6837665231, 1955723.7574876142, 1953627.9281791996, 1951537.1798678183, 1949451.4966410971, 1947370.8626474806, 1945295.2620959464, 1943224.679255739, 1941159.098456098, 1939098.5040859866, 1937042.8805938188, 1934992.2124872005, 1932946.4843326572, 1930905.6807553705, 1928869.7864389159, 1926838.7861249992, 1924812.6646131987, 1922791.4067607033, 1920774.997482055, 1918763.4217488947, 1916756.6645897038, 1914754.7110895505, 1912757.546389841, 1910765.1556880635, 1908777.5242375412, 1906794.637347182, 1904816.480381232, 1902843.0387590278, 1900874.2979547542, 1898910.2434971973, 1896950.8609695048, 1894996.1360089427, 1893046.0543066573, 1891100.6016074345, 1889159.7637094639, 1887223.526464103, 1885291.8757756373, 1883364.7976010551, 1881442.2779498044, 1879524.3028835715, 1877610.858516042, 1875701.9310126773, 1873797.5065904853, 1871897.5715177904, 1870002.1121140153, 1868111.114749446, 1866224.5658450166, 1864342.4518720845, 1862464.7593522088, 1860591.474856929, 1858722.5850075504, 1856858.07647492, 1854997.9359792168, 1853142.1502897304, 1851290.7062246474, 1849443.5906508416, 1847600.7904836587, 1845762.2926867043, 1843928.084271636, 1842098.1522979534, 1840272.4838727857, 1838451.0661506928, 1836633.8863334535, 1834820.9316698618, 1833012.1894555218, 1831207.6470326458, 1829407.2917898546, 1827611.1111619717, 1825819.092629828, 1824031.2237200593, 1822247.4920049105, 1820467.8851020369, 1818692.3906743107, 1816920.9964296222, 1815153.6901206914, 1813390.4595448696, 1811631.2925439484, 1809876.1770039715, 1808125.1008550394, 1806378.052071127, 1804635.0186698884, 1802895.9887124735, 1801160.9503033403, 1799429.8915900695, 1797702.80076318, 1795979.666055945, 1794260.4757442093, 1792545.218146207, 1790833.8816223824, 1789126.4545752052, 1787422.9254489986, 1785723.2827297528, 1784027.5149449538, 1782335.6106634045, 1780647.5584950477, 1778963.3470907935, 1777282.9651423437, 1775606.4013820202, 1773933.6445825908, 1772264.6835570978, 1770599.5071586906, 1768938.1042804534, 1767280.463855233, 1765626.5748554785, 1763976.4262930672, 1762330.0072191407, 1760687.3067239397, 1759048.3139366372, 1757413.0180251775, 1755781.4081961098, 1754153.4736944286, 1752529.2038034073, 1750908.5878444437, 1749291.6151768954, 1747678.275197922, 1746068.5573423263, 1744462.4510823947, 1742859.9459277461, 1741261.0314251664, 1739665.6971584624, 1738073.9327483003, 1736485.7278520537, 1734901.0721636529, 1733319.955413428, 1731742.36736796, 1730168.2978299304, 1728597.7366379676, 1727030.6736664993, 1725467.0988256054, 1723907.0020608648, 1722350.3733532142, 1720797.2027187955, 1719247.4802088146, 1717701.1959093923, 1716158.339941422, 1714618.902460425, 1713082.8736564072, 1711550.2437537154, 1710021.0030108977, 1708495.1417205606, 1706972.6502092297, 1705453.5188372068, 1703937.7379984353, 1702425.2981203594, 1700916.1896637827, 1699410.4031227385, 1697907.9290243466, 1696408.75792868, 1694912.8804286297, 1693420.2871497702, 1691930.9687502238, 1690444.9159205311, 1688962.1193835118, 1687482.5698941397, 1686006.258239406, 1684533.1752381923, 1683063.3117411355, 1681596.6586305033, 1680133.2068200633, 1678672.9472549518, 1677215.8709115505, 1675761.9687973585, 1674311.2319508595, 1672863.6514414065, 1671419.2183690865, 1669977.9238646026, 1668539.7590891442, 1667104.7152342678, 1665672.7835217721, 1664243.9552035758, 1662818.2215615942, 1661395.5739076203, 1659976.0035832012, 1658559.501959524, 1657146.0604372844, 1655735.6704465807, 1654328.3234467872, 1652924.010926439, 1651522.7244031127, 1650124.4554233106, 1648729.1955623478, 1647336.9364242293, 1645947.6696415392, 1644561.3868753272, 1643178.0798149905, 1641797.7401781613, 1640420.359710598, 1639045.930186065, 1637674.4434062263, 1636305.8912005338, 1634940.265426111, 1633577.5579676488, 1632217.7607372918, 1630860.8656745292, 1629506.8647460875, 1628155.7499458203, 1626807.513294599, 1625462.1468402094, 1624119.6426572406, 1622779.9928469802, 1621443.1895373093, 1620109.2248825943, 1618778.091063584, 1617449.7802873037, 1616124.2847869522, 1614801.5968217973, 1613481.7086770718, 1612164.612663875, 1610850.301119064, 1609538.7664051573, 1608230.0009102307, 1606923.9970478169, 1605620.7472568061, 1604320.2440013464, 1603022.4797707414, 1601727.4470793547, 1600435.1384665086, 1599145.5464963894, 1597858.6637579452, 1596574.4828647918, 1595292.9964551155, 1594014.1971915765, 1592738.0777612126, 1591464.630875344, 1590193.8492694779, 1588925.725703216, 1587660.252960156, 1586397.4238478024, 1585137.2311974708, 1583879.6678641953, 1582624.726726635, 1581372.400686986, 1580122.6826708834, 1578875.5656273148, 1577631.0425285297, 1576389.1063699436, 1575149.7501700565, 1573912.9669703552, 1572678.749835228, 1571447.0918518766, 1570217.986130226, 1568991.4258028367, 1567767.4040248173, 1566545.9139737366, 1565326.9488495397, 1564110.5018744564, 1562896.5662929197, 1561685.1353714783, 1560476.202398711, 1559269.760685142, 1558065.8035631576, 1556864.324386919, 1555665.316532283, 1554468.7733967144, 1553274.688399203, 1552083.054980186, 1550893.866601461, 1549707.1167461036, 1548522.7989183886, 1547340.906643708, 1546161.4334684892, 1544984.372960115, 1543809.7187068432, 1542637.4643177285, 1541467.6034225386, 1540300.129671682, 1539135.0367361216, 1537972.318307303, 1536811.9680970716, 1535653.9798375987, 1534498.3472812995, 1533345.0642007613, 1532194.1243886629, 1531045.5216577002, 1529899.2498405096, 1528755.3027895915, 1527613.674377237, 1526474.358495451, 1525337.3490558777, 1524202.6399897274, 1523070.2252477014, 1521940.0987999195, 1520812.2546358432, 1519686.6867642084, 1518563.3892129469, 1517442.356029117, 1516323.581278832, 1515207.0590471856, 1514092.7834381817, 1512980.7485746667, 1511870.9485982514, 1510763.3776692457, 1509658.0299665881, 1508554.8996877735, 1507453.9810487858, 1506355.268284027, 1505258.755646248, 1504164.4374064815, 1503072.307853971, 1501982.361296106, 1500894.5920583506, 1499808.9944841787, 1498725.5629350056, 1497644.2917901198, 1496565.1754466186, 1495488.2083193408, 1494413.384840798, 1493340.699461115, 1492270.146647957, 1491201.7208864694, 1490135.416679209, 1489071.2285460844, 1488009.151024286, 1486949.1786682245, 1485891.3060494685, 1484835.5277566768, 1483781.838395539, 1482730.2325887105, 1481680.7049757494, 1480633.2502130556, 1479587.8629738071, 1478544.5379478976, 1477503.2698418756, 1476464.0533788844, 1475426.8832985978, 1474391.7543571615, 1473358.6613271309, 1472327.5989974113, 1471298.5621731987, 1470271.545675918, 1469246.5443431642, 1468223.5530286438, 1467202.5666021132, 1466183.5799493236, 1465166.587971958, 1464151.5855875772, 1463138.5677295565, 1462127.529347033, 1461118.465404845, 1460111.3708834737, 1459106.240778988, 1458103.0701029894, 1457101.8538825482, 1456102.587160155, 1455105.2649936597, 1454109.882456218, 1453116.4346362324, 1452124.916637301, 1451135.3235781582, 1450147.6505926226, 1449161.8928295397, 1448178.04545273, 1447196.1036409317, 1446216.062587749, 1445237.917501596, 1444261.6636056448, 1443287.296137772, 1442314.810350503, 1441344.2015109633, 1440375.464900821, 1439408.5958162367, 1438443.589567811, 1437480.4414805337, 1436519.1468937271, 1435559.7011610006, 1434602.0996501932, 1433646.3377433268, 1432692.410836554, 1431740.3143401053, 1430790.0436782392, 1429841.594289194, 1428894.9616251353, 1427950.1411521055, 1427007.1283499761, 1426065.918712396, 1425126.5077467458, 1424188.8909740814, 1423253.0639290928, 1422319.0221600514, 1421386.7612287607, 1420456.276710511, 1419527.564194027, 1418600.6192814247, 1417675.4375881592, 1416752.0147429793, 1415830.3463878797, 1414910.428178055, 1413992.2557818503, 1413075.824880714, 1412161.1311691564, 1411248.1703546965, 1410336.9381578197, 1409427.4303119308, 1408519.6425633086, 1407613.5706710583, 1406709.210407069, 1405806.5575559656, 1404905.607915067, 1404006.3572943357, 1403108.801516338, 1402212.9364161985, 1401318.7578415533, 1400426.2616525094, 1399535.443721596, 1398646.2999337264, 1397758.8261861478, 1396873.018388404, 1395988.8724622892, 1395106.3843418015, 1394225.5499731072, 1393346.3653144916, 1392468.826336321, 1391592.9290209967, 1390718.6693629131, 1389846.0433684185, 1388975.0470557716, 1388105.676455096, 1387237.9276083463, 1386371.7965692591, 1385507.2794033159, 1384644.3721877006, 1383783.0710112604, 1382923.3719744622, 1382065.2711893534, 1381208.7647795219, 1380353.8488800542, 1379500.5196374985, 1378648.7732098205, 1377798.6057663667, 1376950.0134878224, 1376102.992566177, 1375257.5392046757, 1374413.6496177914, 1373571.3200311763, 1372730.5466816288, 1371891.3258170527, 1371053.6536964173, 1370217.5265897212, 1369382.9407779553, 1368549.8925530596, 1367718.3782178897, 1366888.394086179, 1366059.9364824977, 1365233.0017422196, 1364407.5862114793, 1363583.6862471416, 1362761.298216759, 1361940.4184985373, 1361121.0434812997, 1360303.1695644474, 1359486.7931579247, 1358671.9106821835, 1357858.5185681465, 1357046.61325717, 1356236.1912010089, 1355427.248861782, 1354619.7827119343, 1353813.7892342042, 1353009.2649215842, 1352206.2062772901, 1351404.6098147242, 1350604.4720574387, 1349805.7895391032, 1349008.5588034687, 1348212.7764043345, 1347418.4389055138, 1346625.5428807964, 1345834.0849139176, 1345044.061598524, 1344255.46953814, 1343468.3053461325, 1342682.5656456773, 1341898.247069728, 1341115.3462609793, 1340333.859871839, 1339553.7845643875, 1338775.117010353, 1337997.8538910714, 1337221.9918974598, 1336447.52772998, 1335674.458098608, 1334902.7797227993, 1334132.4893314606, 1333363.5836629146, 1332596.0594648693, 1331829.9134943865, 1331065.1425178489, 1330301.74331093, 1329539.7126585627, 1328779.0473549068, 1328019.7442033174, 1327261.8000163177, 1326505.211615563, 1325749.975831812, 1324996.0895048988, 1324243.5494836972, 1323492.3526260941, 1322742.495798958, 1321993.97587811, 1321246.789748288, 1320500.9343031275, 1319756.4064451212, 1319013.203085594, 1318271.3211446751, 1317530.7575512626, 1316791.5092430012, 1316053.5731662472, 1315316.9462760433, 1314581.6255360865, 1313847.6079187002, 1313114.8904048074, 1312383.4699838986, 1311653.3436540046, 1310924.508421669, 1310196.961301919, 1309470.6993182364, 1308745.7195025308, 1308022.0188951092, 1307299.5945446512, 1306578.44350818, 1305858.562851031, 1305139.9496468317, 1304422.6009774662, 1303706.5139330523, 1302991.6856119148, 1302278.1131205542, 1301565.7935736245, 1300854.7240939012, 1300144.9018122582, 1299436.3238676395, 1298728.987407033, 1298022.8895854428, 1297318.0275658644, 1296614.3985192552, 1295911.9996245126, 1295210.8280684445, 1294510.8810457438, 1293812.1557589623, 1293114.6494184874, 1292418.359242511, 1291723.2824570087, 1291029.4162957123, 1290336.758000084, 1289645.30481929, 1288955.0540101791, 1288266.0028372516, 1287578.14857264, 1286891.4884960796, 1286206.0198948851, 1285521.740063928, 1284838.646305607, 1284156.7359298274, 1283476.006253974, 1282796.4546028897, 1282118.0783088463, 1281440.8747115256, 1280764.8411579921, 1280089.9750026676, 1279416.27360731, 1278743.734340988, 1278072.354580059, 1277402.1317081416, 1276733.0631160953, 1276065.1462019961, 1275398.3783711107, 1274732.757035878, 1274068.279615881, 1273404.943537825, 1272742.7462355157, 1272081.6851498354, 1271421.757728719, 1270762.9614271321, 1270105.2937070492, 1269448.752037428, 1268793.3338941906, 1268139.036760197, 1267485.8581252256, 1266833.7954859494, 1266182.846345915, 1265533.008215518, 1264884.2786119834, 1264236.6550593409, 1263590.1350884067, 1262944.716236757, 1262300.3960487107, 1261657.172075304, 1261015.0418742702, 1260374.0030100194, 1259734.0530536145, 1259095.1895827518, 1258457.410181738, 1257820.7124414705, 1257185.093959417, 1256550.55233959, 1255917.0851925309, 1255284.6901352855, 1254653.3647913854, 1254023.1067908267, 1253393.913770048, 1252765.783371911, 1252138.71324568, 1251512.701047, 1250887.7444378778, 1250263.8410866621, 1249640.9886680203, 1249019.1848629229, 1248398.4273586178, 1247778.7138486155, 1247160.0420326656, 1246542.4096167393, 1245925.814313007, 1245310.2538398216, 1244695.7259216951, 1244082.2282892833, 1243469.7586793632, 1242858.3148348134, 1242247.894504597, 1241638.4954437404, 1241030.1154133156, 1240422.7521804182, 1239816.403518151, 1239211.0672056044, 1238606.741027837, 1238003.422775856, 1237401.1102466, 1236799.8012429192, 1236199.493573557, 1235600.1850531306, 1235001.8735021134, 1234404.5567468165, 1233808.2326193694, 1233212.898957703, 1232618.5536055292, 1232025.1944123248, 1231432.8192333127, 1230841.4259294427, 1230251.0123673752, 1229661.5764194615, 1229073.1159637268, 1228485.628883854, 1227899.1130691618, 1227313.566414591, 1226728.9868206843, 1226145.3721935712, 1225562.7204449463, 1224981.029492058, 1224400.297257684, 1223820.5216701208, 1223241.7006631598, 1222663.832176077, 1222086.9141536094, 1221510.9445459426, 1220935.9213086916, 1220361.842402884, 1219788.7057949426, 1219216.509456671, 1218645.2513652348, 1218074.929503143, 1217505.5418582363, 1216937.086423666, 1216369.5611978793, 1215802.9641846037, 1215237.2933928291, 1214672.5468367909, 1214108.722535956, 1213545.8185150044, 1212983.8328038135, 1212422.7634374436, 1211862.6084561197, 1211303.3659052153, 1210745.0338352395, 1210187.6103018182, 1209631.0933656776, 1209075.4810926318, 1208520.7715535634, 1207966.9628244115, 1207414.0529861518, 1206862.0401247856, 1206310.9223313197, 1205760.6977017552, 1205211.36433707, 1204662.9203432018, 1204115.363831036, 1203568.6929163884, 1203022.9057199918, 1202478.0003674773, 1201933.9749893646, 1201390.8277210416, 1200848.5567027533, 1200307.1600795835, 1199766.6360014444, 1199226.9826230574, 1198688.1981039396, 1198150.2806083914, 1197613.2283054783, 1197077.0393690192, 1196541.7119775703, 1196007.2443144096, 1195473.6345675255, 1194940.8809296011, 1194408.9815979975, 1193877.934774742, 1193347.7386665135, 1192818.3914846273, 1192289.8914450242, 1191762.23676825, 1191235.425679448, 1190709.4564083416, 1190184.3271892203, 1189660.036260927, 1189136.5818668448, 1188613.9622548788, 1188092.175677449, 1187571.2203914712, 1187051.0946583461, 1186531.7967439436, 1186013.3249185917, 1185495.6774570611, 1184978.8526385534, 1184462.8487466837, 1183947.6640694733, 1183433.2968993315, 1182919.7455330442, 1182407.0082717608, 1181895.0834209803, 1181383.9692905368, 1180873.664194592, 1180364.1664516146, 1179855.4743843714, 1179347.586319915, 1178840.5005895686, 1178334.215528915, 1177828.7294777816, 1177324.0407802295, 1176820.1477845404, 1176317.0488432038, 1175814.7423129026, 1175313.2265545044, 1174812.499933044, 1174312.5608177164, 1173813.4075818572, 1173315.0386029384, 1172817.4522625497, 1172320.646946388, 1171824.6210442462, 1171329.3729500005, 1170834.9010615963, 1170341.203781038, 1169848.2795143777, 1169356.1266716993, 1168864.743667111, 1168374.1289187288, 1167884.2808486682, 1167395.1978830313, 1166906.8784518938, 1166419.3209892933, 1165932.523933218, 1165446.4857255958, 1164961.2048122808, 1164476.6796430429, 1163992.9086715546, 1163509.8903553816, 1163027.6231559697, 1162546.1055386334, 1162065.3359725445, 1161585.3129307204, 1161106.0348900142, 1160627.500331101, 1160149.707738468, 1159672.655600402, 1159196.3424089802, 1158720.7666600586, 1158245.926853256, 1157771.8214919516, 1157298.449083265, 1156825.808138052, 1156353.8971708887, 1155882.714700065, 1155412.259247568, 1154942.5293390767, 1154473.5235039473, 1154005.2402752042, 1153537.6781895284, 1153070.835787247, 1152604.711612322, 1152139.3042123406, 1151674.6121385046, 1151210.6339456167, 1150747.3681920741, 1150284.813439856, 1149822.9682545122, 1149361.831205155, 1148901.400864446, 1148441.6758085869, 1147982.65461731, 1147524.3358738672, 1147066.7181650181, 1146609.8000810228, 1146153.5802156283, 1145698.057166061, 1145243.2295330148, 1144789.0959206428, 1144335.6549365446, 1143882.9051917589, 1143430.8453007499, 1142979.4738814023, 1142528.7895550062, 1142078.7909462515, 1141629.4766832145, 1141180.8453973497, 1140732.8957234812, 1140285.6262997894, 1139839.0357678041, 1139393.1227723944, 1138947.8859617582, 1138503.3239874123, 1138059.4355041834, 1137616.219170199, 1137173.673646877, 1136731.7975989154, 1136290.5896942846, 1135850.0486042164, 1135410.1730031956, 1134970.9615689493, 1134532.4129824392, 1134094.5259278512, 1133657.299092585, 1133220.7311672478, 1132784.8208456412, 1132349.5668247559, 1131914.9678047593, 1131481.0224889873, 1131047.729583937, 1130615.087799254, 1130183.095847728, 1129751.7524452768, 1129321.0563109454, 1128891.006166892, 1128461.6007383794, 1128032.838753767, 1127604.718944502, 1127177.24004511, 1126750.4007931866, 1126324.199929388, 1125898.6361974233, 1125473.7083440432, 1125049.415119035, 1124625.7552752101, 1124202.727568399, 1123780.3307574391, 1123358.5636041693, 1122937.4248734172, 1122516.913332997, 1122097.0277536944, 1121677.7669092615, 1121259.1295764078, 1120841.1145347918, 1120423.7205670115, 1120006.9464585986, 1119590.7909980062, 1119175.2529766045, 1118760.3311886701, 1118346.0244313767, 1117932.3315047917, 1117519.251211862, 1117106.782358409, 1116694.9237531202, 1116283.6742075407, 1115873.0325360647, 1115462.997555928, 1115053.5680872009, 1114644.7429527766, 1114236.5209783674, 1113828.9009924943, 1113421.8818264792, 1113015.4623144378, 1112609.6412932712, 1112204.4176026576, 1111799.7900850454, 1111395.757585645, 1110992.3189524198, 1110589.4730360794, 1110187.2186900738, 1109785.554770581, 1109384.4801365044, 1108983.9936494606, 1108584.094173775, 1108184.780576474, 1107786.0517272735, 1107387.9064985774, 1106990.3437654641, 1106593.3624056831, 1106196.9612996464, 1105801.1393304197, 1105405.895383716, 1105011.2283478894, 1104617.1371139248, 1104223.6205754322, 1103830.6776286396, 1103438.3071723855, 1103046.5081081104, 1102655.2793398516, 1102264.6197742338, 1101874.5283204627, 1101485.0038903179, 1101096.0453981468, 1100707.6517608545, 1100319.8218978995, 1099932.5547312847, 1099545.8491855524, 1099159.7041877739, 1098774.1186675455, 1098389.0915569805, 1098004.6217907013, 1097620.7083058332, 1097237.3500419976, 1096854.545941305, 1096472.2949483476, 1096090.5960101925, 1095709.4480763741, 1095328.8500988896, 1094948.8010321893, 1094569.2998331722, 1094190.3454611772, 1093811.9368779773, 1093434.0730477727, 1093056.7529371849, 1092679.9755152485, 1092303.7397534046, 1091928.0446254958, 1091552.8891077582, 1091178.2721788147, 1090804.1928196687, 1090430.6500136973, 1090057.6427466462, 1089685.1700066205, 1089313.23078408, 1088941.8240718336, 1088570.9488650286, 1088200.6041611496, 1087830.788960009, 1087461.5022637404, 1087092.7430767943, 1086724.5104059293, 1086356.803260207, 1085989.6206509853, 1085622.9615919136, 1085256.8250989227, 1084891.2101902242, 1084526.1158862978, 1084161.5412098898, 1083797.4851860057, 1083433.9468419023, 1083070.9252070847, 1082708.419313297, 1082346.4281945173, 1081984.9508869527, 1081623.9864290305, 1081263.5338613964, 1080903.5922269046, 1080544.1605706115, 1080185.237939774, 1079826.823383838, 1079468.9159544369, 1079111.5147053835, 1078754.6186926635, 1078398.2269744314, 1078042.3386110032, 1077686.9526648517, 1077332.0682005973, 1076977.6842850086, 1076623.799986988, 1076270.4143775755, 1075917.526529934, 1075565.135519349, 1075213.2404232207, 1074861.8403210598, 1074510.9342944801, 1074160.521427193, 1073810.600805003, 1073461.1715158005, 1073112.2326495582, 1072763.7832983225, 1072415.822556211, 1072068.3495194041, 1071721.3632861427, 1071374.8629567176, 1071028.8476334698, 1070683.316420782, 1070338.2684250704, 1069993.7027547855, 1069649.6185204012, 1069306.014834412, 1068962.8908113264, 1068620.2455676626, 1068278.078221941, 1067936.3878946814, 1067595.1737083967, 1067254.4347875852, 1066914.170258729, 1066574.379250288, 1066235.0608926897, 1065896.2143183318, 1065557.8386615708, 1065219.933058717, 1064882.496648036, 1064545.5285697333, 1064209.0279659568, 1063872.993980789, 1063537.425760241, 1063202.3224522488, 1062867.6832066677, 1062533.5071752658, 1062199.793511721, 1061866.5413716154, 1061533.749912428, 1061201.4182935331, 1060869.5456761923, 1060538.131223552, 1060207.1741006358, 1059876.6734743407, 1059546.6285134335, 1059217.0383885421, 1058887.9022721553, 1058559.2193386136, 1058230.9887641072, 1057903.2097266691, 1057575.8814061715, 1057249.0029843203, 1056922.5736446504, 1056596.5925725212, 1056271.0589551097, 1055945.9719814097, 1055621.3308422228, 1055297.1347301558, 1054973.3828396162, 1054650.0743668065, 1054327.2085097183, 1054004.78446813, 1053682.8014436022, 1053361.258639469, 1053040.1552608386, 1052719.4905145844, 1052399.2636093425, 1052079.4737555073, 1051760.1201652251, 1051441.2020523907, 1051122.7186326429, 1050804.6691233593, 1050487.052743652, 1050169.8687143624, 1049853.116258059, 1049536.7945990285, 1049220.9029632756, 1048905.4405785163, 1048590.4066741744, 1048275.8004813747, 1047961.6212329426, 1047647.8681633951, 1047334.5405089397, 1047021.6375074693, 1046709.1583985547, 1046397.1024234467, 1046085.4688250645, 1045774.2568479957, 1045463.4657384915, 1045153.0947444601, 1044843.1431154652, 1044533.6101027193, 1044224.494959082, 1043915.7969390529, 1043607.515298769, 1043299.6492959992, 1042992.1981901417, 1042685.1612422193, 1042378.537714873, 1042072.326872361, 1041766.5279805532, 1041461.140306924, 1041156.163120555, 1040851.595692123, 1040547.4372939024, 1040243.6871997559, 1039940.3446851346, 1039637.4090270697, 1039334.8795041734, 1039032.7553966293, 1038731.035986193, 1038429.7205561845, 1038128.8083914865, 1037828.2987785407, 1037528.1910053387, 1037228.4843614267, 1036929.1781378934, 1036630.2716273703, 1036331.7641240266, 1036033.6549235645, 1035735.9433232172, 1035438.6286217432, 1035141.7101194223, 1034845.1871180531, 1034549.0589209478, 1034253.3248329288, 1033957.9841603243, 1033663.0362109662, 1033368.4802941823, 1033074.3157207972, 1032780.5418031262, 1032487.1578549702, 1032194.1631916143, 1031901.5571298215, 1031609.3389878321, 1031317.5080853561, 1031026.0637435729, 1030735.0052851255, 1030444.3320341167, 1030154.0433161063, 1029864.138458107, 1029574.6167885805, 1029285.4776374341, 1028996.7203360159, 1028708.344217114, 1028420.3486149483, 1028132.732865171, 1027845.4963048607, 1027558.6382725192, 1027272.1581080687, 1026986.0551528464, 1026700.3287496025, 1026414.9782424967, 1026130.0029770918, 1025845.4023003554, 1025561.1755606502, 1025277.3221077344, 1024993.8412927582, 1024710.7324682578, 1024427.994988154, 1024145.6282077477, 1023863.6314837164, 1023582.0041741111, 1023300.7456383532, 1023019.855237229, 1022739.3323328899, 1022459.1762888443, 1022179.386469958, 1021899.9622424488, 1021620.902973884, 1021342.2080331763, 1021063.8767905803, 1020785.9086176899, 1020508.3028874344, 1020231.0589740752, 1019954.1762532023, 1019677.654101731, 1019401.4918978987, 1019125.6890212613, 1018850.2448526901, 1018575.1587743681, 1018300.4301697882, 1018026.0584237471, 1017752.0429223435, 1017478.3830529766, 1017205.0782043401, 1016932.1277664191, 1016659.5311304898, 1016387.2876891115, 1016115.3968361289, 1015843.8579666633, 1015572.6704771142, 1015301.8337651526, 1015031.34722972, 1014761.2102710231, 1014491.422290534, 1014221.9826909829, 1013952.890876358, 1013684.1462519014, 1013415.7482241051, 1013147.6962007093, 1012879.9895906986, 1012612.6278042983, 1012345.6102529727, 1012078.9363494205, 1011812.6055075716, 1011546.617142588, 1011280.9706708539, 1011015.6655099782, 1010750.7010787895, 1010486.0767973319, 1010221.7920868638, 1009957.8463698562, 1009694.2390699836, 1009430.9696121285, 1009168.0374223735, 1008905.4419280004, 1008643.1825574867, 1008381.2587405015, 1008119.6699079043, 1007858.4154917417, 1007597.4949252434, 1007336.9076428203, 1007076.653080061, 1006816.7306737296, 1006557.1398617607, 1006297.8800832597, 1006038.9507784977, 1005780.3513889097, 1005522.0813570898, 1005264.1401267906, 1005006.5271429197, 1004749.2418515361, 1004492.2836998475, 1004235.6521362092, 1003979.346610118, 1003723.3665722124, 1003467.7114742683, 1003212.3807691964, 1002957.3739110404, 1002702.6903549716, 1002448.329557289, 1002194.2909754155, 1001940.5740678939, 1001687.1782943867, 1001434.1031156702, 1001181.3479936356, 1000928.9123912812, 1000676.7957727154, 1000424.9976031492, 1000173.5173488962, 999922.3544773693, 999671.5084570769, 999420.9787576224, 999170.7648496996, 998920.86620509, 998671.2822966613, 998422.0125983652, 998173.0565852332, 997924.413733373, 997676.0835199696, 997428.0654232794, 997180.3589226288, 996932.9634984114, 996685.878632086, 996439.1038061719, 996192.6385042489, 995946.4822109548, 995700.6344119795, 995455.0945940659, 995209.8622450045, 994964.9368536355, 994720.3179098399, 994476.0049045419, 994231.9973297041, 993988.2946783256, 993744.8964444395, 993501.80212311, 993259.0112104308, 993016.5232035212, 992774.337600525, 992532.4539006068, 992290.8716039512, 992049.5902117582, 991808.6092262417, 991567.9281506283, 991327.5464891526, 991087.4637470562, 990847.6794305854, 990608.1930469874, 990369.0041045083, 990130.1121123934, 989891.5165808805, 989653.2170211998, 989415.2129455718, 989177.5038672038, 988940.0893002889, 988702.9687600017, 988466.1417624975, 988229.6078249094, 987993.3664653463, 987757.4172028903, 987521.7595575935, 987286.393050477, 987051.3172035281, 986816.5315396974, 986582.0355828975, 986347.8288580002, 986113.9108908336, 985880.2812081819, 985646.9393377795, 985413.8848083123, 985181.1171494127, 984948.6358916597, 984716.4405665759, 984484.5307066224, 984252.9058452017, 984021.5655166509, 983790.5092562432, 983559.736600181, 983329.247085599, 983099.0402505577, 982869.1156340444, 982639.4727759681, 982410.1112171593, 982181.0304993663, 981952.2301652567, 981723.7097584085, 981495.4688233148, 981267.5069053764, 981039.8235509045, 980812.4183071135, 980585.2907221228, 980358.440344952, 980131.8667255208, 979905.5694146457, 979679.5479640386, 979453.8019263011, 979228.3308549306, 979003.1343043091, 978778.2118297073, 978553.5629872777, 978329.187334058, 978105.0844279644, 977881.2538277907, 977657.6950932083, 977434.4077847612, 977211.391463866, 976988.645692808, 976766.1700347416, 976543.9640536865, 976322.0273145252, 976100.3593830029, 975878.9598257231, 975657.828210149, 975436.9641045965, 975216.3670782378, 974996.0367010937, 974775.9725440368, 974556.1741787865, 974336.6411779072, 974117.3731148072, 973898.3695637364, 973679.6300997837, 973461.1542988761, 973242.9417377762, 973024.99199408, 972807.3046462149, 972589.8792734387, 972372.715455836, 972155.8127743184, 971939.170810621, 971722.7891473004, 971506.667367733, 971290.8050561144, 971075.2017974557, 970859.8571775827, 970644.7707831326, 970429.9422015551, 970215.3710211058, 970001.0568308497, 969786.9992206547, 969573.1977811917, 969359.6521039347, 969146.361781154, 968933.3264059193, 968720.5455720958, 968508.0188743409, 968295.7459081049, 968083.7262696278, 967871.9595559374, 967660.4453648484, 967449.1832949589, 967238.172945651, 967027.4139170861, 966816.9058102064, 966606.6482267291, 966396.6407691487, 966186.8830407315, 965977.3746455177, 965768.1151883154, 965559.1042747026, 965350.3415110216, 965141.8265043821, 964933.5588626545, 964725.5381944714, 964517.7641092247, 964310.2362170633, 964102.9541288918, 963895.91745637, 963689.1258119096, 963482.5788086724, 963276.2760605696, 963070.2171822592, 962864.4017891451, 962658.8294973746, 962453.4999238374, 962248.4126861625, 962043.5674027189, 961838.9636926115, 961634.6011756802, 961430.4794725002, 961226.598204376, 961022.9569933434, 960819.5554621681, 960616.3932343395, 960413.469934075, 960210.7851863139, 960008.3386167177, 959806.129851668, 959604.1585182647, 959402.4242443255, 959200.9266583822, 958999.6653896805, 958798.6400681775, 958597.850324542, 958397.2957901512, 958196.9760970878, 957996.8908781412, 957797.0397668048, 957597.422397273, 957398.0384044428, 957198.8874239089, 956999.9690919628, 956801.2830455936, 956602.8289224831, 956404.6063610073, 956206.6150002317, 956008.8544799114, 955811.3244404916, 955614.0245231019, 955416.9543695566, 955220.1136223541, 955023.5019246751, 954827.118920379, 954630.9642540041, 954435.0375707673, 954239.3385165595, 954043.8667379458, 953848.6218821639, 953653.6035971235, 953458.8115314026, 953264.2453342467, 953069.9046555693, 952875.7891459474, 952681.8984566223, 952488.2322394971, 952294.7901471342, 952101.571832757, 951908.5769502439, 951715.805154131, 951523.2560996086, 951330.9294425198, 951138.8248393589, 950946.9419472704, 950755.2804240477, 950563.8399281309, 950372.6201186061, 950181.6206552037, 949990.8411982964, 949800.2814088989, 949609.9409486646, 949419.819479887, 949229.9166654947, 949040.2321690538, 948850.7656547625, 948661.516787454, 948472.4852325912, 948283.6706562672, 948095.0727252036, 947906.6911067496, 947718.5254688788, 947530.5754801913, 947342.8408099067, 947155.3211278698, 946968.016104543, 946780.9254110085, 946594.0487189641, 946407.3857007265, 946220.9360292238, 946034.6993780002, 945848.6754212094, 945662.8638336166, 945477.2642905955, 945291.8764681288, 945106.7000428044, 944921.7346918152, 944736.9800929584, 944552.4359246336, 944368.1018658406, 944183.9775961797, 944000.0627958484, 943816.3571456427, 943632.8603269535, 943449.5720217659, 943266.4919126577, 943083.6196827994, 942900.9550159515, 942718.4975964628, 942536.2471092711, 942354.2032399001, 942172.3656744588, 941990.7340996396, 941809.3082027184, 941628.0876715509, 941447.0721945749, 941266.2614608052, 941085.655159835, 940905.2529818328, 940725.0546175434, 940545.0597582835, 940365.2680959443, 940185.6793229855, 940006.2931324384, 939827.1092179035, 939648.1272735466, 939469.3469941005, 939290.7680748638, 939112.390211697, 938934.2131010246, 938756.2364398311, 938578.4599256613, 938400.8832566184, 938223.5061313635, 938046.3282491133, 937869.3493096398, 937692.5690132694, 937515.9870608796, 937339.6031539005, 937163.4169943116, 936987.4282846416, 936811.6367279674, 936636.0420279112, 936460.643888642, 936285.4420148714, 936110.4361118554, 935935.6258853906, 935761.0110418148, 935586.5912880051, 935412.3663313766, 935238.3358798812, 935064.4996420079, 934890.8573267788, 934717.4086437501, 934544.1533030113, 934371.0910151815, 934198.2214914112, 934025.5444433786, 933853.0595832904, 933680.7666238804, 933508.6652784062, 933336.755260651, 933165.0362849216, 932993.5080660448, 932822.1703193701, 932651.0227607662, 932480.0651066203, 932309.2970738376, 932138.7183798393, 931968.3287425607, 931798.1278804536, 931628.1155124811, 931458.2913581191, 931288.6551373532, 931119.2065706801, 930949.9453791045, 930780.871284138, 930611.9840077992, 930443.283272612, 930274.768801605, 930106.4403183083, 929938.2975467561, 929770.3402114818, 929602.5680375202, 929434.9807504034, 929267.5780761618, 929100.3597413234, 928933.3254729105, 928766.4749984401, 928599.8080459231, 928433.3243438627, 928267.0236212534, 928100.9056075796, 927934.970032815, 927769.2166274224, 927603.6451223501, 927438.2552490339, 927273.0467393935, 927108.0193258334, 926943.1727412406, 926778.5067189842, 926614.0209929147, 926449.7152973609, 926285.5893671317, 926121.6429375138, 925957.8757442698, 925794.287523639, 925630.8780123347, 925467.6469475444, 925304.594066928, 925141.7191086169, 924979.0218112137, 924816.5019137909, 924654.1591558886, 924491.993277515, 924330.0040191463, 924168.191121722, 924006.5543266477, 923845.093375793, 923683.8080114898, 923522.6979765305, 923361.7630141703, 923201.0028681237, 923040.4172825628, 922880.0060021185, 922719.7687718781, 922559.7053373846, 922399.8154446369, 922240.098840087, 922080.5552706395, 921921.1844836518, 921761.9862269323, 921602.9602487389, 921444.106297779, 921285.4241232082, 921126.9134746293, 920968.5741020915, 920810.4057560891, 920652.4081875607, 920494.5811478888, 920336.9243888988, 920179.4376628555, 920022.120722467, 919864.9733208799, 919707.99521168, 919551.1861488898, 919394.5458869709, 919238.0741808182, 919081.7707857642, 918925.6354575747, 918769.6679524479, 918613.8680270154, 918458.2354383403, 918302.769943915, 918147.4713016631, 917992.3392699354, 917837.3736075128, 917682.5740736002, 917527.9404278309, 917373.472430262, 917219.1698413754, 917065.0324220767, 916911.0599336923, 916757.2521379727, 916603.6087970871, 916450.1296736255, 916296.8145305961, 916143.6631314261, 915990.6752399587, 915837.8506204549, 915685.1890375898, 915532.6902564536, 915380.3540425502, 915228.1801617965, 915076.1683805208, 914924.3184654632, 914772.6301837738, 914621.103303012, 914469.7375911456, 914318.5328165501, 914167.4887480087, 914016.6051547095, 913865.8818062461, 913715.3184726172, 913564.9149242229, 913414.6709318685, 913264.586266759, 913114.6607005018, 912964.8940051037, 912815.285952971, 912665.8363169075, 912516.5448701165, 912367.4113861964, 912218.4356391428, 912069.6174033458, 911920.9564535895, 911772.4525650524, 911624.105513305, 911475.9150743104, 911327.8810244222, 911180.0031403841, 911032.2811993292, 910884.7149787808, 910737.3042566478, 910590.0488112281, 910442.9484212042, 910296.0028656455, 910149.2119240048, 910002.5753761199, 909856.09300221, 909709.7645828788, 909563.5898991103, 909417.5687322684, 909271.7008640988, 909125.9860767251, 908980.4241526489, 908835.0148747504, 908689.758026286, 908544.6533908881, 908399.700752565, 908254.8998956991, 908110.2506050457, 907965.7526657344, 907821.4058632654, 907677.2099835124, 907533.1648127175, 907389.2701374944, 907245.525744825, 907101.9314220605, 906958.4869569181, 906815.1921374834, 906672.0467522072, 906529.0505899066, 906386.2034397624, 906243.5050913185, 906100.9553344848, 905958.5539595311, 905816.3007570888, 905674.1955181515, 905532.2380340726, 905390.428096564, 905248.7654976978, 905107.2500299027, 904965.8814859652, 904824.6596590288, 904683.5843425916, 904542.6553305077, 904401.8724169857, 904261.2353965862, 904120.7440642247, 903980.3982151677, 903840.1976450336, 903700.1421497909, 903560.2315257592, 903420.4655696062, 903280.8440783492, 903141.3668493532, 903002.0336803297, 902862.8443693374, 902723.7987147802, 902584.8965154083, 902446.1375703143, 902307.5216789362, 902169.0486410536, 902030.7182567905, 901892.5303266102, 901754.4846513177, 901616.5810320588, 901478.8192703178, 901341.1991679192, 901203.7205270241, 901066.3831501327, 900929.1868400803, 900792.1314000394, 900655.2166335173, 900518.4423443571, 900381.808336735, 900245.3144151601, 900108.9603844769, 899972.7460498584, 899836.6712168113, 899700.7356911715, 899564.9392791071, 899429.2817871142, 899293.7630220171, 899158.382790969, 899023.1409014503, 898888.0371612685, 898753.0713785571, 898618.2433617741, 898483.5529197035, 898348.999861453, 898214.5839964531, 898080.3051344589, 897946.1630855453, 897812.1576601105, 897678.2886688737, 897544.5559228732, 897410.9592334671, 897277.4984123333, 897144.1732714678, 897010.9836231832, 896877.9292801112, 896745.0100551976, 896612.2257617058, 896479.5762132136, 896347.0612236132, 896214.6806071113, 896082.434178227, 895950.3217517931, 895818.3431429542, 895686.4981671657, 895554.7866401934, 895423.2083781149, 895291.763197316, 895160.450914492, 895029.2713466467, 894898.2243110907, 894767.3096254425, 894636.527107627, 894505.876575875, 894375.357848722, 894244.970745009, 894114.71508388, 893984.5906847838, 893854.5973674704, 893724.7349519941, 893595.003258709, 893465.4021082709, 893335.9313216369, 893206.5907200621, 893077.3801251026, 892948.2993586123, 892819.3482427436, 892690.5265999456, 892561.8342529655, 892433.271024846, 892304.8367389255, 892176.5312188382, 892048.3542885121, 891920.3057721695, 891792.3854943264, 891664.5932797908, 891536.9289536637, 891409.3923413373, 891281.9832684958, 891154.7015611124, 891027.5470454517, 890900.519548067, 890773.6188957996, 890646.844915781, 890520.1974354282, 890393.6762824471, 890267.2812848291, 890141.0122708521, 890014.8690690784, 889888.8515083567, 889762.9594178189, 889637.1926268808, 889511.550965242, 889386.0342628831, 889260.6423500694, 889135.3750573449, 889010.2322155368, 888885.2136557508, 888760.3192093741, 888635.5487080727, 888510.9019837904, 888386.3788687502, 888261.9791954532, 888137.7027966767, 888013.5495054747, 887889.5191551779, 887765.6115793915, 887641.8266119966, 887518.1640871483, 887394.6238392754, 887271.2057030809, 887147.9095135394, 887024.7351058987, 886901.6823156785, 886778.7509786692, 886655.9409309312, 886533.2520087974, 886410.6840488678, 886288.2368880132, 886165.9103633722, 886043.7043123518, 885921.6185726265, 885799.6529821381, 885677.8073790938, 885556.0816019685, 885434.4754895016, 885312.9888806978, 885191.6216148257, 885070.3735314182, 884949.2444702717, 884828.2342714459, 884707.3427752624, 884586.5698223042, 884465.9152534171, 884345.3789097071, 884224.9606325394, 884104.660263541, 883984.4776445975, 883864.4126178535, 883744.4650257109, 883624.6347108313, 883504.9215161324, 883385.3252847891, 883265.8458602332, 883146.4830861512, 883027.2368064865, 882908.1068654361, 882789.0931074523, 882670.1953772408, 882551.4135197605, 882432.7473802246, 882314.1968040972, 882195.7616370947, 882077.4417251863, 881959.2369145898, 881841.1470517768, 881723.1719834656, 881605.3115566252, 881487.5656184751, 881369.9340164817, 881252.4165983605, 881135.0132120737, 881017.7237058313, 880900.5479280903, 880783.4857275535, 880666.536953169, 880549.7014541315, 880432.9790798785, 880316.3696800945, 880199.8731047052, 880083.4892038815, 879967.2178280363, 879851.0588278255, 879735.0120541471, 879619.0773581401, 879503.2545911848, 879387.5436049022, 879271.9442511539, 879156.4563820398, 879041.079849901, 878925.8145073164, 878810.6602071028, 878695.6168023151, 878580.6841462462, 878465.8620924264, 878351.1504946206, 878236.5492068311, 878122.0580832963, 878007.6769784889, 877893.4057471164, 877779.2442441211, 877665.1923246785, 877551.2498441975, 877437.4166583207, 877323.692622923, 877210.0775941105, 877096.5714282215, 876983.1739818268, 876869.885111725, 876756.7046749477, 876643.6325287549, 876530.6685306369, 876417.8125383116, 876305.0644097277, 876192.4240030599, 876079.8911767119, 875967.4657893144, 875855.1476997244, 875742.9367670254, 875630.8328505282, 875518.8358097674, 875406.9455045036, 875295.1617947224, 875183.4845406322, 875071.9136026675, 874960.4488414841, 874849.0901179627, 874737.8372932046, 874626.6902285351, 874515.6487855001, 874404.7128258671, 874293.8822116251, 874183.1568049829, 874072.5364683694, 873962.0210644332, 873851.610456043, 873741.3045062849, 873631.1030784645, 873521.0060361053, 873411.0132429486, 873301.1245629516, 873191.3398602899, 873081.6589993543, 872972.0818447528, 872862.6082613078, 872753.2381140578, 872643.9712682548, 872534.8075893667, 872425.7469430744, 872316.7891952727, 872207.9342120691, 872099.181859785, 871990.5320049531, 871881.9845143182, 871773.5392548367, 871665.196093677, 871556.9548982165, 871448.8155360448, 871340.7778749609, 871232.841782973, 871125.007128299, 871017.2737793652, 870909.6416048069, 870802.1104734661, 870694.680254395, 870587.3508168497, 870480.1220302964, 870372.993764406, 870265.9658890555, 870159.038274328, 870052.2107905125, 869945.4833081017, 869838.8556977941, 869732.3278304915, 869625.8995773003, 869519.5708095294, 869413.3413986919, 869307.2112165028, 869201.1801348786, 869095.2480259401, 868989.4147620079, 868883.6802156036, 868778.0442594503, 868672.5067664712, 868567.0676097905, 868461.7266627306, 868356.4837988141, 868251.3388917631, 868146.2918154964, 868041.3424441332, 867936.4906519892, 867831.7363135775, 867727.0793036099, 867622.5194969923, 867518.05676883, 867413.6909944222, 867309.422049264, 867205.2498090466, 867101.1741496554, 866997.1949471721, 866893.3120778692, 866789.5254182161, 866685.8348448753, 866582.2402347008, 866478.7414647416, 866375.3384122371, 866272.0309546201, 866168.8189695148, 866065.7023347364, 865962.6809282919, 865859.7546283775, 865756.9233133821, 865654.1868618826, 865551.545152646, 865448.998064629, 865346.5454769768, 865244.187269023, 865141.9233202906, 865039.7535104885, 864937.6777195156, 864835.6958274558, 864733.8077145815, 864632.0132613499, 864530.312348406, 864428.7048565798, 864327.190666887, 864225.7696605285, 864124.4417188904, 864023.2067235418, 863922.0645562374, 863821.0150989157, 863720.0582336977, 863619.1938428881, 863518.4218089746, 863417.7420146272, 863317.1543426974, 863216.6586762194, 863116.2548984084, 863015.9428926609, 862915.7225425543, 862815.5937318462, 862715.5563444737, 862615.6102645557, 862515.7553763887, 862415.9915644493, 862316.3187133917, 862216.7367080505, 862117.2454334376, 862017.8447747424, 861918.534617332, 861819.3148467506, 861720.1853487206, 861621.1460091382, 861522.1967140795, 861423.3373497934, 861324.5678027053, 861225.8879594173, 861127.2977067042, 861028.7969315177, 860930.3855209821, 860832.063362396, 860733.8303432327, 860635.6863511378, 860537.6312739312, 860439.6649996046, 860341.7874163213, 860243.998412419, 860146.2978764054, 860048.6856969608, 859951.1617629359, 859853.7259633528, 859756.3781874034, 859659.1183244516, 859561.9462640294, 859464.8618958397, 859367.8651097539, 859270.9557958134, 859174.1338442271, 859077.3991453735, 858980.751589799, 858884.1910682174, 858787.7174715099, 858691.3306907257, 858595.0306170807, 858498.8171419569, 858402.690156903, 858306.6495536346, 858210.6952240305, 858114.827060138, 858019.0449541679, 857923.3487984953, 857827.7384856616, 857732.2139083706, 857636.7749594917, 857541.4215320566, 857446.1535192616, 857350.9708144648, 857255.8733111881, 857160.8609031152, 857065.9334840924, 856971.0909481278, 856876.3331893914, 856781.6601022143, 856687.0715810873, 856592.5675206649, 856498.1478157595, 856403.812361345, 856309.5610525545, 856215.3937846811, 856121.3104531766, 856027.3109536528, 855933.3951818795, 855839.5630337857, 855745.8144054577, 855652.1491931403, 855558.5672932352, 855465.0686023032, 855371.653017059, 855278.3204343774, 855185.0707512881, 855091.9038649772, 854998.8196727864, 854905.8180722137, 854812.8989609117, 854720.0622366895, 854627.3077975094, 854534.6355414896, 854442.0453669013, 854349.5371721706, 854257.1108558772, 854164.766316754, 854072.5034536873, 853980.3221657169, 853888.2223520336, 853796.2039119824, 853704.266745059, 853612.4107509119, 853520.6358293403, 853428.941880296, 853337.32880388, 853245.7965003462, 853154.3448700969, 853062.9738136858, 852971.6832318169, 852880.4730253423, 852789.3430952661, 852698.2933427382, 852607.32366906, 852516.4339756815, 852425.6241641996, 852334.89413636, 852244.2437940564, 852153.6730393303, 852063.1817743696, 851972.7699015106, 851882.4373232354, 851792.1839421727, 851702.0096610982, 851611.9143829325, 851521.8980107433, 851431.9604477432, 851342.1015972893, 851252.3213628851, 851162.6196481783, 851072.9963569604, 850983.4513931684, 850893.9846608817, 850804.5960643255, 850715.2855078661, 850626.0528960156, 850536.8981334264, 850447.8211248959, 850358.8217753628, 850269.8999899087, 850181.0556737557, 850092.28873227, 850003.5990709567, 849914.9865954643, 849826.4512115812, 849737.9928252365, 849649.6113425003, 849561.3066695823, 849473.0787128322, 849384.9273787411, 849296.8525739374, 849208.8542051897, 849120.9321794057, 849033.0864036323, 848945.3167850536, 848857.6232309932, 848770.0056489122, 848682.4639464096, 848594.9980312223, 848507.6078112245, 848420.2931944266, 848333.0540889769, 848245.89040316, 848158.8020453962, 848071.7889242432, 847984.8509483937, 847897.9880266762, 847811.2000680548, 847724.4869816288, 847637.8486766318, 847551.2850624335, 847464.7960485365, 847378.3815445792, 847292.041460332, 847205.7757057016, 847119.5841907262, 847033.4668255782, 846947.4235205627, 846861.4541861184, 846775.558732816, 846689.7370713587, 846603.9891125817, 846518.3147674527, 846432.7139470705, 846347.1865626656, 846261.7325255998, 846176.3517473657, 846091.044139587, 846005.8096140182, 845920.6480825436, 845835.5594571773, 845750.5436500642, 845665.6005734786, 845580.730139824, 845495.9322616332, 845411.2068515682, 845326.5538224191, 845241.9730871057, 845157.4645586751, 845073.0281503021, 844988.663775292, 844904.3713470745, 844820.1507792088, 844736.0019853802, 844651.9248794019, 844567.9193752131, 844483.9853868805, 844400.1228285964, 844316.331614679, 844232.6116595735, 844148.9628778496, 844065.3851842029, 843981.8784934552, 843898.4427205519, 843815.0777805641, 843731.783588687, 843648.5600602408, 843565.4071106693, 843482.3246555406, 843399.3126105467, 843316.3708915035, 843233.4994143485, 843150.698095144, 843067.9668500753, 842985.305595449, 842902.7142476958, 842820.192723368, 842737.7409391389, 842655.3588118055, 842573.0462582856, 842490.8031956183, 842408.6295409643, 842326.5252116052, 842244.4901249429, 842162.5241985008, 842080.6273499223, 841998.7994969708, 841917.0405575301, 841835.3504496041, 841753.7290913151, 841672.1764009052, 841590.6922967373, 841509.2766972907, 841427.9295211653, 841346.6506870786, 841265.4401138676, 841184.2977204862, 841103.2234260072, 841022.2171496204, 840941.2788106339, 840860.4083284725, 840779.6056226782, 840698.8706129113, 840618.2032189465, 840537.6033606778, 840457.0709581131, 840376.6059313779, 840296.2082007132, 840215.8776864758, 840135.6143091387, 840055.4179892894, 839975.2886476305, 839895.2262049806, 839815.230582272, 839735.3017005532, 839655.4394809847, 839575.6438448434, 839495.9147135188, 839416.2520085152, 839336.6556514502, 839257.1255640541, 839177.6616681721, 839098.2638857609, 839018.932138891, 838939.6663497443, 838860.466440617, 838781.3323339159, 838702.2639521618, 838623.2612179851, 838544.32405413, 838465.4523834508, 838386.646128914, 838307.9052135973, 838229.229560688, 838150.619093486, 838072.0737354012, 837993.5934099532, 837915.1780407724, 837836.8275515995, 837758.5418662844, 837680.3209087871, 837602.164603177, 837524.072873633, 837446.0456444426, 837368.0828400026, 837290.1843848183, 837212.3502035039, 837134.5802207818, 837056.8743614823, 836979.2325505448, 836901.6547130148, 836824.1407740472, 836746.6906589031, 836669.3042929515, 836591.9816016679, 836514.722510636, 836437.5269455452, 836360.3948321915, 836283.3260964778, 836206.3206644126, 836129.3784621109, 836052.4994157935, 835975.6834517865, 835898.930496522, 835822.2404765377, 835745.6133184758, 835669.0489490828, 835592.5472952115, 835516.1082838193, 835439.7318419664, 835363.4178968187, 835287.1663756459, 835210.9772058211, 835134.8503148223, 835058.7856302295, 834982.7830797272, 834906.8425911037, 834830.9640922482, 834755.1475111555, 834679.3927759205, 834603.6998147427, 834528.0685559228, 834452.4989278641, 834376.990859072, 834301.5442781535, 834226.1591138176, 834150.8352948745, 834075.5727502361, 834000.3714089153, 833925.2312000255, 833850.1520527821, 833775.1338965002, 833700.176660596, 833625.2802745857, 833550.4446680854, 833475.6697708123, 833400.9555125819, 833326.3018233107, 833251.7086330141, 833177.1758718068, 833102.7034699036, 833028.2913576164, 832953.939465358, 832879.6477236387, 832805.4160630675, 832731.2444143523, 832657.1327082984, 832583.0808758099, 832509.0888478879, 832435.1565556318, 832361.2839302393, 832287.4709030036, 832213.7174053165, 832140.0233686671, 832066.3887246399, 831992.8134049177, 831919.2973412793, 831845.8404656001, 831772.442709851, 831699.1040060996, 831625.82428651, 831552.6034833409, 831479.4415289479, 831406.3383557808, 831333.2938963858, 831260.3080834036, 831187.38084957, 831114.5121277163, 831041.7018507674, 830968.9499517434, 830896.2563637584, 830823.6210200209, 830751.0438538342, 830678.5247985944, 830606.063787792, 830533.6607550106, 830461.3156339282, 830389.0283583145, 830316.7988620336, 830244.6270790428, 830172.5129433915, 830100.4563892217, 830028.4573507681, 829956.5157623581, 829884.6315584115, 829812.8046734392, 829741.035042045, 829669.322598924, 829597.667278863, 829526.0690167405, 829454.5277475255, 829383.0434062793, 829311.6159281534, 829240.2452483911, 829168.9313023253, 829097.6740253796, 829026.4733530693, 828955.3292209985, 828884.2415648618, 828813.2103204448, 828742.2354236213, 828671.3168103563, 828600.4544167034, 828529.6481788058, 828458.898032896, 828388.2039152957, 828317.5657624155, 828246.9835107547, 828176.4570969015, 828105.9864575322, 828035.5715294122, 827965.2122493943, 827894.9085544205, 827824.6603815189, 827754.4676678076, 827684.3303504908, 827614.2483668607, 827544.2216542974, 827474.2501502668, 827404.3337923241, 827334.472518109, 827264.6662653501, 827194.9149718608, 827125.2185755428, 827055.5770143832, 826985.9902264555, 826916.4581499188, 826846.9807230195, 826777.5578840888, 826708.1895715428, 826638.8757238855, 826569.6162797044, 826500.4111776733, 826431.2603565493, 826362.1637551772, 826293.1213124846, 826224.1329674846, 826155.1986592752, 826086.3183270383, 826017.49191004, 825948.7193476304, 825880.0005792453, 825811.3355444024, 825742.7241827032, 825674.1664338347, 825605.6622375651, 825537.2115337485, 825468.8142623198, 825400.470363298, 825332.1797767855, 825263.9424429665, 825195.7583021087, 825127.6272945623, 825059.5493607589, 824991.5244412142, 824923.552476524, 824855.6334073684, 824787.767174507, 824719.9537187832, 824652.1929811198, 824584.484902524, 824516.8294240817, 824449.2264869614, 824381.6760324123, 824314.178001765, 824246.7323364301, 824179.3389778993, 824111.9978677455, 824044.7089476213, 823977.4721592596, 823910.2874444743, 823843.1547451578, 823776.0740032843, 823709.0451609065, 823642.0681601572, 823575.142943249, 823508.269452473, 823441.447630201, 823374.6774188826, 823307.9587610476, 823241.2915993036, 823174.6758763373, 823108.1115349153, 823041.598517881, 822975.1367681564, 822908.7262287433, 822842.3668427204, 822776.0585532445, 822709.8013035503, 822643.5950369504, 822577.4396968355, 822511.3352266732, 822445.2815700086, 822379.2786704643, 822313.3264717404, 822247.4249176128, 822181.573951936, 822115.7735186397, 822050.0235617313, 821984.3240252943, 821918.6748534886, 821853.0759905505, 821787.527380793, 821722.0289686044, 821656.5806984492, 821591.1825148675, 821525.8343624752, 821460.536185965, 821395.287930102, 821330.0895397296, 821264.9409597664, 821199.8421352031, 821134.7930111084, 821069.7935326247, 821004.8436449693, 820939.9432934334, 820875.0924233837, 820810.2909802614, 820745.5389095808, 820680.8361569312, 820616.1826679755, 820551.5783884509, 820487.0232641685, 820422.5172410123, 820358.0602649403, 820293.6522819847, 820229.2932382493, 820164.9830799124, 820100.7217532258, 820036.5092045123, 819972.3453801695, 819908.2302266671, 819844.1636905476, 819780.1457184249, 819716.176256987, 819652.255252993, 819588.3826532742, 819524.5584047349, 819460.7824543503, 819397.054749168, 819333.3752363067, 819269.7438629578, 819206.1605763834, 819142.6253239167, 819079.1380529623, 819015.6987109969, 818952.3072455673, 818888.9636042914, 818825.6677348575, 818762.4195850261, 818699.2191026261, 818636.0662355586, 818572.9609317939, 818509.9031393739, 818446.8928064093, 818383.9298810818, 818321.0143116419, 818258.1460464116, 818195.3250337809, 818132.5512222099, 818069.8245602292, 818007.1449964375, 817944.5124795029, 817881.9269581633, 817819.3883812255, 817756.8966975647, 817694.451856125, 817632.0538059204, 817569.7024960318, 817507.3978756093, 817445.139893872, 817382.9285001069, 817320.7636436687, 817258.6452739807, 817196.5733405337, 817134.5477928867, 817072.5685806667, 817010.635653568, 816948.7489613523, 816886.908453849, 816825.1140809549, 816763.3657926336, 816701.6635389165, 816640.007269901, 816578.3969357527, 816516.8324867031, 816455.3138730502, 816393.8410451597, 816332.4139534625, 816271.0325484573, 816209.6967807075, 816148.4066008434, 816087.161959562, 816025.9628076256, 815964.8090958616, 815903.7007751655, 815842.6377964957, 815781.6201108785, 815720.6476694033, 815659.720423228, 815598.8383235723, 815538.0013217233, 815477.2093690329, 815416.4624169167, 815355.7604168567, 815295.103320399, 815234.491079154, 815173.923644797, 815113.4009690679, 815052.9230037704, 814992.4897007731, 814932.101012009, 814871.7568894734, 814811.4572852273, 814751.202151395, 814690.991440165, 814630.8251037877, 814570.7030945796, 814510.6253649191, 814450.5918672476, 814390.6025540708, 814330.6573779571, 814270.756291538, 814210.8992475079, 814151.0861986243, 814091.3170977067, 814031.5918976384, 813971.9105513645, 813912.2730118929, 813852.6792322933, 813793.1291656984, 813733.6227653031, 813674.1599843634, 813614.7407761983, 813555.365094189, 813496.032891777, 813436.7441224663, 813377.4987398236, 813318.2966974751, 813259.1379491094, 813200.022448477, 813140.9501493886, 813081.9210057169, 813022.9349713946, 812963.9920004166, 812905.0920468374, 812846.2350647731, 812787.4210084007, 812728.6498319563, 812669.9214897384, 812611.2359361041, 812552.5931254724, 812493.993012321, 812435.4355511888, 812376.9206966743, 812318.4484034361, 812260.018626192, 812201.6313197203, 812143.2864388588, 812084.9839385042, 812026.7237736137, 811968.5058992029, 811910.3302703467, 811852.1968421807, 811794.1055698973, 811736.0564087497, 811678.0493140491, 811620.0842411657, 811562.1611455289, 811504.2799826257, 811446.4407080029, 811388.6432772648, 811330.8876460743, 811273.1737701533, 811215.5016052806, 811157.871107294, 811100.2822320892, 811042.7349356198, 810985.2291738965, 810927.7649029888, 810870.342079024, 810812.9606581859, 810755.6205967158, 810698.3218509137, 810641.0643771355, 810583.8481317958, 810526.6730713644, 810469.5391523693, 810412.4463313957, 810355.3945650854, 810298.3838101364, 810241.414023304, 810184.4851614002, 810127.5971812926, 810070.7500399072, 810013.9436942238, 809957.1781012805, 809900.4532181704, 809843.7690020432, 809787.1254101045, 809730.522399616, 809673.9599278945, 809617.4379523133, 809560.9564303017, 809504.5153193433, 809448.1145769784, 809391.7541608019, 809335.4340284644, 809279.1541376717, 809222.9144461852, 809166.7149118204, 809110.5554924482, 809054.436145995, 808998.3568304412, 808942.3175038224, 808886.3181242287, 808830.3586498046, 808774.4390387494, 808718.5592493169, 808662.7192398144, 808606.9189686052, 808551.158394104, 808495.4374747825, 808439.7561691644, 808384.1144358283, 808328.5122334063, 808272.9495205838, 808217.4262561011, 808161.9423987503, 808106.4979073792, 808051.0927408867, 807995.726858227, 807940.400218406, 807885.1127804841, 807829.8645035742, 807774.6553468418, 807719.4852695062, 807664.3542308388, 807609.262190164, 807554.2091068598, 807499.194940355, 807444.2196501326, 807389.283195727, 807334.3855367262, 807279.5266327687, 807224.7064435469, 807169.9249288043, 807115.1820483367, 807060.4777619925, 807005.8120296713, 806951.1848113246, 806896.596066956, 806842.0457566206, 806787.5338404248, 806733.0602785272, 806678.6250311371, 806624.2280585157, 806569.8693209748, 806515.5487788785, 806461.266392641, 806407.0221227284, 806352.8159296566, 806298.6477739939, 806244.5176163579, 806190.4254174185, 806136.3711378952, 806082.354738558, 806028.3761802282, 805974.4354237771, 805920.5324301262, 805866.6671602471, 805812.839575163, 805759.0496359455, 805705.2973037171, 805651.5825396507, 805597.9053049678, 805544.2655609412, 805490.6632688922, 805437.098390193, 805383.5708862642, 805330.0807185769, 805276.6278486517, 805223.2122380572, 805169.833848413, 805116.4926413874, 805063.188578697, 805009.9216221093, 804956.6917334388, 804903.4988745509, 804850.3430073576, 804797.2240938221, 804744.1420959544, 804691.0969758146, 804638.0886955102, 804585.1172171979, 804532.1825030834, 804479.284515419, 804426.4232165072, 804373.5985686975, 804320.8105343878, 804268.0590760247, 804215.3441561019, 804162.6657371616, 804110.0237817934, 804057.4182526359, 804004.8491123734, 803952.3163237397, 803899.8198495157, 803847.3596525288, 803794.9356956547, 803742.5479418172, 803690.1963539856, 803637.8808951781, 803585.6015284585, 803533.3582169395, 803481.1509237791, 803428.9796121838, 803376.8442454053, 803324.7447867432, 803272.6811995441, 803220.6534472002, 803168.6614931506, 803116.7053008819, 803064.7848339266, 803012.9000558624, 802961.0509303153, 802909.2374209563, 802857.4594915027, 802805.7171057183, 802754.0102274127, 802702.3388204415, 802650.7028487064, 802599.1022761546, 802547.537066779, 802496.0071846192, 802444.5125937589, 802393.0532583288, 802341.6291425038, 802290.2402105052, 802238.8864265996, 802187.5677550983, 802136.2841603587, 802085.0356067823, 802033.8220588167, 801982.6434809535, 801931.4998377301, 801880.3910937292, 801829.317213577, 801778.2781619449, 801727.2739035501, 801676.3044031534, 801625.3696255592, 801574.4695356194, 801523.6040982272, 801472.773278322, 801421.9770408869, 801371.215350949, 801320.4881735805, 801269.7954738964, 801219.1372170568, 801168.5133682655, 801117.9238927704, 801067.3687558623, 801016.8479228767, 800966.3613591931, 800915.9090302334, 800865.4909014647, 800815.1069383961, 800764.7571065807, 800714.4413716157, 800664.1596991408, 800613.9120548394, 800563.6984044383, 800513.5187137059, 800463.372948456, 800413.2610745439, 800363.1830578683, 800313.1388643708, 800263.1284600358, 800213.1518108901, 800163.2088830044, 800113.2996424899, 800063.4240555027, 800013.5820882404, 799963.7737069423, 799913.9988778915, 799864.2575674121, 799814.5497418718, 799764.8753676796, 799715.2344112868, 799665.6268391869, 799616.0526179156, 799566.5117140497, 799517.004094209, 799467.5297250546, 799418.0885732895, 799368.6806056582, 799319.3057889468, 799269.9640899838, 799220.655475638, 799171.3799128211, 799122.1373684844, 799072.9278096219, 799023.7512032688, 798974.6075165017, 798925.4967164362, 798876.4187702325, 798827.3736450892, 798778.3613082475, 798729.3817269881, 798680.4348686333, 798631.5207005464, 798582.6391901311, 798533.7903048322, 798484.9740121345, 798436.1902795639, 798387.4390746864, 798338.7203651088, 798290.0341184784, 798241.380302482, 798192.7588848479, 798144.1698333438, 798095.6131157776, 798047.0886999972, 797998.5965538914, 797950.1366453883, 797901.7089424557, 797853.3134131016, 797804.9500253735, 797756.6187473597, 797708.3195471866, 797660.0523930219, 797611.8172530709, 797563.6140955808, 797515.4428888361, 797467.303601162, 797419.1962009224, 797371.1206565213, 797323.076936401, 797275.0650090432, 797227.0848429692, 797179.1364067389, 797131.2196689517, 797083.3345982451, 797035.4811632965, 796987.659332821, 796939.869075574, 796892.1103603478, 796844.3831559751, 796796.6874313263, 796749.0231553098, 796701.3902968741, 796653.7888250051, 796606.2187087266, 796558.6799171017, 796511.172419232, 796463.6961842558, 796416.2511813513, 796368.8373797337, 796321.4547486561, 796274.1032574116, 796226.7828753283, 796179.4935717742, 796132.2353161549, 796085.008077913, 796037.8118265296, 795990.6465315227, 795943.5121624493, 795896.4086889024, 795849.3360805133, 795802.2943069506, 795755.2833379206, 795708.303143166, 795661.3536924685, 795614.4349556456, 795567.5469025524, 795520.689503081, 795473.8627271607, 795427.066544758, 795380.3009258766, 795333.5658405568, 795286.8612588746, 795240.1871509454, 795193.5434869193, 795146.9302369835, 795100.3473713627, 795053.7948603167, 795007.2726741437, 794960.7807831768, 794914.3191577864, 794867.8877683795, 794821.4865853983, 794775.1155793227, 794728.7747206675, 794682.4639799846, 794636.183327862, 794589.9327349238, 794543.7121718292, 794497.5216092746, 794451.3610179911, 794405.2303687475, 794359.1296323464, 794313.0587796276, 794267.0177814655, 794221.0066087717, 794175.025232492, 794129.0736236078, 794083.1517531372, 794037.2595921325, 793991.3971116826, 793945.5642829108, 793899.7610769753, 793853.9874650717, 793808.2434184288, 793762.528908311, 793716.8439060184, 793671.188382885, 793625.5623102814, 793579.9656596122, 793534.3984023167, 793488.8605098696, 793443.3519537807, 793397.8727055936, 793352.422736887, 793307.0020192747, 793261.6105244049, 793216.24822396, 793170.9150896572, 793125.6110932484, 793080.336206519, 793035.0904012903, 792989.873649417, 792944.6859227873, 792899.5271933252, 792854.3974329879, 792809.2966137673, 792764.2247076887, 792719.1816868115, 792674.1675232297, 792629.1821890711, 792584.2256564967, 792539.2978977022, 792494.3988849163, 792449.528590402, 792404.6869864559, 792359.8740454079, 792315.0897396221, 792270.334041496, 792225.6069234596, 792180.9083579782, 792136.2383175483, 792091.5967747018, 792046.9837020026, 792002.3990720488, 791957.8428574706, 791913.3150309327, 791868.8155651314, 791824.3444327975, 791779.9016066937, 791735.487059617, 791691.1007643954, 791646.7426938919, 791602.4128210008, 791558.1111186502, 791513.8375598001, 791469.5921174441, 791425.3747646072, 791381.1854743487, 791337.0242197587, 791292.890973961, 791248.7857101116, 791204.7084013991, 791160.6590210438, 791116.6375422989, 791072.6439384498, 791028.678182814, 790984.7402487415, 790940.8301096143, 790896.9477388462, 790853.0931098834, 790809.2661962042, 790765.4669713186, 790721.6954087687, 790677.9514821282, 790634.235165003, 790590.546431031, 790546.8852538811, 790503.2516072543, 790459.6454648834, 790416.0668005325, 790372.5155879975, 790328.9918011058, 790285.4954137164, 790242.0263997192, 790198.5847330362, 790155.1703876202, 790111.7833374558, 790068.4235565583, 790025.0910189747, 789981.7856987827, 789938.5075700919, 789895.2566070416, 789852.0327838035, 789808.8360745801, 789765.6664536042, 789722.52389514, 789679.4083734821, 789636.3198629568, 789593.2583379204, 789550.2237727601, 789507.2161418938, 789464.2354197706, 789421.281580869, 789378.354599699, 789335.4544508014, 789292.5811087462, 789249.7345481355, 789206.9147436, 789164.1216698022, 789121.3553014345, 789078.6156132193, 789035.9025799092, 788993.2161762873, 788950.5563771664, 788907.9231573899, 788865.3164918311, 788822.7363553932, 788780.1827230095, 788737.6555696424, 788695.154870286, 788652.680599963, 788610.2327337255, 788567.8112466562, 788525.4161138675, 788483.0473105005, 788440.7048117279, 788398.3885927498, 788356.0986287971, 788313.8348951298, 788271.5973670378, 788229.3860198399, 788187.2008288848, 788145.0417695496, 788102.9088172426, 788060.801947399, 788018.721135485, 787976.6663569954, 787934.6375874535, 787892.6348024129, 787850.6579774554, 787808.7070881922, 787766.7821102636, 787724.8830193387, 787683.0097911143, 787641.1624013189, 787599.3408257071, 787557.5450400632, 787515.7750202009, 787474.0307419618, 787432.3121812162, 787390.6193138635, 787348.9521158313, 787307.3105630759, 787265.6946315819, 787224.1042973629, 787182.5395364604, 787141.0003249442, 787099.4866389128, 787057.998454493, 787016.5357478395, 786975.0984951358, 786933.6866725932, 786892.3002564512, 786850.9392229773, 786809.603548467, 786768.2932092446, 786727.0081816614, 786685.7484420972, 786644.5139669597, 786603.3047326844, 786562.1207157344, 786520.961892601, 786479.828239803, 786438.7197338869, 786397.6363514272, 786356.5780690258, 786315.5448633119, 786274.5367109433, 786233.5535886043, 786192.595473007, 786151.6623408905, 786110.7541690223, 786069.8709341974, 786029.0126132368, 785988.1791829899, 785947.3706203325, 785906.5869021688, 785865.8280054294, 785825.0939070715, 785784.3845840809, 785743.7000134694, 785703.0401722763, 785662.4050375675, 785621.7945864365, 785581.2087960029, 785540.6476434139, 785500.111105843, 785459.5991604915, 785419.111784586, 785378.648955381, 785338.2106501576, 785297.7968462225, 785257.407520911, 785217.0426515833, 785176.7022156267, 785136.3861904547, 785096.0945535087, 785055.8272822541, 785015.5843541853, 784975.3657468212, 784935.1714377082, 784895.0014044185, 784854.8556245499, 784814.7340757282, 784774.6367356036, 784734.5635818536, 784694.5145921813, 784654.4897443164, 784614.4890160138, 784574.5123850554, 784534.559829248, 784494.6313264255, 784454.7268544467, 784414.8463911972, 784374.9899145879, 784335.1574025557, 784295.3488330629, 784255.5641840979, 784215.8034336746, 784176.0665598331, 784136.3535406382, 784096.6643541813, 784056.9989785783, 784017.357391972, 783977.7395725291, 783938.1454984433, 783898.5751479322, 783859.0284992399, 783819.5055306358, 783780.0062204141, 783740.5305468943, 783701.0784884217, 783661.6500233661, 783622.2451301236, 783582.8637871136, 783543.5059727827, 783504.1716656013, 783464.8608440653, 783425.5734866946, 783386.309572036, 783347.0690786596, 783307.8519851611, 783268.658270161, 783229.4879123042, 783190.3408902615, 783151.2171827272, 783112.1167684211, 783073.0396260874, 783033.9857344957, 782994.9550724385, 782955.9476187347, 782916.9633522271, 782878.0022517826, 782839.0642962935, 782800.1494646759, 782761.2577358708, 782722.3890888426, 782683.5435025815, 782644.720956101, 782605.9214284392, 782567.1448986594, 782528.3913458469, 782489.6607491134, 782450.9530875937, 782412.2683404469, 782373.6064868567, 782334.9675060296, 782296.3513771979, 782257.7580796167, 782219.1875925653, 782180.6398953467, 782142.1149672889, 782103.6127877422, 782065.1333360822, 782026.6765917072, 781988.2425340402, 781949.8311425272, 781911.4423966381, 781873.0762758671, 781834.732759731, 781796.4118277712, 781758.1134595523, 781719.8376346622, 781681.5843327125, 781643.3535333386, 781605.1452161988, 781566.9593609753, 781528.7959473738, 781490.6549551227, 781452.5363639746, 781414.4401537047, 781376.3663041114, 781338.314795017, 781300.2856062668, 781262.2787177289, 781224.2941092951, 781186.3317608798, 781148.3916524207, 781110.4737638783, 781072.5780752372, 781034.7045665032, 780996.8532177062, 780959.0240088999, 780921.2169201585, 780883.4319315811, 780845.6690232891, 780807.9281754261, 780770.2093681593, 780732.5125816781, 780694.837796195, 780657.1849919446, 780619.5541491848, 780581.9452481961, 780544.3582692815, 780506.7931927657, 780469.249998997, 780431.7286683458, 780394.2291812053, 780356.7515179905, 780319.2956591395, 780281.8615851123, 780244.4492763913, 780207.0587134818, 780169.6898769102, 780132.3427472265, 780095.017305002, 780057.7135308301, 780020.4314053282, 779983.1709091328, 779945.932022905, 779908.7147273269, 779871.519003103, 779834.3448309599, 779797.1921916456, 779760.0610659305, 779722.9514346069, 779685.8632784892, 779648.7965784133, 779611.7513152371, 779574.7274698404, 779537.7250231253, 779500.7439560138, 779463.7842494522, 779426.8458844064, 779389.9288418648, 779353.033102838, 779316.158648357, 779279.3054594758, 779242.4735172683, 779205.6628028316, 779168.8732972833, 779132.1049817622, 779095.3578374296, 779058.6318454673, 779021.9269870791, 778985.2432434899, 778948.5805959452, 778911.9390257136, 778875.3185140829, 778838.7190423638, 778802.1405918872, 778765.5831440059, 778729.0466800928, 778692.531181543, 778656.0366297722, 778619.5630062176, 778583.110292337, 778546.6784696088, 778510.2675195338, 778473.8774236321, 778437.5081634457, 778401.1597205382, 778364.832076492, 778328.5252129119, 778292.2391114238, 778255.9737536733, 778219.7291213268, 778183.5051960725, 778147.3019596186, 778111.1193936941, 778074.957480048, 778038.8162004512, 778002.6955366947, 777966.5954705896, 777930.5159839678, 777894.4570586819, 777858.418676605, 777822.4008196302, 777786.4034696718, 777750.4266086642, 777714.4702185614, 777678.5342813393, 777642.6187789927, 777606.7236935373, 777570.8490070094, 777534.994701465, 777499.1607589802, 777463.3471616523, 777427.5538915977, 777391.7809309532, 777356.0282618761, 777320.2958665434, 777284.5837271523, 777248.8918259202, 777213.2201450841, 777177.5686669012, 777141.9373736491, 777106.3262476247, 777070.7352711443, 777035.1644265462, 776999.6136961859, 776964.0830624405, 776928.5725077062, 776893.0820143996, 776857.6115649559, 776822.1611418314, 776786.7307275005, 776751.3203044591, 776715.9298552213, 776680.5593623215, 776645.2088083134, 776609.8781757705, 776574.5674472854, 776539.2766054709, 776504.0056329591, 776468.7545124007, 776433.5232264671, 776398.3117578481, 776363.1200892539, 776327.948203413, 776292.7960830737, 776257.6637110036, 776222.5510699901, 776187.4581428387, 776152.3849123756, 776117.3313614442, 776082.2974729093, 776047.2832296536, 776012.2886145785, 775977.3136106065, 775942.358200677, 775907.4223677489, 775872.506094801, 775837.6093648312, 775802.732160855, 775767.8744659079, 775733.0362630443, 775698.2175353374, 775663.4182658789, 775628.6384377797, 775593.8780341697, 775559.1370381974, 775524.4154330298, 775489.7132018532, 775455.0303278719, 775420.36679431, 775385.7225844096, 775351.0976814312, 775316.4920686546, 775281.9057293776, 775247.3386469168, 775212.7908046076, 775178.2621858041, 775143.7527738777, 775109.2625522199, 775074.7915042397, 775040.3396133647, 775005.9068630411, 774971.4932367336, 774937.0987179244, 774902.7232901154, 774868.3669368259, 774834.0296415936, 774799.7113879743, 774765.4121595428, 774731.1319398917, 774696.8707126314, 774662.6284613911, 774628.405169818, 774594.200821577, 774560.0154003516, 774525.8488898427, 774491.7012737711, 774457.5725358734, 774423.462659905, 774389.3716296399, 774355.2994288692, 774321.2460414023, 774287.2114510667, 774253.1956417076, 774219.1985971886, 774185.2203013899, 774151.2607382105, 774117.3198915671, 774083.397745394, 774049.4942836439, 774015.6094902855, 773981.7433493073, 773947.8958447143, 773914.0669605292, 773880.2566807925, 773846.4649895635, 773812.6918709163, 773778.9373089453, 773745.2012877611, 773711.4837914923, 773677.7848042846, 773644.1043103012, 773610.4422937238, 773576.7987387496, 773543.1736295952, 773509.5669504934, 773475.9786856946, 773442.4088194666, 773408.8573360948, 773375.3242198812, 773341.8094551462, 773308.313026226, 773274.8349174754, 773241.3751132656, 773207.9335979852, 773174.5103560399, 773141.1053718526, 773107.7186298638, 773074.3501145301, 773040.9998103261, 773007.6677017426, 772974.3537732883, 772941.0580094887, 772907.7803948857, 772874.520914039, 772841.2795515242, 772808.056291935, 772774.8511198813, 772741.6640199899, 772708.4949769049, 772675.3439752866, 772642.2109998129, 772609.0960351772, 772575.9990660915, 772542.9200772826, 772509.8590534958, 772476.8159794923, 772443.790840049, 772410.7836199614, 772377.7943040403, 772344.8228771137, 772311.8693240257, 772278.9336296374, 772246.0157788265, 772213.115756487, 772180.2335475294, 772147.3691368811, 772114.522509485, 772081.6936503015, 772048.8825443073, 772016.0891764946, 771983.3135318732, 771950.5555954683, 771917.8153523223, 771885.0927874933, 771852.387886055, 771819.7006330992, 771787.0310137329, 771754.3790130793, 771721.7446162777, 771689.1278084841, 771656.528574871, 771623.9469006252, 771591.3827709521, 771558.8361710713, 771526.3070862195, 771493.7955016496, 771461.3014026296, 771428.8247744442, 771396.365602394, 771363.9238717961, 771331.499567982, 771299.092676301, 771266.7031821178, 771234.3310708122, 771201.9763277805, 771169.6389384351, 771137.3188882035, 771105.0161625299, 771072.7307468734, 771040.4626267104, 771008.2117875312, 770975.9782148427, 770943.761894168, 770911.5628110447, 770879.3809510279, 770847.2162996861, 770815.0688426056, 770782.9385653866, 770750.825453646, 770718.729493016, 770686.6506691444, 770654.5889676944, 770622.5443743444, 770590.5168747891, 770558.5064547383, 770526.5130999172, 770494.5367960666, 770462.577528942, 770430.6352843157, 770398.7100479745, 770366.8018057205, 770334.9105433712, 770303.0362467598, 770271.178901735, 770239.3384941595, 770207.5150099125, 770175.7084348879, 770143.9187549957, 770112.1459561602, 770080.3900243206, 770048.6509454324, 770016.9287054652, 769985.2232904043, 769953.5346862506, 769921.8628790188, 769890.2078547399, 769858.569599459, 769826.9480992369, 769795.3433401494, 769763.755308287, 769732.183989755, 769700.6293706741, 769669.0914371802, 769637.5701754233, 769606.0655715688, 769574.577611797, 769543.1062823028, 769511.6515692965, 769480.2134590027, 769448.7919376607, 769417.3869915254, 769385.9986068655, 769354.6267699653, 769323.2714671231, 769291.9326846523, 769260.610408881, 769229.3046261522, 769198.0153228227, 769166.7424852651, 769135.4860998661, 769104.2461530265, 769073.0226311624, 769041.8155207045, 769010.6248080975, 768979.450479801, 768948.2925222889, 768917.1509220499, 768886.0256655872, 768854.9167394176, 768823.8241300734, 768792.7478241011, 768761.6878080614, 768730.6440685291, 768699.6165920938, 768668.6053653599, 768637.6103749444, 768606.6316074809, 768575.6690496157, 768544.7226880097, 768513.7925093389, 768482.8785002922, 768451.9806475732, 768421.0989379005, 768390.2333580061, 768359.3838946361, 768328.5505345516, 768297.7332645261, 768266.9320713495, 768236.1469418241, 768205.3778627669, 768174.6248210088, 768143.887803395, 768113.1667967846, 768082.4617880502, 768051.7727640796, 768021.0997117732, 767990.4426180465, 767959.801469828, 767929.1762540609, 767898.5669577019, 767867.9735677211, 767837.3960711036, 767806.8344548478, 767776.2887059656, 767745.7588114832, 767715.2447584403, 767684.7465338907, 767654.2641249015, 767623.7975185541, 767593.3467019428, 767562.9116621771, 767532.4923863783, 767502.0888616828, 767471.7010752402, 767441.3290142136, 767410.9726657796, 767380.6320171296, 767350.3070554669, 767319.9977680091, 767289.7041419875, 767259.4261646473, 767229.1638232465, 767198.9171050565, 767168.6859973628, 767138.4704874643, 767108.2705626733, 767078.0862103153, 767047.9174177292, 767017.7641722678, 766987.6264612963, 766957.5042721947, 766927.3975923555, 766897.306409184, 766867.2307101003, 766837.170482536, 766807.125713938, 766777.0963917648, 766747.0825034889, 766717.0840365961, 766687.1009785848, 766657.1333169675, 766627.1810392692, 766597.2441330286, 766567.3225857968, 766537.4163851391, 766507.525518633, 766477.6499738689, 766447.789738452, 766417.9447999989, 766388.1151461393, 766358.300764517, 766328.5016427884, 766298.7177686221, 766268.9491297007, 766239.1957137195, 766209.4575083868, 766179.7345014232, 766150.0266805636, 766120.3340335541, 766090.6565481549, 766060.9942121393, 766031.3470132924, 766001.7149394124, 765972.0979783111, 765942.4961178128, 765912.909345754, 765883.3376499842, 765853.7810183665, 765824.2394387758, 765794.7128991002, 765765.2013872403, 765735.7048911094, 765706.2233986334, 765676.756897752, 765647.305376416, 765617.8688225892, 765588.4472242485, 765559.0405693835, 765529.6488459957, 765500.2720420997, 765470.910145723, 765441.5631449046, 765412.2310276971, 765382.9137821647, 765353.6113963849, 765324.3238584471, 765295.0511564534, 765265.7932785188, 765236.5502127699, 765207.3219473462, 765178.1084703997, 765148.9097700948, 765119.7258346076, 765090.5566521275, 765061.4022108553, 765032.2624990053, 765003.1375048032, 764974.0272164874, 764944.9316223084, 764915.8507105288, 764886.7844694242, 764857.7328872816, 764828.6959524008, 764799.6736530933, 764770.6659776832, 764741.6729145066, 764712.6944519123, 764683.7305782601, 764654.7812819232, 764625.8465512858, 764596.9263747452, 764568.0207407102, 764539.1296376016, 764510.2530538525, 764481.3909779085, 764452.5433982265, 764423.7103032755, 764394.8916815367, 764366.0875215033, 764337.2978116808, 764308.5225405856, 764279.7616967472, 764251.0152687068, 764222.2832450165, 764193.5656142416, 764164.8623649589, 764136.1734857567, 764107.4989652352, 764078.8387920072, 764050.1929546962, 764021.5614419383, 763992.9442423811, 763964.3413446841, 763935.7527375187, 763907.1784095676, 763878.6183495255, 763850.0725460993, 763821.5409880062, 763793.0236639766, 763764.5205627524, 763736.0316730862, 763707.5569837432, 763679.0964834996, 763650.6501611437, 763622.2180054752, 763593.8000053051, 763565.396149457, 763537.0064267647, 763508.630826074, 763480.2693362434, 763451.9219461413, 763423.5886446482, 763395.2694206566, 763366.9642630698, 763338.6731608032, 763310.3961027826, 763282.1330779467, 763253.8840752442, 763225.6490836362, 763197.4280920946, 763169.2210896035, 763141.0280651572, 763112.8490077623, 763084.6839064365, 763056.5327502087, 763028.3955281187, 763000.2722292187, 762972.1628425714, 762944.0673572505, 762915.985762342, 762887.9180469421, 762859.8642001587, 762831.8242111108, 762803.7980689293, 762775.7857627551, 762747.7872817408, 762719.8026150503, 762691.8317518588, 762663.8746813522, 762635.9313927279, 762608.0018751937, 762580.0861179702, 762552.1841102868, 762524.295841385, 762496.4213005183, 762468.5604769499, 762440.7133599544, 762412.8799388179, 762385.0602028368, 762357.2541413185, 762329.4617435825, 762301.682998958, 762273.9178967857, 762246.166426417, 762218.4285772142, 762190.7043385509, 762162.9936998116, 762135.2966503907, 762107.6131796951, 762079.9432771408, 762052.2869321563, 762024.6441341793, 761997.0148726599, 761969.3991370576, 761941.7969168437, 761914.2082015001, 761886.6329805187, 761859.0712434031, 761831.5229796673, 761803.988178836, 761776.4668304443, 761748.9589240382, 761721.4644491748, 761693.9833954218, 761666.5157523566, 761639.0615095686, 761611.6206566569, 761584.1931832315, 761556.7790789128, 761529.3783333325, 761501.990936132, 761474.616876964, 761447.2561454906, 761419.9087313862, 761392.5746243345, 761365.2538140297, 761337.9462901773, 761310.6520424925, 761283.3710607011, 761256.1033345398, 761228.8488537559, 761201.6076081056, 761174.3795873577, 761147.1647812896, 761119.9631796912, 761092.7747723601, 761065.599549106, 761038.4374997489, 761011.2886141189, 760984.152882056, 760957.0302934115, 760929.9208380461, 760902.8245058312, 760875.7412866487, 760848.6711703903, 760821.6141469582, 760794.5702062646, 760767.539338233, 760740.5215327954, 760713.5167798958, 760686.5250694865, 760659.5463915319, 760632.5807360056, 760605.6280928913, 760578.6884521828, 760551.7618038849, 760524.8481380115, 760497.947444587, 760471.0597136463, 760444.1849352334, 760417.3230994036, 760390.4741962214, 760363.6382157619, 760336.8151481097, 760310.0049833598, 760283.2077116171, 760256.4233229967, 760229.6518076236, 760202.8931556323, 760176.1473571685, 760149.4144023859, 760122.6942814504, 760095.9869845364, 760069.2925018282, 760042.6108235209, 760015.941939819, 759989.2858409369, 759962.6425170981, 759936.0119585375, 759909.3941554993, 759882.7890982365, 759856.1967770134, 759829.6171821029, 759803.0503037891, 759776.4961323645, 759749.954658132, 759723.425871404, 759696.9097625036, 759670.4063217625, 759643.9155395228, 759617.4374061357, 759590.9719119627, 759564.5190473753, 759538.0788027534, 759511.6511684876, 759485.2361349786, 759458.8336926352, 759432.4438318773, 759406.0665431339, 759379.7018168437, 759353.3496434543, 759327.0100134239, 759300.68291722, 759274.3683453196, 759248.0662882094, 759221.776736385, 759195.4996803518, 759169.2351106259, 759142.9830177313, 759116.7433922024, 759090.516224583, 759064.3015054262, 759038.099225294, 759011.9093747594, 758985.7319444034, 758959.5669248173, 758933.4143066016, 758907.2740803657, 758881.146236729, 758855.0307663201, 758828.9276597773, 758802.8369077474, 758776.7585008881, 758750.6924298642, 758724.6386853523, 758698.5972580366, 758672.5681386112, 758646.5513177793, 758620.5467862538, 758594.5545347565, 758568.574554019, 758542.6068347817, 758516.6513677937, 758490.7081438145, 758464.7771536123, 758438.8583879644, 758412.9518376574, 758387.057493487, 758361.1753462586, 758335.305386786, 758309.4476058922, 758283.6019944105, 758257.768543182, 758231.9472430574, 758206.1380848971, 758180.3410595693, 758154.5561579529, 758128.7833709342, 758103.0226894097, 758077.2741042853, 758051.5376064742, 758025.8131869012, 758000.1008364976, 757974.4005462052, 757948.7123069743, 757923.0361097652, 757897.3719455452, 757871.7198052919, 757846.0796799925, 757820.4515606415, 757794.8354382432, 757769.2313038115, 757743.6391483683, 757718.0589629441, 757692.4907385798, 757666.9344663231, 757641.3901372332, 757615.8577423757, 757590.3372728259, 757564.8287196687, 757539.3320739976, 757513.8473269138, 757488.3744695287, 757462.9134929612, 757437.4643883406, 757412.0271468036, 757386.6017594968, 757361.188217574, 757335.7865121994, 757310.3966345453, 757285.0185757926, 757259.652327131, 757234.2978797589, 757208.9552248834, 757183.6243537206, 757158.305257495, 757132.9979274399, 757107.7023547965, 757082.4185308167, 757057.1464467584, 757031.88609389, 757006.6374634879, 756981.4005468371, 756956.1753352315, 756930.9618199732, 756905.7599923726, 756880.5698437497, 756855.3913654328, 756830.2245487573, 756805.0693850692, 756779.9258657219, 756754.7939820776, 756729.6737255068, 756704.5650873886, 756679.4680591107, 756654.3826320695, 756629.3087976696, 756604.2465473237, 756579.1958724536, 756554.1567644888, 756529.1292148685, 756504.1132150389, 756479.1087564554, 756454.1158305819, 756429.1344288901, 756404.164542861, 756379.2061639826, 756354.2592837522, 756329.3238936762, 756304.3999852674, 756279.4875500486, 756254.5865795499, 756229.6970653106, 756204.8189988778, 756179.9523718066, 756155.0971756609, 756130.2534020129, 756105.4210424426, 756080.6000885388, 756055.7905318982, 756030.9923641256, 756006.2055768344, 755981.4301616462, 755956.6661101903, 755931.9134141051, 755907.1720650363, 755882.4420546384, 755857.7233745737, 755833.0160165126, 755808.3199721341, 755783.6352331247, 755758.9617911801, 755734.2996380028, 755709.6487653045, 755685.009164804, 755660.380828229, 755635.7637473156, 755611.1579138066, 755586.5633194541, 755561.9799560173, 755537.4078152647, 755512.8468889721, 755488.2971689228, 755463.7586469089, 755439.2313147304, 755414.715164195, 755390.2101871188, 755365.7163753255, 755341.2337206467, 755316.7622149228, 755292.3018500011, 755267.8526177373, 755243.4145099951, 755218.9875186458, 755194.5716355696, 755170.1668526531, 755145.7731617921, 755121.3905548893, 755097.0190238561, 755072.6585606117, 755048.3091570819, 755023.9708052024, 754999.6434969149, 754975.3272241703, 754951.0219789263, 754926.727753149, 754902.4445388125, 754878.1723278979, 754853.9111123946, 754829.6608843001, 754805.4216356188, 754781.1933583639, 754756.9760445557, 754732.7696862222, 754708.574275399, 754684.3898041304, 754660.2162644673, 754636.0536484685, 754611.9019482016, 754587.7611557404, 754563.6312631675, 754539.512262572, 754515.4041460521, 754491.3069057122, 754467.2205336659, 754443.1450220327, 754419.0803629417, 754395.0265485274, 754370.9835709339, 754346.9514223116, 754322.9300948193, 754298.9195806227, 754274.9198718957, 754250.9309608194, 754226.9528395827, 754202.9855003816, 754179.0289354197, 754155.0831369092, 754131.1480970683, 754107.2238081236, 754083.3102623092, 754059.4074518661, 754035.5153690437, 754011.6340060981, 753987.7633552928, 753963.9034089, 753940.0541591977, 753916.215598472, 753892.3877190176, 753868.5705131341, 753844.7639731315, 753820.9680913246, 753797.1828600371, 753773.4082715998, 753749.6443183505, 753725.8909926348, 753702.148286806, 753678.4161932236, 753654.6947042551, 753630.983812276, 753607.2835096681, 753583.5937888215, 753559.9146421322, 753536.246062005, 753512.5880408515, 753488.9405710897, 753465.3036451463, 753441.6772554544, 753418.0613944547, 753394.4560545952, 753370.8612283306, 753347.2769081234, 753323.7030864434, 753300.1397557672, 753276.586908579, 753253.0445373701, 753229.5126346383, 753205.99119289, 753182.4802046375, 753158.9796624013, 753135.4895587079, 753112.0098860922, 753088.5406370955, 753065.0818042663, 753041.6333801601, 753018.1953573406, 752994.767728377, 752971.3504858465, 752947.9436223338, 752924.5471304298, 752901.161002733, 752877.7852318484, 752854.4198103893, 752831.0647309751, 752807.7199862318, 752784.3855687939, 752761.061471302, 752737.7476864033, 752714.444206753, 752691.1510250131, 752667.868133852, 752644.5955259457, 752621.3331939768, 752598.0811306352, 752574.8393286178, 752551.6077806283, 752528.3864793769, 752505.1754175815, 752481.9745879669, 752458.7839832642, 752435.6035962119, 752412.4334195557, 752389.2734460473, 752366.1236684461, 752342.9840795182, 752319.8546720365, 752296.7354387805, 752273.6263725373, 752250.5274661001, 752227.4387122696, 752204.3601038529, 752181.2916336639, 752158.2332945237, 752135.1850792599, 752112.1469807073, 752089.118991707, 752066.1011051073, 752043.0933137629, 752020.0956105359, 751997.1079882944, 751974.130439914, 751951.1629582765, 751928.2055362709, 751905.2581667928, 751882.3208427439]\n"
     ]
    }
   ],
   "source": [
    "print(lr.losses)"
   ]
  },
  {
   "cell_type": "code",
   "execution_count": null,
   "id": "8ab31cbd",
   "metadata": {},
   "outputs": [],
   "source": []
  }
 ],
 "metadata": {
  "kernelspec": {
   "display_name": "Python 3 (ipykernel)",
   "language": "python",
   "name": "python3"
  },
  "language_info": {
   "codemirror_mode": {
    "name": "ipython",
    "version": 3
   },
   "file_extension": ".py",
   "mimetype": "text/x-python",
   "name": "python",
   "nbconvert_exporter": "python",
   "pygments_lexer": "ipython3",
   "version": "3.9.12"
  }
 },
 "nbformat": 4,
 "nbformat_minor": 5
}
