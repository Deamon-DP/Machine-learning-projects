{
 "cells": [
  {
   "cell_type": "code",
   "execution_count": 1222,
   "id": "63045145",
   "metadata": {},
   "outputs": [],
   "source": [
    "import numpy as np\n",
    "import matplotlib.pyplot as plt\n",
    "from sklearn.metrics import mean_squared_error\n",
    "import pandas as pd\n",
    "import seaborn\n",
    "\n",
    "np.random.seed(42)\n",
    "\n",
    "%matplotlib inline"
   ]
  },
  {
   "cell_type": "code",
   "execution_count": 1223,
   "id": "e390c6bc",
   "metadata": {},
   "outputs": [],
   "source": [
    "df=pd.read_csv(\"diamonds.csv\")"
   ]
  },
  {
   "cell_type": "code",
   "execution_count": 1224,
   "id": "d0574308",
   "metadata": {},
   "outputs": [
    {
     "name": "stdout",
     "output_type": "stream",
     "text": [
      "<class 'pandas.core.frame.DataFrame'>\n",
      "RangeIndex: 53940 entries, 0 to 53939\n",
      "Data columns (total 11 columns):\n",
      " #   Column      Non-Null Count  Dtype  \n",
      "---  ------      --------------  -----  \n",
      " 0   Unnamed: 0  53940 non-null  int64  \n",
      " 1   carat       53940 non-null  float64\n",
      " 2   cut         53940 non-null  object \n",
      " 3   color       53940 non-null  object \n",
      " 4   clarity     53940 non-null  object \n",
      " 5   depth       53940 non-null  float64\n",
      " 6   table       53940 non-null  float64\n",
      " 7   price       53940 non-null  int64  \n",
      " 8   x           53940 non-null  float64\n",
      " 9   y           53940 non-null  float64\n",
      " 10  z           53940 non-null  float64\n",
      "dtypes: float64(6), int64(2), object(3)\n",
      "memory usage: 4.5+ MB\n"
     ]
    }
   ],
   "source": [
    "df.info()\n"
   ]
  },
  {
   "cell_type": "code",
   "execution_count": 1225,
   "id": "31da73d1",
   "metadata": {},
   "outputs": [],
   "source": [
    "dummies=pd.get_dummies(df.loc[:,[\"cut\",\"color\",\"clarity\"]])\n",
    "\n",
    "df[dummies.columns] = dummies\n",
    "df.drop(df.iloc[:,[0,2,3,4,5,6]],inplace=True, axis=1)\n"
   ]
  },
  {
   "cell_type": "code",
   "execution_count": 1226,
   "id": "db9e7a9e",
   "metadata": {},
   "outputs": [
    {
     "data": {
      "text/plain": [
       "((10788, 25), (43152, 25))"
      ]
     },
     "execution_count": 1226,
     "metadata": {},
     "output_type": "execute_result"
    }
   ],
   "source": [
    "train=df.sample(frac=0.8)\n",
    "test=df.drop(train.index)\n",
    "#train.drop(\"Unnamed: 0\",inplace=True, axis=1)\n",
    "#test.drop(\"Unnamed: 0\",inplace=True,axis=1)\n",
    "test.shape,train.shape"
   ]
  },
  {
   "cell_type": "code",
   "execution_count": 1227,
   "id": "fb273c4c",
   "metadata": {},
   "outputs": [
    {
     "data": {
      "text/plain": [
       "((43152, 25), (43152, 24))"
      ]
     },
     "execution_count": 1227,
     "metadata": {},
     "output_type": "execute_result"
    }
   ],
   "source": [
    "trainy=train[\"price\"].to_numpy()\n",
    "trainx=train.drop([\"price\"],axis=1)\n",
    "testy=test[\"price\"].to_numpy()\n",
    "\n",
    "testx=test.drop([\"price\"],axis=1).to_numpy()\n",
    "\n",
    "trainx=trainx.to_numpy()\n",
    "testx.shape,testy.shape,trainx.shape[0]\n",
    "\n",
    "train.shape,trainx.shape"
   ]
  },
  {
   "cell_type": "code",
   "execution_count": 1228,
   "id": "35a54b87",
   "metadata": {},
   "outputs": [],
   "source": [
    "class Linear_regression:\n",
    "    def __init__(self,x,y,alpha=0.01):\n",
    "        self.x=x\n",
    "        self.y=y\n",
    "        self.alpha=alpha\n",
    "        self.samples,self.features=x.shape\n",
    "        self.theta=np.ones(shape=(self.features, 1))\n",
    "        #self.theta=np.reshape(self.theta,(self.theta.size,1))\n",
    "        \n",
    "    def predict(self,x):\n",
    "        return np.dot(x, self.theta)\n",
    "    \n",
    "    def training(self,n=1000):\n",
    "        while(n):\n",
    "            \n",
    "            self.y_hat=np.dot(self.x,self.theta)\n",
    "            temp=self.y-self.y_hat\n",
    "            \n",
    "            self.gradient=np.dot(self.x.T,temp)\n",
    "            #print(self.gradient.shape)            \n",
    "            self.theta=self.theta+((self.alpha/self.samples)*self.gradient)\n",
    "            #print(self.theta.shape)\n",
    "            n=n-1\n",
    "    \n",
    "        return self.theta\n",
    "    \n",
    "    def testing(self,x,theta):\n",
    "        self.test_x=x\n",
    "        self.test_y=np.dot(x,self.theta)\n",
    "        print(self.test_y)\n",
    "        return self.test_y\n",
    "        "
   ]
  },
  {
   "cell_type": "code",
   "execution_count": 1229,
   "id": "c3379372",
   "metadata": {},
   "outputs": [],
   "source": [
    "trainy=np.reshape(trainy,(trainy.size,1))\n",
    "testy=np.reshape(testy,(testy.size,1))\n"
   ]
  },
  {
   "cell_type": "code",
   "execution_count": 1230,
   "id": "82721ab8",
   "metadata": {},
   "outputs": [
    {
     "data": {
      "text/plain": [
       "((10788, 1), (43152, 25))"
      ]
     },
     "execution_count": 1230,
     "metadata": {},
     "output_type": "execute_result"
    }
   ],
   "source": [
    "bias_col = np.ones(shape=(trainx.shape[0], 1))\n",
    "trainx = np.hstack((bias_col, trainx))\n",
    "bias_col = np.ones(shape=(testx.shape[0], 1))\n",
    "\n",
    "testx=np.hstack((bias_col, testx))\n",
    "bias_col.shape,trainx.shape"
   ]
  },
  {
   "cell_type": "code",
   "execution_count": 1231,
   "id": "6f51ab7e",
   "metadata": {},
   "outputs": [
    {
     "data": {
      "text/plain": [
       "((43152, 25), (43152, 1))"
      ]
     },
     "execution_count": 1231,
     "metadata": {},
     "output_type": "execute_result"
    }
   ],
   "source": [
    "#trainx=trainx.transpose()\n",
    "trainx.shape,trainy.shape"
   ]
  },
  {
   "cell_type": "code",
   "execution_count": 1232,
   "id": "16e7e108",
   "metadata": {},
   "outputs": [
    {
     "data": {
      "text/plain": [
       "((43152, 25),\n",
       " (43152, 25),\n",
       " array([[1.  , 0.24, 3.97, ..., 0.  , 1.  , 0.  ],\n",
       "        [1.  , 0.58, 5.44, ..., 0.  , 0.  , 1.  ],\n",
       "        [1.  , 0.4 , 4.76, ..., 0.  , 0.  , 1.  ],\n",
       "        ...,\n",
       "        [1.  , 0.41, 4.71, ..., 0.  , 1.  , 0.  ],\n",
       "        [1.  , 1.09, 6.62, ..., 0.  , 0.  , 1.  ],\n",
       "        [1.  , 0.3 , 4.25, ..., 0.  , 0.  , 0.  ]]))"
      ]
     },
     "execution_count": 1232,
     "metadata": {},
     "output_type": "execute_result"
    }
   ],
   "source": [
    "train.shape,trainx.shape,trainx"
   ]
  },
  {
   "cell_type": "code",
   "execution_count": 1233,
   "id": "03cb6fc3",
   "metadata": {},
   "outputs": [
    {
     "data": {
      "text/plain": [
       "<__main__.Linear_regression at 0x7f43c019bc70>"
      ]
     },
     "execution_count": 1233,
     "metadata": {},
     "output_type": "execute_result"
    }
   ],
   "source": [
    "lr=Linear_regression(trainx,trainy)\n",
    "lr"
   ]
  },
  {
   "cell_type": "code",
   "execution_count": 1234,
   "id": "8ba3abef",
   "metadata": {},
   "outputs": [],
   "source": [
    "mp=lr.training(n=2000)"
   ]
  },
  {
   "cell_type": "code",
   "execution_count": 1235,
   "id": "a1c0e943",
   "metadata": {},
   "outputs": [
    {
     "data": {
      "text/plain": [
       "(array([[  80.66892791],\n",
       "        [3158.32574073],\n",
       "        [1680.64461303],\n",
       "        ...,\n",
       "        [1536.3659788 ],\n",
       "        [7201.85898387],\n",
       "        [ 150.14434338]]),\n",
       " array([[ 559],\n",
       "        [2201],\n",
       "        [1238],\n",
       "        ...,\n",
       "        [1169],\n",
       "        [8364],\n",
       "        [ 526]]))"
      ]
     },
     "execution_count": 1235,
     "metadata": {},
     "output_type": "execute_result"
    }
   ],
   "source": [
    "np.dot(lr.x, mp), trainy"
   ]
  },
  {
   "cell_type": "code",
   "execution_count": 1236,
   "id": "6f40cb28",
   "metadata": {},
   "outputs": [
    {
     "name": "stdout",
     "output_type": "stream",
     "text": [
      "[[ -349.65458232]\n",
      " [ -562.98795161]\n",
      " [-1094.57206909]\n",
      " ...\n",
      " [ 3492.75321194]\n",
      " [ 3179.26222235]\n",
      " [ 3153.10085599]]\n"
     ]
    },
    {
     "data": {
      "text/plain": [
       "(10788, 25)"
      ]
     },
     "execution_count": 1236,
     "metadata": {},
     "output_type": "execute_result"
    }
   ],
   "source": [
    "pred=lr.testing(testx,mp)\n",
    "testx.shape"
   ]
  },
  {
   "cell_type": "code",
   "execution_count": 1237,
   "id": "5a4de6d0",
   "metadata": {},
   "outputs": [
    {
     "data": {
      "text/plain": [
       "1789551.0821917276"
      ]
     },
     "execution_count": 1237,
     "metadata": {},
     "output_type": "execute_result"
    }
   ],
   "source": [
    "mean_squared_error(testy,pred)"
   ]
  },
  {
   "cell_type": "code",
   "execution_count": 1238,
   "id": "88fd4173",
   "metadata": {},
   "outputs": [
    {
     "data": {
      "text/plain": [
       "1922453.1964087524"
      ]
     },
     "execution_count": 1238,
     "metadata": {},
     "output_type": "execute_result"
    }
   ],
   "source": [
    "mean_squared_error(trainy, np.dot(lr.x, mp))"
   ]
  },
  {
   "cell_type": "code",
   "execution_count": 1239,
   "id": "b408b370",
   "metadata": {},
   "outputs": [],
   "source": [
    "from sklearn.linear_model import LinearRegression"
   ]
  },
  {
   "cell_type": "code",
   "execution_count": 1240,
   "id": "30f30122",
   "metadata": {},
   "outputs": [
    {
     "data": {
      "text/plain": [
       "LinearRegression(positive=True)"
      ]
     },
     "execution_count": 1240,
     "metadata": {},
     "output_type": "execute_result"
    }
   ],
   "source": [
    "sklr = LinearRegression(positive=True)\n",
    "sklr.fit(trainx, trainy)"
   ]
  },
  {
   "cell_type": "code",
   "execution_count": 1241,
   "id": "035951b8",
   "metadata": {},
   "outputs": [
    {
     "data": {
      "text/plain": [
       "array([[ -334.75],\n",
       "       [ -909.25],\n",
       "       [-2802.75],\n",
       "       ...,\n",
       "       [ 2780.5 ],\n",
       "       [ 3184.75],\n",
       "       [ 3293.75]])"
      ]
     },
     "execution_count": 1241,
     "metadata": {},
     "output_type": "execute_result"
    }
   ],
   "source": [
    "sklr.predict(testx)"
   ]
  },
  {
   "cell_type": "code",
   "execution_count": 1242,
   "id": "490bdbdc",
   "metadata": {},
   "outputs": [
    {
     "data": {
      "text/plain": [
       "array([[ 327],\n",
       "       [ 338],\n",
       "       [ 339],\n",
       "       ...,\n",
       "       [2756],\n",
       "       [2756],\n",
       "       [2757]])"
      ]
     },
     "execution_count": 1242,
     "metadata": {},
     "output_type": "execute_result"
    }
   ],
   "source": [
    "testy"
   ]
  },
  {
   "cell_type": "code",
   "execution_count": 1243,
   "id": "b716bd7d",
   "metadata": {},
   "outputs": [
    {
     "data": {
      "text/plain": [
       "1276381.9082893028"
      ]
     },
     "execution_count": 1243,
     "metadata": {},
     "output_type": "execute_result"
    }
   ],
   "source": [
    "mean_squared_error(testy, sklr.predict(testx))"
   ]
  },
  {
   "cell_type": "code",
   "execution_count": null,
   "id": "5cb4d929",
   "metadata": {},
   "outputs": [],
   "source": []
  }
 ],
 "metadata": {
  "kernelspec": {
   "display_name": "Python 3 (ipykernel)",
   "language": "python",
   "name": "python3"
  },
  "language_info": {
   "codemirror_mode": {
    "name": "ipython",
    "version": 3
   },
   "file_extension": ".py",
   "mimetype": "text/x-python",
   "name": "python",
   "nbconvert_exporter": "python",
   "pygments_lexer": "ipython3",
   "version": "3.9.12"
  }
 },
 "nbformat": 4,
 "nbformat_minor": 5
}
