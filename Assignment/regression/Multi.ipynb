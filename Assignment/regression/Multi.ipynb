{
 "cells": [
  {
   "cell_type": "code",
   "execution_count": 349,
   "id": "63045145",
   "metadata": {},
   "outputs": [],
   "source": [
    "import numpy as np\n",
    "import matplotlib.pyplot as plt\n",
    "import pandas as pd\n",
    "import seaborn as sns\n",
    "from pandas import DataFrame\n",
    "\n",
    "np.random.seed(42)\n",
    "\n",
    "%matplotlib inline"
   ]
  },
  {
   "cell_type": "code",
   "execution_count": 350,
   "id": "e390c6bc",
   "metadata": {},
   "outputs": [],
   "source": [
    "df=pd.read_csv(\"diamonds.csv\")\n"
   ]
  },
  {
   "cell_type": "code",
   "execution_count": 331,
   "id": "d0574308",
   "metadata": {},
   "outputs": [
    {
     "data": {
      "text/html": [
       "<div>\n",
       "<style scoped>\n",
       "    .dataframe tbody tr th:only-of-type {\n",
       "        vertical-align: middle;\n",
       "    }\n",
       "\n",
       "    .dataframe tbody tr th {\n",
       "        vertical-align: top;\n",
       "    }\n",
       "\n",
       "    .dataframe thead th {\n",
       "        text-align: right;\n",
       "    }\n",
       "</style>\n",
       "<table border=\"1\" class=\"dataframe\">\n",
       "  <thead>\n",
       "    <tr style=\"text-align: right;\">\n",
       "      <th></th>\n",
       "      <th>Unnamed: 0</th>\n",
       "      <th>carat</th>\n",
       "      <th>cut</th>\n",
       "      <th>color</th>\n",
       "      <th>clarity</th>\n",
       "      <th>depth</th>\n",
       "      <th>table</th>\n",
       "      <th>price</th>\n",
       "      <th>x</th>\n",
       "      <th>y</th>\n",
       "      <th>z</th>\n",
       "    </tr>\n",
       "  </thead>\n",
       "  <tbody>\n",
       "    <tr>\n",
       "      <th>0</th>\n",
       "      <td>1</td>\n",
       "      <td>0.23</td>\n",
       "      <td>Ideal</td>\n",
       "      <td>E</td>\n",
       "      <td>SI2</td>\n",
       "      <td>61.5</td>\n",
       "      <td>55.0</td>\n",
       "      <td>326</td>\n",
       "      <td>3.95</td>\n",
       "      <td>3.98</td>\n",
       "      <td>2.43</td>\n",
       "    </tr>\n",
       "    <tr>\n",
       "      <th>1</th>\n",
       "      <td>2</td>\n",
       "      <td>0.21</td>\n",
       "      <td>Premium</td>\n",
       "      <td>E</td>\n",
       "      <td>SI1</td>\n",
       "      <td>59.8</td>\n",
       "      <td>61.0</td>\n",
       "      <td>326</td>\n",
       "      <td>3.89</td>\n",
       "      <td>3.84</td>\n",
       "      <td>2.31</td>\n",
       "    </tr>\n",
       "    <tr>\n",
       "      <th>2</th>\n",
       "      <td>3</td>\n",
       "      <td>0.23</td>\n",
       "      <td>Good</td>\n",
       "      <td>E</td>\n",
       "      <td>VS1</td>\n",
       "      <td>56.9</td>\n",
       "      <td>65.0</td>\n",
       "      <td>327</td>\n",
       "      <td>4.05</td>\n",
       "      <td>4.07</td>\n",
       "      <td>2.31</td>\n",
       "    </tr>\n",
       "    <tr>\n",
       "      <th>3</th>\n",
       "      <td>4</td>\n",
       "      <td>0.29</td>\n",
       "      <td>Premium</td>\n",
       "      <td>I</td>\n",
       "      <td>VS2</td>\n",
       "      <td>62.4</td>\n",
       "      <td>58.0</td>\n",
       "      <td>334</td>\n",
       "      <td>4.20</td>\n",
       "      <td>4.23</td>\n",
       "      <td>2.63</td>\n",
       "    </tr>\n",
       "    <tr>\n",
       "      <th>4</th>\n",
       "      <td>5</td>\n",
       "      <td>0.31</td>\n",
       "      <td>Good</td>\n",
       "      <td>J</td>\n",
       "      <td>SI2</td>\n",
       "      <td>63.3</td>\n",
       "      <td>58.0</td>\n",
       "      <td>335</td>\n",
       "      <td>4.34</td>\n",
       "      <td>4.35</td>\n",
       "      <td>2.75</td>\n",
       "    </tr>\n",
       "    <tr>\n",
       "      <th>...</th>\n",
       "      <td>...</td>\n",
       "      <td>...</td>\n",
       "      <td>...</td>\n",
       "      <td>...</td>\n",
       "      <td>...</td>\n",
       "      <td>...</td>\n",
       "      <td>...</td>\n",
       "      <td>...</td>\n",
       "      <td>...</td>\n",
       "      <td>...</td>\n",
       "      <td>...</td>\n",
       "    </tr>\n",
       "    <tr>\n",
       "      <th>53935</th>\n",
       "      <td>53936</td>\n",
       "      <td>0.72</td>\n",
       "      <td>Ideal</td>\n",
       "      <td>D</td>\n",
       "      <td>SI1</td>\n",
       "      <td>60.8</td>\n",
       "      <td>57.0</td>\n",
       "      <td>2757</td>\n",
       "      <td>5.75</td>\n",
       "      <td>5.76</td>\n",
       "      <td>3.50</td>\n",
       "    </tr>\n",
       "    <tr>\n",
       "      <th>53936</th>\n",
       "      <td>53937</td>\n",
       "      <td>0.72</td>\n",
       "      <td>Good</td>\n",
       "      <td>D</td>\n",
       "      <td>SI1</td>\n",
       "      <td>63.1</td>\n",
       "      <td>55.0</td>\n",
       "      <td>2757</td>\n",
       "      <td>5.69</td>\n",
       "      <td>5.75</td>\n",
       "      <td>3.61</td>\n",
       "    </tr>\n",
       "    <tr>\n",
       "      <th>53937</th>\n",
       "      <td>53938</td>\n",
       "      <td>0.70</td>\n",
       "      <td>Very Good</td>\n",
       "      <td>D</td>\n",
       "      <td>SI1</td>\n",
       "      <td>62.8</td>\n",
       "      <td>60.0</td>\n",
       "      <td>2757</td>\n",
       "      <td>5.66</td>\n",
       "      <td>5.68</td>\n",
       "      <td>3.56</td>\n",
       "    </tr>\n",
       "    <tr>\n",
       "      <th>53938</th>\n",
       "      <td>53939</td>\n",
       "      <td>0.86</td>\n",
       "      <td>Premium</td>\n",
       "      <td>H</td>\n",
       "      <td>SI2</td>\n",
       "      <td>61.0</td>\n",
       "      <td>58.0</td>\n",
       "      <td>2757</td>\n",
       "      <td>6.15</td>\n",
       "      <td>6.12</td>\n",
       "      <td>3.74</td>\n",
       "    </tr>\n",
       "    <tr>\n",
       "      <th>53939</th>\n",
       "      <td>53940</td>\n",
       "      <td>0.75</td>\n",
       "      <td>Ideal</td>\n",
       "      <td>D</td>\n",
       "      <td>SI2</td>\n",
       "      <td>62.2</td>\n",
       "      <td>55.0</td>\n",
       "      <td>2757</td>\n",
       "      <td>5.83</td>\n",
       "      <td>5.87</td>\n",
       "      <td>3.64</td>\n",
       "    </tr>\n",
       "  </tbody>\n",
       "</table>\n",
       "<p>53940 rows × 11 columns</p>\n",
       "</div>"
      ],
      "text/plain": [
       "       Unnamed: 0  carat        cut color clarity  depth  table  price     x  \\\n",
       "0               1   0.23      Ideal     E     SI2   61.5   55.0    326  3.95   \n",
       "1               2   0.21    Premium     E     SI1   59.8   61.0    326  3.89   \n",
       "2               3   0.23       Good     E     VS1   56.9   65.0    327  4.05   \n",
       "3               4   0.29    Premium     I     VS2   62.4   58.0    334  4.20   \n",
       "4               5   0.31       Good     J     SI2   63.3   58.0    335  4.34   \n",
       "...           ...    ...        ...   ...     ...    ...    ...    ...   ...   \n",
       "53935       53936   0.72      Ideal     D     SI1   60.8   57.0   2757  5.75   \n",
       "53936       53937   0.72       Good     D     SI1   63.1   55.0   2757  5.69   \n",
       "53937       53938   0.70  Very Good     D     SI1   62.8   60.0   2757  5.66   \n",
       "53938       53939   0.86    Premium     H     SI2   61.0   58.0   2757  6.15   \n",
       "53939       53940   0.75      Ideal     D     SI2   62.2   55.0   2757  5.83   \n",
       "\n",
       "          y     z  \n",
       "0      3.98  2.43  \n",
       "1      3.84  2.31  \n",
       "2      4.07  2.31  \n",
       "3      4.23  2.63  \n",
       "4      4.35  2.75  \n",
       "...     ...   ...  \n",
       "53935  5.76  3.50  \n",
       "53936  5.75  3.61  \n",
       "53937  5.68  3.56  \n",
       "53938  6.12  3.74  \n",
       "53939  5.87  3.64  \n",
       "\n",
       "[53940 rows x 11 columns]"
      ]
     },
     "execution_count": 331,
     "metadata": {},
     "output_type": "execute_result"
    }
   ],
   "source": [
    "df"
   ]
  },
  {
   "cell_type": "code",
   "execution_count": 332,
   "id": "62593d7c",
   "metadata": {},
   "outputs": [
    {
     "data": {
      "text/plain": [
       "<AxesSubplot:>"
      ]
     },
     "execution_count": 332,
     "metadata": {},
     "output_type": "execute_result"
    },
    {
     "data": {
      "image/png": "[encoded data removed]",
      "text/plain": [
       "<Figure size 432x288 with 2 Axes>"
      ]
     },
     "metadata": {
      "needs_background": "light"
     },
     "output_type": "display_data"
    }
   ],
   "source": [
    "sns.heatmap(df[['price','depth','table','carat','x','y','z']].corr(), annot = True, fmt = '.2f', cmap = 'coolwarm')\n"
   ]
  },
  {
   "cell_type": "code",
   "execution_count": 333,
   "id": "0ae73a01",
   "metadata": {},
   "outputs": [],
   "source": [
    "df[\"table\"]=(df[\"table\"]-df[\"table\"].abs().min())/(df[\"table\"].abs().max()-df[\"table\"].abs().min())\n",
    "df[\"depth\"]=(df[\"depth\"]-df[\"depth\"].abs().min())/(df[\"depth\"].abs().max()-df[\"depth\"].abs().min())"
   ]
  },
  {
   "cell_type": "code",
   "execution_count": 334,
   "id": "31da73d1",
   "metadata": {},
   "outputs": [
    {
     "data": {
      "text/html": [
       "<div>\n",
       "<style scoped>\n",
       "    .dataframe tbody tr th:only-of-type {\n",
       "        vertical-align: middle;\n",
       "    }\n",
       "\n",
       "    .dataframe tbody tr th {\n",
       "        vertical-align: top;\n",
       "    }\n",
       "\n",
       "    .dataframe thead th {\n",
       "        text-align: right;\n",
       "    }\n",
       "</style>\n",
       "<table border=\"1\" class=\"dataframe\">\n",
       "  <thead>\n",
       "    <tr style=\"text-align: right;\">\n",
       "      <th></th>\n",
       "      <th>carat</th>\n",
       "      <th>depth</th>\n",
       "      <th>table</th>\n",
       "      <th>price</th>\n",
       "      <th>x</th>\n",
       "      <th>y</th>\n",
       "      <th>z</th>\n",
       "      <th>cut_Fair</th>\n",
       "      <th>cut_Good</th>\n",
       "      <th>cut_Ideal</th>\n",
       "      <th>...</th>\n",
       "      <th>color_I</th>\n",
       "      <th>color_J</th>\n",
       "      <th>clarity_I1</th>\n",
       "      <th>clarity_IF</th>\n",
       "      <th>clarity_SI1</th>\n",
       "      <th>clarity_SI2</th>\n",
       "      <th>clarity_VS1</th>\n",
       "      <th>clarity_VS2</th>\n",
       "      <th>clarity_VVS1</th>\n",
       "      <th>clarity_VVS2</th>\n",
       "    </tr>\n",
       "  </thead>\n",
       "  <tbody>\n",
       "    <tr>\n",
       "      <th>0</th>\n",
       "      <td>0.23</td>\n",
       "      <td>0.513889</td>\n",
       "      <td>0.230769</td>\n",
       "      <td>326</td>\n",
       "      <td>3.95</td>\n",
       "      <td>3.98</td>\n",
       "      <td>2.43</td>\n",
       "      <td>0</td>\n",
       "      <td>0</td>\n",
       "      <td>1</td>\n",
       "      <td>...</td>\n",
       "      <td>0</td>\n",
       "      <td>0</td>\n",
       "      <td>0</td>\n",
       "      <td>0</td>\n",
       "      <td>0</td>\n",
       "      <td>1</td>\n",
       "      <td>0</td>\n",
       "      <td>0</td>\n",
       "      <td>0</td>\n",
       "      <td>0</td>\n",
       "    </tr>\n",
       "    <tr>\n",
       "      <th>1</th>\n",
       "      <td>0.21</td>\n",
       "      <td>0.466667</td>\n",
       "      <td>0.346154</td>\n",
       "      <td>326</td>\n",
       "      <td>3.89</td>\n",
       "      <td>3.84</td>\n",
       "      <td>2.31</td>\n",
       "      <td>0</td>\n",
       "      <td>0</td>\n",
       "      <td>0</td>\n",
       "      <td>...</td>\n",
       "      <td>0</td>\n",
       "      <td>0</td>\n",
       "      <td>0</td>\n",
       "      <td>0</td>\n",
       "      <td>1</td>\n",
       "      <td>0</td>\n",
       "      <td>0</td>\n",
       "      <td>0</td>\n",
       "      <td>0</td>\n",
       "      <td>0</td>\n",
       "    </tr>\n",
       "    <tr>\n",
       "      <th>2</th>\n",
       "      <td>0.23</td>\n",
       "      <td>0.386111</td>\n",
       "      <td>0.423077</td>\n",
       "      <td>327</td>\n",
       "      <td>4.05</td>\n",
       "      <td>4.07</td>\n",
       "      <td>2.31</td>\n",
       "      <td>0</td>\n",
       "      <td>1</td>\n",
       "      <td>0</td>\n",
       "      <td>...</td>\n",
       "      <td>0</td>\n",
       "      <td>0</td>\n",
       "      <td>0</td>\n",
       "      <td>0</td>\n",
       "      <td>0</td>\n",
       "      <td>0</td>\n",
       "      <td>1</td>\n",
       "      <td>0</td>\n",
       "      <td>0</td>\n",
       "      <td>0</td>\n",
       "    </tr>\n",
       "    <tr>\n",
       "      <th>3</th>\n",
       "      <td>0.29</td>\n",
       "      <td>0.538889</td>\n",
       "      <td>0.288462</td>\n",
       "      <td>334</td>\n",
       "      <td>4.20</td>\n",
       "      <td>4.23</td>\n",
       "      <td>2.63</td>\n",
       "      <td>0</td>\n",
       "      <td>0</td>\n",
       "      <td>0</td>\n",
       "      <td>...</td>\n",
       "      <td>1</td>\n",
       "      <td>0</td>\n",
       "      <td>0</td>\n",
       "      <td>0</td>\n",
       "      <td>0</td>\n",
       "      <td>0</td>\n",
       "      <td>0</td>\n",
       "      <td>1</td>\n",
       "      <td>0</td>\n",
       "      <td>0</td>\n",
       "    </tr>\n",
       "    <tr>\n",
       "      <th>4</th>\n",
       "      <td>0.31</td>\n",
       "      <td>0.563889</td>\n",
       "      <td>0.288462</td>\n",
       "      <td>335</td>\n",
       "      <td>4.34</td>\n",
       "      <td>4.35</td>\n",
       "      <td>2.75</td>\n",
       "      <td>0</td>\n",
       "      <td>1</td>\n",
       "      <td>0</td>\n",
       "      <td>...</td>\n",
       "      <td>0</td>\n",
       "      <td>1</td>\n",
       "      <td>0</td>\n",
       "      <td>0</td>\n",
       "      <td>0</td>\n",
       "      <td>1</td>\n",
       "      <td>0</td>\n",
       "      <td>0</td>\n",
       "      <td>0</td>\n",
       "      <td>0</td>\n",
       "    </tr>\n",
       "    <tr>\n",
       "      <th>...</th>\n",
       "      <td>...</td>\n",
       "      <td>...</td>\n",
       "      <td>...</td>\n",
       "      <td>...</td>\n",
       "      <td>...</td>\n",
       "      <td>...</td>\n",
       "      <td>...</td>\n",
       "      <td>...</td>\n",
       "      <td>...</td>\n",
       "      <td>...</td>\n",
       "      <td>...</td>\n",
       "      <td>...</td>\n",
       "      <td>...</td>\n",
       "      <td>...</td>\n",
       "      <td>...</td>\n",
       "      <td>...</td>\n",
       "      <td>...</td>\n",
       "      <td>...</td>\n",
       "      <td>...</td>\n",
       "      <td>...</td>\n",
       "      <td>...</td>\n",
       "    </tr>\n",
       "    <tr>\n",
       "      <th>53935</th>\n",
       "      <td>0.72</td>\n",
       "      <td>0.494444</td>\n",
       "      <td>0.269231</td>\n",
       "      <td>2757</td>\n",
       "      <td>5.75</td>\n",
       "      <td>5.76</td>\n",
       "      <td>3.50</td>\n",
       "      <td>0</td>\n",
       "      <td>0</td>\n",
       "      <td>1</td>\n",
       "      <td>...</td>\n",
       "      <td>0</td>\n",
       "      <td>0</td>\n",
       "      <td>0</td>\n",
       "      <td>0</td>\n",
       "      <td>1</td>\n",
       "      <td>0</td>\n",
       "      <td>0</td>\n",
       "      <td>0</td>\n",
       "      <td>0</td>\n",
       "      <td>0</td>\n",
       "    </tr>\n",
       "    <tr>\n",
       "      <th>53936</th>\n",
       "      <td>0.72</td>\n",
       "      <td>0.558333</td>\n",
       "      <td>0.230769</td>\n",
       "      <td>2757</td>\n",
       "      <td>5.69</td>\n",
       "      <td>5.75</td>\n",
       "      <td>3.61</td>\n",
       "      <td>0</td>\n",
       "      <td>1</td>\n",
       "      <td>0</td>\n",
       "      <td>...</td>\n",
       "      <td>0</td>\n",
       "      <td>0</td>\n",
       "      <td>0</td>\n",
       "      <td>0</td>\n",
       "      <td>1</td>\n",
       "      <td>0</td>\n",
       "      <td>0</td>\n",
       "      <td>0</td>\n",
       "      <td>0</td>\n",
       "      <td>0</td>\n",
       "    </tr>\n",
       "    <tr>\n",
       "      <th>53937</th>\n",
       "      <td>0.70</td>\n",
       "      <td>0.550000</td>\n",
       "      <td>0.326923</td>\n",
       "      <td>2757</td>\n",
       "      <td>5.66</td>\n",
       "      <td>5.68</td>\n",
       "      <td>3.56</td>\n",
       "      <td>0</td>\n",
       "      <td>0</td>\n",
       "      <td>0</td>\n",
       "      <td>...</td>\n",
       "      <td>0</td>\n",
       "      <td>0</td>\n",
       "      <td>0</td>\n",
       "      <td>0</td>\n",
       "      <td>1</td>\n",
       "      <td>0</td>\n",
       "      <td>0</td>\n",
       "      <td>0</td>\n",
       "      <td>0</td>\n",
       "      <td>0</td>\n",
       "    </tr>\n",
       "    <tr>\n",
       "      <th>53938</th>\n",
       "      <td>0.86</td>\n",
       "      <td>0.500000</td>\n",
       "      <td>0.288462</td>\n",
       "      <td>2757</td>\n",
       "      <td>6.15</td>\n",
       "      <td>6.12</td>\n",
       "      <td>3.74</td>\n",
       "      <td>0</td>\n",
       "      <td>0</td>\n",
       "      <td>0</td>\n",
       "      <td>...</td>\n",
       "      <td>0</td>\n",
       "      <td>0</td>\n",
       "      <td>0</td>\n",
       "      <td>0</td>\n",
       "      <td>0</td>\n",
       "      <td>1</td>\n",
       "      <td>0</td>\n",
       "      <td>0</td>\n",
       "      <td>0</td>\n",
       "      <td>0</td>\n",
       "    </tr>\n",
       "    <tr>\n",
       "      <th>53939</th>\n",
       "      <td>0.75</td>\n",
       "      <td>0.533333</td>\n",
       "      <td>0.230769</td>\n",
       "      <td>2757</td>\n",
       "      <td>5.83</td>\n",
       "      <td>5.87</td>\n",
       "      <td>3.64</td>\n",
       "      <td>0</td>\n",
       "      <td>0</td>\n",
       "      <td>1</td>\n",
       "      <td>...</td>\n",
       "      <td>0</td>\n",
       "      <td>0</td>\n",
       "      <td>0</td>\n",
       "      <td>0</td>\n",
       "      <td>0</td>\n",
       "      <td>1</td>\n",
       "      <td>0</td>\n",
       "      <td>0</td>\n",
       "      <td>0</td>\n",
       "      <td>0</td>\n",
       "    </tr>\n",
       "  </tbody>\n",
       "</table>\n",
       "<p>53940 rows × 27 columns</p>\n",
       "</div>"
      ],
      "text/plain": [
       "       carat     depth     table  price     x     y     z  cut_Fair  cut_Good  \\\n",
       "0       0.23  0.513889  0.230769    326  3.95  3.98  2.43         0         0   \n",
       "1       0.21  0.466667  0.346154    326  3.89  3.84  2.31         0         0   \n",
       "2       0.23  0.386111  0.423077    327  4.05  4.07  2.31         0         1   \n",
       "3       0.29  0.538889  0.288462    334  4.20  4.23  2.63         0         0   \n",
       "4       0.31  0.563889  0.288462    335  4.34  4.35  2.75         0         1   \n",
       "...      ...       ...       ...    ...   ...   ...   ...       ...       ...   \n",
       "53935   0.72  0.494444  0.269231   2757  5.75  5.76  3.50         0         0   \n",
       "53936   0.72  0.558333  0.230769   2757  5.69  5.75  3.61         0         1   \n",
       "53937   0.70  0.550000  0.326923   2757  5.66  5.68  3.56         0         0   \n",
       "53938   0.86  0.500000  0.288462   2757  6.15  6.12  3.74         0         0   \n",
       "53939   0.75  0.533333  0.230769   2757  5.83  5.87  3.64         0         0   \n",
       "\n",
       "       cut_Ideal  ...  color_I  color_J  clarity_I1  clarity_IF  clarity_SI1  \\\n",
       "0              1  ...        0        0           0           0            0   \n",
       "1              0  ...        0        0           0           0            1   \n",
       "2              0  ...        0        0           0           0            0   \n",
       "3              0  ...        1        0           0           0            0   \n",
       "4              0  ...        0        1           0           0            0   \n",
       "...          ...  ...      ...      ...         ...         ...          ...   \n",
       "53935          1  ...        0        0           0           0            1   \n",
       "53936          0  ...        0        0           0           0            1   \n",
       "53937          0  ...        0        0           0           0            1   \n",
       "53938          0  ...        0        0           0           0            0   \n",
       "53939          1  ...        0        0           0           0            0   \n",
       "\n",
       "       clarity_SI2  clarity_VS1  clarity_VS2  clarity_VVS1  clarity_VVS2  \n",
       "0                1            0            0             0             0  \n",
       "1                0            0            0             0             0  \n",
       "2                0            1            0             0             0  \n",
       "3                0            0            1             0             0  \n",
       "4                1            0            0             0             0  \n",
       "...            ...          ...          ...           ...           ...  \n",
       "53935            0            0            0             0             0  \n",
       "53936            0            0            0             0             0  \n",
       "53937            0            0            0             0             0  \n",
       "53938            1            0            0             0             0  \n",
       "53939            1            0            0             0             0  \n",
       "\n",
       "[53940 rows x 27 columns]"
      ]
     },
     "execution_count": 334,
     "metadata": {},
     "output_type": "execute_result"
    }
   ],
   "source": [
    "dummies=pd.get_dummies(df.loc[:,[\"cut\",\"color\",\"clarity\"]])\n",
    "df[dummies.columns] = dummies\n",
    "df.drop(df.iloc[:,[0,2,3,4]],inplace=True, axis=1)\n",
    "df"
   ]
  },
  {
   "cell_type": "code",
   "execution_count": 335,
   "id": "db9e7a9e",
   "metadata": {},
   "outputs": [
    {
     "data": {
      "text/plain": [
       "((10788, 27), (43152, 27))"
      ]
     },
     "execution_count": 335,
     "metadata": {},
     "output_type": "execute_result"
    }
   ],
   "source": [
    "train=df.sample(frac=0.8)\n",
    "test=df.drop(train.index)\n",
    "test.shape,train.shape"
   ]
  },
  {
   "cell_type": "code",
   "execution_count": 336,
   "id": "fb273c4c",
   "metadata": {},
   "outputs": [
    {
     "data": {
      "text/plain": [
       "((43152, 27), (43152, 26))"
      ]
     },
     "execution_count": 336,
     "metadata": {},
     "output_type": "execute_result"
    }
   ],
   "source": [
    "trainy=train[\"price\"].to_numpy()\n",
    "trainx=train.drop([\"price\"],axis=1)\n",
    "testy=test[\"price\"].to_numpy()\n",
    "\n",
    "testx=test.drop([\"price\"],axis=1).to_numpy()\n",
    "\n",
    "trainx=trainx.to_numpy()\n",
    "testx.shape,testy.shape,trainx.shape[0]\n",
    "\n",
    "train.shape,trainx.shape"
   ]
  },
  {
   "cell_type": "code",
   "execution_count": 337,
   "metadata": {},
   "outputs": [],
   "source": [
    "def mean_squared_error(y_pred,test):\n",
    "    m,_=y_pred.shape\n",
    "    error=test-y_pred\n",
    "    sqrt_error=np.dot(error.T,error).item()\n",
    "    return sqrt_error/(2*m)\n",
    "\n"
   ]
  },
  {
   "cell_type": "code",
   "execution_count": 338,
   "id": "35a54b87",
   "metadata": {},
   "outputs": [],
   "source": [
    "class Linear_regression:\n",
    "    def __init__(self,x,y,alpha=0.01):\n",
    "        self.x=x\n",
    "        self.y=y\n",
    "        self.alpha=alpha\n",
    "        self.samples,self.features=x.shape\n",
    "        self.theta=np.ones(shape=(self.features, 1))\n",
    "        self.losses=[]\n",
    "        #self.theta=np.reshape(self.theta,(self.theta.size,1))\n",
    "        \n",
    "    def predict(self,x):\n",
    "        return np.dot(x, self.theta)\n",
    "    \n",
    "    def cost(self,theta):\n",
    "        temp=self.y-np.dot(self.x,theta)\n",
    "        loss=np.dot(temp.T,temp).item()\n",
    "        loss=loss/(2*(self.samples))\n",
    "        self.losses.append(loss)\n",
    "        \n",
    "    def training(self,n=1000):\n",
    "        while(n):\n",
    "            \n",
    "            self.y_hat=np.dot(self.x,self.theta)\n",
    "            temp=self.y-self.y_hat\n",
    "            \n",
    "            self.gradient=np.dot(self.x.T,temp)\n",
    "            #print(self.gradient.shape)            \n",
    "            self.theta=self.theta+((self.alpha/self.samples)*self.gradient)\n",
    "            self.cost(self.theta)\n",
    "            #print(self.theta.shape)\n",
    "            n=n-1\n",
    "    \n",
    "        return self.theta\n",
    "    \n",
    "    def testing(self,x,theta):\n",
    "        self.test_x=x\n",
    "        self.test_y=np.dot(x,self.theta)\n",
    "        print(self.test_y)\n",
    "        return self.test_y\n",
    "        "
   ]
  },
  {
   "cell_type": "code",
   "execution_count": 339,
   "id": "c3379372",
   "metadata": {},
   "outputs": [],
   "source": [
    "trainy=np.reshape(trainy,(trainy.size,1))\n",
    "testy=np.reshape(testy,(testy.size,1))\n"
   ]
  },
  {
   "cell_type": "code",
   "execution_count": 340,
   "id": "82721ab8",
   "metadata": {},
   "outputs": [
    {
     "data": {
      "text/plain": [
       "((10788, 1), (43152, 27))"
      ]
     },
     "execution_count": 340,
     "metadata": {},
     "output_type": "execute_result"
    }
   ],
   "source": [
    "bias_col = np.ones(shape=(trainx.shape[0], 1))\n",
    "trainx = np.hstack((bias_col, trainx))\n",
    "bias_col = np.ones(shape=(testx.shape[0], 1))\n",
    "\n",
    "testx=np.hstack((bias_col, testx))\n",
    "bias_col.shape,trainx.shape"
   ]
  },
  {
   "cell_type": "code",
   "execution_count": 341,
   "id": "6f51ab7e",
   "metadata": {},
   "outputs": [
    {
     "data": {
      "text/plain": [
       "((43152, 27), (43152, 1))"
      ]
     },
     "execution_count": 341,
     "metadata": {},
     "output_type": "execute_result"
    }
   ],
   "source": [
    "#trainx=trainx.transpose()\n",
    "trainx.shape,trainy.shape"
   ]
  },
  {
   "cell_type": "code",
   "execution_count": 342,
   "id": "16e7e108",
   "metadata": {},
   "outputs": [
    {
     "data": {
      "text/plain": [
       "((43152, 27),\n",
       " (43152, 27),\n",
       " array([[1.        , 0.24      , 0.53055556, ..., 0.        , 1.        ,\n",
       "         0.        ],\n",
       "        [1.        , 0.58      , 0.47222222, ..., 0.        , 0.        ,\n",
       "         1.        ],\n",
       "        [1.        , 0.4       , 0.53055556, ..., 0.        , 0.        ,\n",
       "         1.        ],\n",
       "        ...,\n",
       "        [1.        , 0.41      , 0.575     , ..., 0.        , 1.        ,\n",
       "         0.        ],\n",
       "        [1.        , 1.09      , 0.48888889, ..., 0.        , 0.        ,\n",
       "         1.        ],\n",
       "        [1.        , 0.3       , 0.54722222, ..., 0.        , 0.        ,\n",
       "         0.        ]]))"
      ]
     },
     "execution_count": 342,
     "metadata": {},
     "output_type": "execute_result"
    }
   ],
   "source": [
    "train.shape,trainx.shape,trainx"
   ]
  },
  {
   "cell_type": "code",
   "execution_count": 343,
   "id": "03cb6fc3",
   "metadata": {},
   "outputs": [],
   "source": [
    "model=Linear_regression(trainx,trainy)\n"
   ]
  },
  {
   "cell_type": "code",
   "execution_count": 344,
   "id": "8ba3abef",
   "metadata": {},
   "outputs": [],
   "source": [
    "mp=model.training(n=1000)"
   ]
  },
  {
   "cell_type": "code",
   "execution_count": 345,
   "id": "a1c0e943",
   "metadata": {},
   "outputs": [
    {
     "data": {
      "text/plain": [
       "(array([[ 232.755763  ],\n",
       "        [3204.10010859],\n",
       "        [1555.78968008],\n",
       "        ...,\n",
       "        [1637.90366455],\n",
       "        [6573.69994648],\n",
       "        [ 606.07879606]]),\n",
       " array([[ 559],\n",
       "        [2201],\n",
       "        [1238],\n",
       "        ...,\n",
       "        [1169],\n",
       "        [8364],\n",
       "        [ 526]]))"
      ]
     },
     "execution_count": 345,
     "metadata": {},
     "output_type": "execute_result"
    }
   ],
   "source": [
    "np.dot(model.x, mp), trainy"
   ]
  },
  {
   "cell_type": "code",
   "execution_count": 346,
   "id": "6f40cb28",
   "metadata": {},
   "outputs": [
    {
     "name": "stdout",
     "output_type": "stream",
     "text": [
      "[[ 160.20838119]\n",
      " [ 149.01509372]\n",
      " [ 166.44078432]\n",
      " ...\n",
      " [3910.77201057]\n",
      " [3389.8737843 ]\n",
      " [3193.36256829]]\n"
     ]
    }
   ],
   "source": [
    "pred=model.testing(testx,mp)\n"
   ]
  },
  {
   "cell_type": "code",
   "execution_count": 347,
   "id": "5a4de6d0",
   "metadata": {},
   "outputs": [
    {
     "data": {
      "text/plain": [
       "1276322.5587962246"
      ]
     },
     "execution_count": 347,
     "metadata": {},
     "output_type": "execute_result"
    }
   ],
   "source": [
    "mean_squared_error(testy,pred)\n"
   ]
  },
  {
   "cell_type": "code",
   "execution_count": 348,
   "id": "5cb4d929",
   "metadata": {},
   "outputs": [
    {
     "data": {
      "text/plain": [
       "[<matplotlib.lines.Line2D at 0x7fb6ed8a5ca0>]"
      ]
     },
     "execution_count": 348,
     "metadata": {},
     "output_type": "execute_result"
    },
    {
     "data": {
      "image/png": "[encoded data removed]",
      "text/plain": [
       "<Figure size 432x288 with 1 Axes>"
      ]
     },
     "metadata": {
      "needs_background": "light"
     },
     "output_type": "display_data"
    }
   ],
   "source": [
    "plt.plot(model.losses)"
   ]
  },
  {
   "cell_type": "code",
   "execution_count": null,
   "id": "a16f5186",
   "metadata": {},
   "outputs": [],
   "source": []
  },
  {
   "cell_type": "code",
   "execution_count": null,
   "id": "8ab31cbd",
   "metadata": {},
   "outputs": [],
   "source": []
  }
 ],
 "metadata": {
  "kernelspec": {
   "display_name": "Python 3.9.12 ('base')",
   "language": "python",
   "name": "python3"
  },
  "language_info": {
   "codemirror_mode": {
    "name": "ipython",
    "version": 3
   },
   "file_extension": ".py",
   "mimetype": "text/x-python",
   "name": "python",
   "nbconvert_exporter": "python",
   "pygments_lexer": "ipython3",
   "version": "3.9.12"
  },
  "vscode": {
   "interpreter": {
    "hash": "4f8f142234e09288c1108acfa4e7f050114881707fa4e9d885d67bf23b408219"
   }
  }
 },
 "nbformat": 4,
 "nbformat_minor": 5
}
